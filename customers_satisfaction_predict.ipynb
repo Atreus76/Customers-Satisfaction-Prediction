{
 "cells": [
  {
   "cell_type": "markdown",
   "metadata": {
    "id": "xXnSVVPJ9TpE"
   },
   "source": [
    "# 1.Tổng quan bài toán"
   ]
  },
  {
   "cell_type": "markdown",
   "metadata": {
    "id": "1j4J80LQ9TpK"
   },
   "source": [
    "Sự hài lòng của khách hàng là thước đo thành công hàng đầu đối với bất kỳ nâng hàng nào. Khách hàng không hài lòng thì sẽ không ở lại. Hơn nữa, những khách hàng không hài lòng hiếm khi nói lên sự không hài lòng của họ trước khi rời đi. Đó là vấn đề mà ngân hàng Santander đang yêu cầu mọi người giúp họ giải quyết bằng cách xác định sớm những khách hàng không hài lòng trong mối quan hệ giữa khách hàng và ngân hàng. Làm như vậy sẽ cho phép Santander thực hiện các bước chủ động để cải thiện sớm sự hài lòng của khách hàng trước khi quá muộn.\n",
    "\n",
    "\n",
    "Nguồn dữ liệu: [**source**](https://www.kaggle.com/c/santander-customer-satisfaction/overview)"
   ]
  },
  {
   "cell_type": "markdown",
   "metadata": {
    "id": "cwS_vIs_9TpO"
   },
   "source": [
    "## 1.1 Load các package cần thiết\n",
    "\n",
    "- Bước đầu tiên trong việc xây dựng mô hình là load các thư viện cần thiết."
   ]
  },
  {
   "cell_type": "code",
   "execution_count": 1,
   "metadata": {
    "id": "KOcajlIw9TpP"
   },
   "outputs": [],
   "source": [
    "import numpy as np\n",
    "import pandas as pd\n",
    "import matplotlib.pyplot as plt\n",
    "import seaborn as sns\n",
    "import warnings\n",
    "\n",
    "warnings.filterwarnings('ignore')\n",
    "%matplotlib inline"
   ]
  },
  {
   "cell_type": "markdown",
   "metadata": {
    "id": "XPxqiX9I9TpQ"
   },
   "source": [
    "## 1.2 Load tập dữ liệu\n",
    "\n",
    "- Bước tiếp theo là load tập dữ liệu."
   ]
  },
  {
   "cell_type": "code",
   "execution_count": 2,
   "metadata": {
    "id": "C-6eGg8o9TpR"
   },
   "outputs": [],
   "source": [
    "train = pd.read_csv('../Dataset/train.csv')\n",
    "test = pd.read_csv('../Dataset/test.csv')"
   ]
  },
  {
   "cell_type": "code",
   "execution_count": 3,
   "metadata": {
    "id": "wfNAVjXn9TpR"
   },
   "outputs": [],
   "source": [
    "test_id = test['ID']"
   ]
  },
  {
   "cell_type": "markdown",
   "metadata": {
    "id": "yGnBkzVi9TpS"
   },
   "source": [
    "# 2.Khai phá dữ liệu\n",
    "\n",
    "- Bây giờ, đã đến lúc khám phá dữ liệu để hiểu rõ hơn về nó."
   ]
  },
  {
   "cell_type": "markdown",
   "metadata": {
    "id": "CVPChEry9TpW"
   },
   "source": [
    "## 2.1 Tổng quan dữ liệu"
   ]
  },
  {
   "cell_type": "markdown",
   "metadata": {
    "id": "w24fYxCM9TpX"
   },
   "source": [
    "- Chúng ta sẽ loại bỏ đặc trưng **'ID'** bởi vì đặc trưng này không mang bất kỳ ý nghĩa nào trong việc xây dựng mô hình"
   ]
  },
  {
   "cell_type": "code",
   "execution_count": 4,
   "metadata": {
    "id": "srsiKPDn9TpY"
   },
   "outputs": [],
   "source": [
    "## Requirement 1:\n",
    "## PUT YOUR CODE HERE:\n",
    "\n",
    "train.drop('ID', axis=1, inplace = True)\n",
    "test.drop('ID', axis=1, inplace = True)"
   ]
  },
  {
   "cell_type": "code",
   "execution_count": 5,
   "metadata": {
    "id": "60xroVx79TpZ",
    "outputId": "c4db85f0-8451-40e0-ee6b-672fd4bb44f4"
   },
   "outputs": [
    {
     "data": {
      "text/plain": [
       "((76020, 370), (75818, 369))"
      ]
     },
     "execution_count": 5,
     "metadata": {},
     "output_type": "execute_result"
    }
   ],
   "source": [
    "## Requirement 2:\n",
    "## PUT YOUR CODE HERE:\n",
    "\n",
    "train.shape, test.shape"
   ]
  },
  {
   "cell_type": "markdown",
   "metadata": {
    "id": "v6VdKzkj9Tpb"
   },
   "source": [
    "- Chúng ta có thể thấy ở dự án này thì số lượng đặc trưng cần phải xử lý khá lớn, có tổng cộng 369 đặc trưng ở 2 tập dữ liệu dùng để huấn luyện và kiểm tra. Đặc trưng còn lại là **TARGET**, cũng chính là biến mục tiêu của chúng ta"
   ]
  },
  {
   "cell_type": "code",
   "execution_count": 6,
   "metadata": {
    "id": "riHLeoyd9Tpc",
    "outputId": "0da9d804-b058-4644-8f0f-22e4c4da1b92"
   },
   "outputs": [
    {
     "data": {
      "text/html": [
       "<div>\n",
       "<style scoped>\n",
       "    .dataframe tbody tr th:only-of-type {\n",
       "        vertical-align: middle;\n",
       "    }\n",
       "\n",
       "    .dataframe tbody tr th {\n",
       "        vertical-align: top;\n",
       "    }\n",
       "\n",
       "    .dataframe thead th {\n",
       "        text-align: right;\n",
       "    }\n",
       "</style>\n",
       "<table border=\"1\" class=\"dataframe\">\n",
       "  <thead>\n",
       "    <tr style=\"text-align: right;\">\n",
       "      <th></th>\n",
       "      <th>var3</th>\n",
       "      <th>var15</th>\n",
       "      <th>imp_ent_var16_ult1</th>\n",
       "      <th>imp_op_var39_comer_ult1</th>\n",
       "      <th>imp_op_var39_comer_ult3</th>\n",
       "      <th>imp_op_var40_comer_ult1</th>\n",
       "      <th>imp_op_var40_comer_ult3</th>\n",
       "      <th>imp_op_var40_efect_ult1</th>\n",
       "      <th>imp_op_var40_efect_ult3</th>\n",
       "      <th>imp_op_var40_ult1</th>\n",
       "      <th>...</th>\n",
       "      <th>saldo_medio_var33_hace2</th>\n",
       "      <th>saldo_medio_var33_hace3</th>\n",
       "      <th>saldo_medio_var33_ult1</th>\n",
       "      <th>saldo_medio_var33_ult3</th>\n",
       "      <th>saldo_medio_var44_hace2</th>\n",
       "      <th>saldo_medio_var44_hace3</th>\n",
       "      <th>saldo_medio_var44_ult1</th>\n",
       "      <th>saldo_medio_var44_ult3</th>\n",
       "      <th>var38</th>\n",
       "      <th>TARGET</th>\n",
       "    </tr>\n",
       "  </thead>\n",
       "  <tbody>\n",
       "    <tr>\n",
       "      <th>0</th>\n",
       "      <td>2</td>\n",
       "      <td>23</td>\n",
       "      <td>0.0</td>\n",
       "      <td>0.0</td>\n",
       "      <td>0.0</td>\n",
       "      <td>0.0</td>\n",
       "      <td>0.0</td>\n",
       "      <td>0.0</td>\n",
       "      <td>0.0</td>\n",
       "      <td>0.0</td>\n",
       "      <td>...</td>\n",
       "      <td>0.0</td>\n",
       "      <td>0.0</td>\n",
       "      <td>0.0</td>\n",
       "      <td>0.0</td>\n",
       "      <td>0.0</td>\n",
       "      <td>0.0</td>\n",
       "      <td>0.0</td>\n",
       "      <td>0.0</td>\n",
       "      <td>39205.170000</td>\n",
       "      <td>0</td>\n",
       "    </tr>\n",
       "    <tr>\n",
       "      <th>1</th>\n",
       "      <td>2</td>\n",
       "      <td>34</td>\n",
       "      <td>0.0</td>\n",
       "      <td>0.0</td>\n",
       "      <td>0.0</td>\n",
       "      <td>0.0</td>\n",
       "      <td>0.0</td>\n",
       "      <td>0.0</td>\n",
       "      <td>0.0</td>\n",
       "      <td>0.0</td>\n",
       "      <td>...</td>\n",
       "      <td>0.0</td>\n",
       "      <td>0.0</td>\n",
       "      <td>0.0</td>\n",
       "      <td>0.0</td>\n",
       "      <td>0.0</td>\n",
       "      <td>0.0</td>\n",
       "      <td>0.0</td>\n",
       "      <td>0.0</td>\n",
       "      <td>49278.030000</td>\n",
       "      <td>0</td>\n",
       "    </tr>\n",
       "    <tr>\n",
       "      <th>2</th>\n",
       "      <td>2</td>\n",
       "      <td>23</td>\n",
       "      <td>0.0</td>\n",
       "      <td>0.0</td>\n",
       "      <td>0.0</td>\n",
       "      <td>0.0</td>\n",
       "      <td>0.0</td>\n",
       "      <td>0.0</td>\n",
       "      <td>0.0</td>\n",
       "      <td>0.0</td>\n",
       "      <td>...</td>\n",
       "      <td>0.0</td>\n",
       "      <td>0.0</td>\n",
       "      <td>0.0</td>\n",
       "      <td>0.0</td>\n",
       "      <td>0.0</td>\n",
       "      <td>0.0</td>\n",
       "      <td>0.0</td>\n",
       "      <td>0.0</td>\n",
       "      <td>67333.770000</td>\n",
       "      <td>0</td>\n",
       "    </tr>\n",
       "    <tr>\n",
       "      <th>3</th>\n",
       "      <td>2</td>\n",
       "      <td>37</td>\n",
       "      <td>0.0</td>\n",
       "      <td>195.0</td>\n",
       "      <td>195.0</td>\n",
       "      <td>0.0</td>\n",
       "      <td>0.0</td>\n",
       "      <td>0.0</td>\n",
       "      <td>0.0</td>\n",
       "      <td>0.0</td>\n",
       "      <td>...</td>\n",
       "      <td>0.0</td>\n",
       "      <td>0.0</td>\n",
       "      <td>0.0</td>\n",
       "      <td>0.0</td>\n",
       "      <td>0.0</td>\n",
       "      <td>0.0</td>\n",
       "      <td>0.0</td>\n",
       "      <td>0.0</td>\n",
       "      <td>64007.970000</td>\n",
       "      <td>0</td>\n",
       "    </tr>\n",
       "    <tr>\n",
       "      <th>4</th>\n",
       "      <td>2</td>\n",
       "      <td>39</td>\n",
       "      <td>0.0</td>\n",
       "      <td>0.0</td>\n",
       "      <td>0.0</td>\n",
       "      <td>0.0</td>\n",
       "      <td>0.0</td>\n",
       "      <td>0.0</td>\n",
       "      <td>0.0</td>\n",
       "      <td>0.0</td>\n",
       "      <td>...</td>\n",
       "      <td>0.0</td>\n",
       "      <td>0.0</td>\n",
       "      <td>0.0</td>\n",
       "      <td>0.0</td>\n",
       "      <td>0.0</td>\n",
       "      <td>0.0</td>\n",
       "      <td>0.0</td>\n",
       "      <td>0.0</td>\n",
       "      <td>117310.979016</td>\n",
       "      <td>0</td>\n",
       "    </tr>\n",
       "    <tr>\n",
       "      <th>...</th>\n",
       "      <td>...</td>\n",
       "      <td>...</td>\n",
       "      <td>...</td>\n",
       "      <td>...</td>\n",
       "      <td>...</td>\n",
       "      <td>...</td>\n",
       "      <td>...</td>\n",
       "      <td>...</td>\n",
       "      <td>...</td>\n",
       "      <td>...</td>\n",
       "      <td>...</td>\n",
       "      <td>...</td>\n",
       "      <td>...</td>\n",
       "      <td>...</td>\n",
       "      <td>...</td>\n",
       "      <td>...</td>\n",
       "      <td>...</td>\n",
       "      <td>...</td>\n",
       "      <td>...</td>\n",
       "      <td>...</td>\n",
       "      <td>...</td>\n",
       "    </tr>\n",
       "    <tr>\n",
       "      <th>76015</th>\n",
       "      <td>2</td>\n",
       "      <td>48</td>\n",
       "      <td>0.0</td>\n",
       "      <td>0.0</td>\n",
       "      <td>0.0</td>\n",
       "      <td>0.0</td>\n",
       "      <td>0.0</td>\n",
       "      <td>0.0</td>\n",
       "      <td>0.0</td>\n",
       "      <td>0.0</td>\n",
       "      <td>...</td>\n",
       "      <td>0.0</td>\n",
       "      <td>0.0</td>\n",
       "      <td>0.0</td>\n",
       "      <td>0.0</td>\n",
       "      <td>0.0</td>\n",
       "      <td>0.0</td>\n",
       "      <td>0.0</td>\n",
       "      <td>0.0</td>\n",
       "      <td>60926.490000</td>\n",
       "      <td>0</td>\n",
       "    </tr>\n",
       "    <tr>\n",
       "      <th>76016</th>\n",
       "      <td>2</td>\n",
       "      <td>39</td>\n",
       "      <td>0.0</td>\n",
       "      <td>0.0</td>\n",
       "      <td>0.0</td>\n",
       "      <td>0.0</td>\n",
       "      <td>0.0</td>\n",
       "      <td>0.0</td>\n",
       "      <td>0.0</td>\n",
       "      <td>0.0</td>\n",
       "      <td>...</td>\n",
       "      <td>0.0</td>\n",
       "      <td>0.0</td>\n",
       "      <td>0.0</td>\n",
       "      <td>0.0</td>\n",
       "      <td>0.0</td>\n",
       "      <td>0.0</td>\n",
       "      <td>0.0</td>\n",
       "      <td>0.0</td>\n",
       "      <td>118634.520000</td>\n",
       "      <td>0</td>\n",
       "    </tr>\n",
       "    <tr>\n",
       "      <th>76017</th>\n",
       "      <td>2</td>\n",
       "      <td>23</td>\n",
       "      <td>0.0</td>\n",
       "      <td>0.0</td>\n",
       "      <td>0.0</td>\n",
       "      <td>0.0</td>\n",
       "      <td>0.0</td>\n",
       "      <td>0.0</td>\n",
       "      <td>0.0</td>\n",
       "      <td>0.0</td>\n",
       "      <td>...</td>\n",
       "      <td>0.0</td>\n",
       "      <td>0.0</td>\n",
       "      <td>0.0</td>\n",
       "      <td>0.0</td>\n",
       "      <td>0.0</td>\n",
       "      <td>0.0</td>\n",
       "      <td>0.0</td>\n",
       "      <td>0.0</td>\n",
       "      <td>74028.150000</td>\n",
       "      <td>0</td>\n",
       "    </tr>\n",
       "    <tr>\n",
       "      <th>76018</th>\n",
       "      <td>2</td>\n",
       "      <td>25</td>\n",
       "      <td>0.0</td>\n",
       "      <td>0.0</td>\n",
       "      <td>0.0</td>\n",
       "      <td>0.0</td>\n",
       "      <td>0.0</td>\n",
       "      <td>0.0</td>\n",
       "      <td>0.0</td>\n",
       "      <td>0.0</td>\n",
       "      <td>...</td>\n",
       "      <td>0.0</td>\n",
       "      <td>0.0</td>\n",
       "      <td>0.0</td>\n",
       "      <td>0.0</td>\n",
       "      <td>0.0</td>\n",
       "      <td>0.0</td>\n",
       "      <td>0.0</td>\n",
       "      <td>0.0</td>\n",
       "      <td>84278.160000</td>\n",
       "      <td>0</td>\n",
       "    </tr>\n",
       "    <tr>\n",
       "      <th>76019</th>\n",
       "      <td>2</td>\n",
       "      <td>46</td>\n",
       "      <td>0.0</td>\n",
       "      <td>0.0</td>\n",
       "      <td>0.0</td>\n",
       "      <td>0.0</td>\n",
       "      <td>0.0</td>\n",
       "      <td>0.0</td>\n",
       "      <td>0.0</td>\n",
       "      <td>0.0</td>\n",
       "      <td>...</td>\n",
       "      <td>0.0</td>\n",
       "      <td>0.0</td>\n",
       "      <td>0.0</td>\n",
       "      <td>0.0</td>\n",
       "      <td>0.0</td>\n",
       "      <td>0.0</td>\n",
       "      <td>0.0</td>\n",
       "      <td>0.0</td>\n",
       "      <td>117310.979016</td>\n",
       "      <td>0</td>\n",
       "    </tr>\n",
       "  </tbody>\n",
       "</table>\n",
       "<p>76020 rows × 370 columns</p>\n",
       "</div>"
      ],
      "text/plain": [
       "       var3  var15  imp_ent_var16_ult1  imp_op_var39_comer_ult1  \\\n",
       "0         2     23                 0.0                      0.0   \n",
       "1         2     34                 0.0                      0.0   \n",
       "2         2     23                 0.0                      0.0   \n",
       "3         2     37                 0.0                    195.0   \n",
       "4         2     39                 0.0                      0.0   \n",
       "...     ...    ...                 ...                      ...   \n",
       "76015     2     48                 0.0                      0.0   \n",
       "76016     2     39                 0.0                      0.0   \n",
       "76017     2     23                 0.0                      0.0   \n",
       "76018     2     25                 0.0                      0.0   \n",
       "76019     2     46                 0.0                      0.0   \n",
       "\n",
       "       imp_op_var39_comer_ult3  imp_op_var40_comer_ult1  \\\n",
       "0                          0.0                      0.0   \n",
       "1                          0.0                      0.0   \n",
       "2                          0.0                      0.0   \n",
       "3                        195.0                      0.0   \n",
       "4                          0.0                      0.0   \n",
       "...                        ...                      ...   \n",
       "76015                      0.0                      0.0   \n",
       "76016                      0.0                      0.0   \n",
       "76017                      0.0                      0.0   \n",
       "76018                      0.0                      0.0   \n",
       "76019                      0.0                      0.0   \n",
       "\n",
       "       imp_op_var40_comer_ult3  imp_op_var40_efect_ult1  \\\n",
       "0                          0.0                      0.0   \n",
       "1                          0.0                      0.0   \n",
       "2                          0.0                      0.0   \n",
       "3                          0.0                      0.0   \n",
       "4                          0.0                      0.0   \n",
       "...                        ...                      ...   \n",
       "76015                      0.0                      0.0   \n",
       "76016                      0.0                      0.0   \n",
       "76017                      0.0                      0.0   \n",
       "76018                      0.0                      0.0   \n",
       "76019                      0.0                      0.0   \n",
       "\n",
       "       imp_op_var40_efect_ult3  imp_op_var40_ult1  ...  \\\n",
       "0                          0.0                0.0  ...   \n",
       "1                          0.0                0.0  ...   \n",
       "2                          0.0                0.0  ...   \n",
       "3                          0.0                0.0  ...   \n",
       "4                          0.0                0.0  ...   \n",
       "...                        ...                ...  ...   \n",
       "76015                      0.0                0.0  ...   \n",
       "76016                      0.0                0.0  ...   \n",
       "76017                      0.0                0.0  ...   \n",
       "76018                      0.0                0.0  ...   \n",
       "76019                      0.0                0.0  ...   \n",
       "\n",
       "       saldo_medio_var33_hace2  saldo_medio_var33_hace3  \\\n",
       "0                          0.0                      0.0   \n",
       "1                          0.0                      0.0   \n",
       "2                          0.0                      0.0   \n",
       "3                          0.0                      0.0   \n",
       "4                          0.0                      0.0   \n",
       "...                        ...                      ...   \n",
       "76015                      0.0                      0.0   \n",
       "76016                      0.0                      0.0   \n",
       "76017                      0.0                      0.0   \n",
       "76018                      0.0                      0.0   \n",
       "76019                      0.0                      0.0   \n",
       "\n",
       "       saldo_medio_var33_ult1  saldo_medio_var33_ult3  \\\n",
       "0                         0.0                     0.0   \n",
       "1                         0.0                     0.0   \n",
       "2                         0.0                     0.0   \n",
       "3                         0.0                     0.0   \n",
       "4                         0.0                     0.0   \n",
       "...                       ...                     ...   \n",
       "76015                     0.0                     0.0   \n",
       "76016                     0.0                     0.0   \n",
       "76017                     0.0                     0.0   \n",
       "76018                     0.0                     0.0   \n",
       "76019                     0.0                     0.0   \n",
       "\n",
       "       saldo_medio_var44_hace2  saldo_medio_var44_hace3  \\\n",
       "0                          0.0                      0.0   \n",
       "1                          0.0                      0.0   \n",
       "2                          0.0                      0.0   \n",
       "3                          0.0                      0.0   \n",
       "4                          0.0                      0.0   \n",
       "...                        ...                      ...   \n",
       "76015                      0.0                      0.0   \n",
       "76016                      0.0                      0.0   \n",
       "76017                      0.0                      0.0   \n",
       "76018                      0.0                      0.0   \n",
       "76019                      0.0                      0.0   \n",
       "\n",
       "       saldo_medio_var44_ult1  saldo_medio_var44_ult3          var38  TARGET  \n",
       "0                         0.0                     0.0   39205.170000       0  \n",
       "1                         0.0                     0.0   49278.030000       0  \n",
       "2                         0.0                     0.0   67333.770000       0  \n",
       "3                         0.0                     0.0   64007.970000       0  \n",
       "4                         0.0                     0.0  117310.979016       0  \n",
       "...                       ...                     ...            ...     ...  \n",
       "76015                     0.0                     0.0   60926.490000       0  \n",
       "76016                     0.0                     0.0  118634.520000       0  \n",
       "76017                     0.0                     0.0   74028.150000       0  \n",
       "76018                     0.0                     0.0   84278.160000       0  \n",
       "76019                     0.0                     0.0  117310.979016       0  \n",
       "\n",
       "[76020 rows x 370 columns]"
      ]
     },
     "execution_count": 6,
     "metadata": {},
     "output_type": "execute_result"
    }
   ],
   "source": [
    "train"
   ]
  },
  {
   "cell_type": "code",
   "execution_count": 7,
   "metadata": {
    "id": "LZDo-wgj9Tpc",
    "outputId": "86057b86-cadb-4ca0-a58d-34a1cc5d78ea"
   },
   "outputs": [
    {
     "data": {
      "text/html": [
       "<div>\n",
       "<style scoped>\n",
       "    .dataframe tbody tr th:only-of-type {\n",
       "        vertical-align: middle;\n",
       "    }\n",
       "\n",
       "    .dataframe tbody tr th {\n",
       "        vertical-align: top;\n",
       "    }\n",
       "\n",
       "    .dataframe thead th {\n",
       "        text-align: right;\n",
       "    }\n",
       "</style>\n",
       "<table border=\"1\" class=\"dataframe\">\n",
       "  <thead>\n",
       "    <tr style=\"text-align: right;\">\n",
       "      <th></th>\n",
       "      <th>var3</th>\n",
       "      <th>var15</th>\n",
       "      <th>imp_ent_var16_ult1</th>\n",
       "      <th>imp_op_var39_comer_ult1</th>\n",
       "      <th>imp_op_var39_comer_ult3</th>\n",
       "      <th>imp_op_var40_comer_ult1</th>\n",
       "      <th>imp_op_var40_comer_ult3</th>\n",
       "      <th>imp_op_var40_efect_ult1</th>\n",
       "      <th>imp_op_var40_efect_ult3</th>\n",
       "      <th>imp_op_var40_ult1</th>\n",
       "      <th>...</th>\n",
       "      <th>saldo_medio_var29_ult3</th>\n",
       "      <th>saldo_medio_var33_hace2</th>\n",
       "      <th>saldo_medio_var33_hace3</th>\n",
       "      <th>saldo_medio_var33_ult1</th>\n",
       "      <th>saldo_medio_var33_ult3</th>\n",
       "      <th>saldo_medio_var44_hace2</th>\n",
       "      <th>saldo_medio_var44_hace3</th>\n",
       "      <th>saldo_medio_var44_ult1</th>\n",
       "      <th>saldo_medio_var44_ult3</th>\n",
       "      <th>var38</th>\n",
       "    </tr>\n",
       "  </thead>\n",
       "  <tbody>\n",
       "    <tr>\n",
       "      <th>0</th>\n",
       "      <td>2</td>\n",
       "      <td>32</td>\n",
       "      <td>0.0</td>\n",
       "      <td>0.0</td>\n",
       "      <td>0.0</td>\n",
       "      <td>0.0</td>\n",
       "      <td>0.0</td>\n",
       "      <td>0.0</td>\n",
       "      <td>0.0</td>\n",
       "      <td>0.0</td>\n",
       "      <td>...</td>\n",
       "      <td>0.0</td>\n",
       "      <td>0.0</td>\n",
       "      <td>0.0</td>\n",
       "      <td>0.0</td>\n",
       "      <td>0.0</td>\n",
       "      <td>0.0</td>\n",
       "      <td>0.0</td>\n",
       "      <td>0.0</td>\n",
       "      <td>0.0</td>\n",
       "      <td>40532.100000</td>\n",
       "    </tr>\n",
       "    <tr>\n",
       "      <th>1</th>\n",
       "      <td>2</td>\n",
       "      <td>35</td>\n",
       "      <td>0.0</td>\n",
       "      <td>0.0</td>\n",
       "      <td>0.0</td>\n",
       "      <td>0.0</td>\n",
       "      <td>0.0</td>\n",
       "      <td>0.0</td>\n",
       "      <td>0.0</td>\n",
       "      <td>0.0</td>\n",
       "      <td>...</td>\n",
       "      <td>0.0</td>\n",
       "      <td>0.0</td>\n",
       "      <td>0.0</td>\n",
       "      <td>0.0</td>\n",
       "      <td>0.0</td>\n",
       "      <td>0.0</td>\n",
       "      <td>0.0</td>\n",
       "      <td>0.0</td>\n",
       "      <td>0.0</td>\n",
       "      <td>45486.720000</td>\n",
       "    </tr>\n",
       "    <tr>\n",
       "      <th>2</th>\n",
       "      <td>2</td>\n",
       "      <td>23</td>\n",
       "      <td>0.0</td>\n",
       "      <td>0.0</td>\n",
       "      <td>0.0</td>\n",
       "      <td>0.0</td>\n",
       "      <td>0.0</td>\n",
       "      <td>0.0</td>\n",
       "      <td>0.0</td>\n",
       "      <td>0.0</td>\n",
       "      <td>...</td>\n",
       "      <td>0.0</td>\n",
       "      <td>0.0</td>\n",
       "      <td>0.0</td>\n",
       "      <td>0.0</td>\n",
       "      <td>0.0</td>\n",
       "      <td>0.0</td>\n",
       "      <td>0.0</td>\n",
       "      <td>0.0</td>\n",
       "      <td>0.0</td>\n",
       "      <td>46993.950000</td>\n",
       "    </tr>\n",
       "    <tr>\n",
       "      <th>3</th>\n",
       "      <td>2</td>\n",
       "      <td>24</td>\n",
       "      <td>0.0</td>\n",
       "      <td>0.0</td>\n",
       "      <td>0.0</td>\n",
       "      <td>0.0</td>\n",
       "      <td>0.0</td>\n",
       "      <td>0.0</td>\n",
       "      <td>0.0</td>\n",
       "      <td>0.0</td>\n",
       "      <td>...</td>\n",
       "      <td>0.0</td>\n",
       "      <td>0.0</td>\n",
       "      <td>0.0</td>\n",
       "      <td>0.0</td>\n",
       "      <td>0.0</td>\n",
       "      <td>0.0</td>\n",
       "      <td>0.0</td>\n",
       "      <td>0.0</td>\n",
       "      <td>0.0</td>\n",
       "      <td>187898.610000</td>\n",
       "    </tr>\n",
       "    <tr>\n",
       "      <th>4</th>\n",
       "      <td>2</td>\n",
       "      <td>23</td>\n",
       "      <td>0.0</td>\n",
       "      <td>0.0</td>\n",
       "      <td>0.0</td>\n",
       "      <td>0.0</td>\n",
       "      <td>0.0</td>\n",
       "      <td>0.0</td>\n",
       "      <td>0.0</td>\n",
       "      <td>0.0</td>\n",
       "      <td>...</td>\n",
       "      <td>0.0</td>\n",
       "      <td>0.0</td>\n",
       "      <td>0.0</td>\n",
       "      <td>0.0</td>\n",
       "      <td>0.0</td>\n",
       "      <td>0.0</td>\n",
       "      <td>0.0</td>\n",
       "      <td>0.0</td>\n",
       "      <td>0.0</td>\n",
       "      <td>73649.730000</td>\n",
       "    </tr>\n",
       "    <tr>\n",
       "      <th>...</th>\n",
       "      <td>...</td>\n",
       "      <td>...</td>\n",
       "      <td>...</td>\n",
       "      <td>...</td>\n",
       "      <td>...</td>\n",
       "      <td>...</td>\n",
       "      <td>...</td>\n",
       "      <td>...</td>\n",
       "      <td>...</td>\n",
       "      <td>...</td>\n",
       "      <td>...</td>\n",
       "      <td>...</td>\n",
       "      <td>...</td>\n",
       "      <td>...</td>\n",
       "      <td>...</td>\n",
       "      <td>...</td>\n",
       "      <td>...</td>\n",
       "      <td>...</td>\n",
       "      <td>...</td>\n",
       "      <td>...</td>\n",
       "      <td>...</td>\n",
       "    </tr>\n",
       "    <tr>\n",
       "      <th>75813</th>\n",
       "      <td>2</td>\n",
       "      <td>23</td>\n",
       "      <td>0.0</td>\n",
       "      <td>0.0</td>\n",
       "      <td>0.0</td>\n",
       "      <td>0.0</td>\n",
       "      <td>0.0</td>\n",
       "      <td>0.0</td>\n",
       "      <td>0.0</td>\n",
       "      <td>0.0</td>\n",
       "      <td>...</td>\n",
       "      <td>0.0</td>\n",
       "      <td>0.0</td>\n",
       "      <td>0.0</td>\n",
       "      <td>0.0</td>\n",
       "      <td>0.0</td>\n",
       "      <td>0.0</td>\n",
       "      <td>0.0</td>\n",
       "      <td>0.0</td>\n",
       "      <td>0.0</td>\n",
       "      <td>40243.200000</td>\n",
       "    </tr>\n",
       "    <tr>\n",
       "      <th>75814</th>\n",
       "      <td>2</td>\n",
       "      <td>26</td>\n",
       "      <td>0.0</td>\n",
       "      <td>0.0</td>\n",
       "      <td>0.0</td>\n",
       "      <td>0.0</td>\n",
       "      <td>0.0</td>\n",
       "      <td>0.0</td>\n",
       "      <td>0.0</td>\n",
       "      <td>0.0</td>\n",
       "      <td>...</td>\n",
       "      <td>0.0</td>\n",
       "      <td>0.0</td>\n",
       "      <td>0.0</td>\n",
       "      <td>0.0</td>\n",
       "      <td>0.0</td>\n",
       "      <td>0.0</td>\n",
       "      <td>0.0</td>\n",
       "      <td>0.0</td>\n",
       "      <td>0.0</td>\n",
       "      <td>146961.300000</td>\n",
       "    </tr>\n",
       "    <tr>\n",
       "      <th>75815</th>\n",
       "      <td>2</td>\n",
       "      <td>24</td>\n",
       "      <td>0.0</td>\n",
       "      <td>0.0</td>\n",
       "      <td>0.0</td>\n",
       "      <td>0.0</td>\n",
       "      <td>0.0</td>\n",
       "      <td>0.0</td>\n",
       "      <td>0.0</td>\n",
       "      <td>0.0</td>\n",
       "      <td>...</td>\n",
       "      <td>0.0</td>\n",
       "      <td>0.0</td>\n",
       "      <td>0.0</td>\n",
       "      <td>0.0</td>\n",
       "      <td>0.0</td>\n",
       "      <td>0.0</td>\n",
       "      <td>0.0</td>\n",
       "      <td>0.0</td>\n",
       "      <td>0.0</td>\n",
       "      <td>167299.770000</td>\n",
       "    </tr>\n",
       "    <tr>\n",
       "      <th>75816</th>\n",
       "      <td>2</td>\n",
       "      <td>40</td>\n",
       "      <td>0.0</td>\n",
       "      <td>0.0</td>\n",
       "      <td>0.0</td>\n",
       "      <td>0.0</td>\n",
       "      <td>0.0</td>\n",
       "      <td>0.0</td>\n",
       "      <td>0.0</td>\n",
       "      <td>0.0</td>\n",
       "      <td>...</td>\n",
       "      <td>0.0</td>\n",
       "      <td>0.0</td>\n",
       "      <td>0.0</td>\n",
       "      <td>0.0</td>\n",
       "      <td>0.0</td>\n",
       "      <td>0.0</td>\n",
       "      <td>0.0</td>\n",
       "      <td>0.0</td>\n",
       "      <td>0.0</td>\n",
       "      <td>117310.979016</td>\n",
       "    </tr>\n",
       "    <tr>\n",
       "      <th>75817</th>\n",
       "      <td>2</td>\n",
       "      <td>23</td>\n",
       "      <td>0.0</td>\n",
       "      <td>0.0</td>\n",
       "      <td>0.0</td>\n",
       "      <td>0.0</td>\n",
       "      <td>0.0</td>\n",
       "      <td>0.0</td>\n",
       "      <td>0.0</td>\n",
       "      <td>0.0</td>\n",
       "      <td>...</td>\n",
       "      <td>0.0</td>\n",
       "      <td>0.0</td>\n",
       "      <td>0.0</td>\n",
       "      <td>0.0</td>\n",
       "      <td>0.0</td>\n",
       "      <td>0.0</td>\n",
       "      <td>0.0</td>\n",
       "      <td>0.0</td>\n",
       "      <td>0.0</td>\n",
       "      <td>117310.979016</td>\n",
       "    </tr>\n",
       "  </tbody>\n",
       "</table>\n",
       "<p>75818 rows × 369 columns</p>\n",
       "</div>"
      ],
      "text/plain": [
       "       var3  var15  imp_ent_var16_ult1  imp_op_var39_comer_ult1  \\\n",
       "0         2     32                 0.0                      0.0   \n",
       "1         2     35                 0.0                      0.0   \n",
       "2         2     23                 0.0                      0.0   \n",
       "3         2     24                 0.0                      0.0   \n",
       "4         2     23                 0.0                      0.0   \n",
       "...     ...    ...                 ...                      ...   \n",
       "75813     2     23                 0.0                      0.0   \n",
       "75814     2     26                 0.0                      0.0   \n",
       "75815     2     24                 0.0                      0.0   \n",
       "75816     2     40                 0.0                      0.0   \n",
       "75817     2     23                 0.0                      0.0   \n",
       "\n",
       "       imp_op_var39_comer_ult3  imp_op_var40_comer_ult1  \\\n",
       "0                          0.0                      0.0   \n",
       "1                          0.0                      0.0   \n",
       "2                          0.0                      0.0   \n",
       "3                          0.0                      0.0   \n",
       "4                          0.0                      0.0   \n",
       "...                        ...                      ...   \n",
       "75813                      0.0                      0.0   \n",
       "75814                      0.0                      0.0   \n",
       "75815                      0.0                      0.0   \n",
       "75816                      0.0                      0.0   \n",
       "75817                      0.0                      0.0   \n",
       "\n",
       "       imp_op_var40_comer_ult3  imp_op_var40_efect_ult1  \\\n",
       "0                          0.0                      0.0   \n",
       "1                          0.0                      0.0   \n",
       "2                          0.0                      0.0   \n",
       "3                          0.0                      0.0   \n",
       "4                          0.0                      0.0   \n",
       "...                        ...                      ...   \n",
       "75813                      0.0                      0.0   \n",
       "75814                      0.0                      0.0   \n",
       "75815                      0.0                      0.0   \n",
       "75816                      0.0                      0.0   \n",
       "75817                      0.0                      0.0   \n",
       "\n",
       "       imp_op_var40_efect_ult3  imp_op_var40_ult1  ...  \\\n",
       "0                          0.0                0.0  ...   \n",
       "1                          0.0                0.0  ...   \n",
       "2                          0.0                0.0  ...   \n",
       "3                          0.0                0.0  ...   \n",
       "4                          0.0                0.0  ...   \n",
       "...                        ...                ...  ...   \n",
       "75813                      0.0                0.0  ...   \n",
       "75814                      0.0                0.0  ...   \n",
       "75815                      0.0                0.0  ...   \n",
       "75816                      0.0                0.0  ...   \n",
       "75817                      0.0                0.0  ...   \n",
       "\n",
       "       saldo_medio_var29_ult3  saldo_medio_var33_hace2  \\\n",
       "0                         0.0                      0.0   \n",
       "1                         0.0                      0.0   \n",
       "2                         0.0                      0.0   \n",
       "3                         0.0                      0.0   \n",
       "4                         0.0                      0.0   \n",
       "...                       ...                      ...   \n",
       "75813                     0.0                      0.0   \n",
       "75814                     0.0                      0.0   \n",
       "75815                     0.0                      0.0   \n",
       "75816                     0.0                      0.0   \n",
       "75817                     0.0                      0.0   \n",
       "\n",
       "       saldo_medio_var33_hace3  saldo_medio_var33_ult1  \\\n",
       "0                          0.0                     0.0   \n",
       "1                          0.0                     0.0   \n",
       "2                          0.0                     0.0   \n",
       "3                          0.0                     0.0   \n",
       "4                          0.0                     0.0   \n",
       "...                        ...                     ...   \n",
       "75813                      0.0                     0.0   \n",
       "75814                      0.0                     0.0   \n",
       "75815                      0.0                     0.0   \n",
       "75816                      0.0                     0.0   \n",
       "75817                      0.0                     0.0   \n",
       "\n",
       "       saldo_medio_var33_ult3  saldo_medio_var44_hace2  \\\n",
       "0                         0.0                      0.0   \n",
       "1                         0.0                      0.0   \n",
       "2                         0.0                      0.0   \n",
       "3                         0.0                      0.0   \n",
       "4                         0.0                      0.0   \n",
       "...                       ...                      ...   \n",
       "75813                     0.0                      0.0   \n",
       "75814                     0.0                      0.0   \n",
       "75815                     0.0                      0.0   \n",
       "75816                     0.0                      0.0   \n",
       "75817                     0.0                      0.0   \n",
       "\n",
       "       saldo_medio_var44_hace3  saldo_medio_var44_ult1  \\\n",
       "0                          0.0                     0.0   \n",
       "1                          0.0                     0.0   \n",
       "2                          0.0                     0.0   \n",
       "3                          0.0                     0.0   \n",
       "4                          0.0                     0.0   \n",
       "...                        ...                     ...   \n",
       "75813                      0.0                     0.0   \n",
       "75814                      0.0                     0.0   \n",
       "75815                      0.0                     0.0   \n",
       "75816                      0.0                     0.0   \n",
       "75817                      0.0                     0.0   \n",
       "\n",
       "       saldo_medio_var44_ult3          var38  \n",
       "0                         0.0   40532.100000  \n",
       "1                         0.0   45486.720000  \n",
       "2                         0.0   46993.950000  \n",
       "3                         0.0  187898.610000  \n",
       "4                         0.0   73649.730000  \n",
       "...                       ...            ...  \n",
       "75813                     0.0   40243.200000  \n",
       "75814                     0.0  146961.300000  \n",
       "75815                     0.0  167299.770000  \n",
       "75816                     0.0  117310.979016  \n",
       "75817                     0.0  117310.979016  \n",
       "\n",
       "[75818 rows x 369 columns]"
      ]
     },
     "execution_count": 7,
     "metadata": {},
     "output_type": "execute_result"
    }
   ],
   "source": [
    "test"
   ]
  },
  {
   "cell_type": "markdown",
   "metadata": {
    "id": "d8_2WhOL9Tpd"
   },
   "source": [
    "- In ra tên của các đặc trưng"
   ]
  },
  {
   "cell_type": "code",
   "execution_count": 8,
   "metadata": {
    "id": "PlO8noUE9Tpd",
    "outputId": "e4761c07-e076-429d-e144-e31b88c0c5c8"
   },
   "outputs": [
    {
     "data": {
      "text/plain": [
       "Index(['var3', 'var15', 'imp_ent_var16_ult1', 'imp_op_var39_comer_ult1',\n",
       "       'imp_op_var39_comer_ult3', 'imp_op_var40_comer_ult1',\n",
       "       'imp_op_var40_comer_ult3', 'imp_op_var40_efect_ult1',\n",
       "       'imp_op_var40_efect_ult3', 'imp_op_var40_ult1',\n",
       "       ...\n",
       "       'saldo_medio_var33_hace2', 'saldo_medio_var33_hace3',\n",
       "       'saldo_medio_var33_ult1', 'saldo_medio_var33_ult3',\n",
       "       'saldo_medio_var44_hace2', 'saldo_medio_var44_hace3',\n",
       "       'saldo_medio_var44_ult1', 'saldo_medio_var44_ult3', 'var38', 'TARGET'],\n",
       "      dtype='object', length=370)"
      ]
     },
     "execution_count": 8,
     "metadata": {},
     "output_type": "execute_result"
    }
   ],
   "source": [
    "## Requirement 3:\n",
    "## PUT YOUR CODE HERE:\n",
    "\n",
    "col_names = train.columns\n",
    "\n",
    "col_names"
   ]
  },
  {
   "cell_type": "markdown",
   "metadata": {
    "id": "jCcKmmDj9Tpd"
   },
   "source": [
    "- Lần này tên của các đặc trưng đã được giấu kín, việc này rất thường gặp khi tham gia các cuộc thi hoặc làm các dự án lớn trong trường hợp chủ nguồn dữ liệu không muốn tiết lộ thông tin."
   ]
  },
  {
   "cell_type": "markdown",
   "metadata": {
    "id": "r6LOwyjq9Tpe"
   },
   "source": [
    "- Xem tóm tắt một số đặc điểm về tập dữ liệu."
   ]
  },
  {
   "cell_type": "code",
   "execution_count": 9,
   "metadata": {
    "id": "h_1nw4sN9Tpe",
    "outputId": "291a6d7e-d7b9-4d8c-fc03-525578dee2b4"
   },
   "outputs": [
    {
     "name": "stdout",
     "output_type": "stream",
     "text": [
      "<class 'pandas.core.frame.DataFrame'>\n",
      "RangeIndex: 76020 entries, 0 to 76019\n",
      "Data columns (total 370 columns):\n",
      " #    Column                         Non-Null Count  Dtype  \n",
      "---   ------                         --------------  -----  \n",
      " 0    var3                           76020 non-null  int64  \n",
      " 1    var15                          76020 non-null  int64  \n",
      " 2    imp_ent_var16_ult1             76020 non-null  float64\n",
      " 3    imp_op_var39_comer_ult1        76020 non-null  float64\n",
      " 4    imp_op_var39_comer_ult3        76020 non-null  float64\n",
      " 5    imp_op_var40_comer_ult1        76020 non-null  float64\n",
      " 6    imp_op_var40_comer_ult3        76020 non-null  float64\n",
      " 7    imp_op_var40_efect_ult1        76020 non-null  float64\n",
      " 8    imp_op_var40_efect_ult3        76020 non-null  float64\n",
      " 9    imp_op_var40_ult1              76020 non-null  float64\n",
      " 10   imp_op_var41_comer_ult1        76020 non-null  float64\n",
      " 11   imp_op_var41_comer_ult3        76020 non-null  float64\n",
      " 12   imp_op_var41_efect_ult1        76020 non-null  float64\n",
      " 13   imp_op_var41_efect_ult3        76020 non-null  float64\n",
      " 14   imp_op_var41_ult1              76020 non-null  float64\n",
      " 15   imp_op_var39_efect_ult1        76020 non-null  float64\n",
      " 16   imp_op_var39_efect_ult3        76020 non-null  float64\n",
      " 17   imp_op_var39_ult1              76020 non-null  float64\n",
      " 18   imp_sal_var16_ult1             76020 non-null  float64\n",
      " 19   ind_var1_0                     76020 non-null  int64  \n",
      " 20   ind_var1                       76020 non-null  int64  \n",
      " 21   ind_var2_0                     76020 non-null  int64  \n",
      " 22   ind_var2                       76020 non-null  int64  \n",
      " 23   ind_var5_0                     76020 non-null  int64  \n",
      " 24   ind_var5                       76020 non-null  int64  \n",
      " 25   ind_var6_0                     76020 non-null  int64  \n",
      " 26   ind_var6                       76020 non-null  int64  \n",
      " 27   ind_var8_0                     76020 non-null  int64  \n",
      " 28   ind_var8                       76020 non-null  int64  \n",
      " 29   ind_var12_0                    76020 non-null  int64  \n",
      " 30   ind_var12                      76020 non-null  int64  \n",
      " 31   ind_var13_0                    76020 non-null  int64  \n",
      " 32   ind_var13_corto_0              76020 non-null  int64  \n",
      " 33   ind_var13_corto                76020 non-null  int64  \n",
      " 34   ind_var13_largo_0              76020 non-null  int64  \n",
      " 35   ind_var13_largo                76020 non-null  int64  \n",
      " 36   ind_var13_medio_0              76020 non-null  int64  \n",
      " 37   ind_var13_medio                76020 non-null  int64  \n",
      " 38   ind_var13                      76020 non-null  int64  \n",
      " 39   ind_var14_0                    76020 non-null  int64  \n",
      " 40   ind_var14                      76020 non-null  int64  \n",
      " 41   ind_var17_0                    76020 non-null  int64  \n",
      " 42   ind_var17                      76020 non-null  int64  \n",
      " 43   ind_var18_0                    76020 non-null  int64  \n",
      " 44   ind_var18                      76020 non-null  int64  \n",
      " 45   ind_var19                      76020 non-null  int64  \n",
      " 46   ind_var20_0                    76020 non-null  int64  \n",
      " 47   ind_var20                      76020 non-null  int64  \n",
      " 48   ind_var24_0                    76020 non-null  int64  \n",
      " 49   ind_var24                      76020 non-null  int64  \n",
      " 50   ind_var25_cte                  76020 non-null  int64  \n",
      " 51   ind_var26_0                    76020 non-null  int64  \n",
      " 52   ind_var26_cte                  76020 non-null  int64  \n",
      " 53   ind_var26                      76020 non-null  int64  \n",
      " 54   ind_var25_0                    76020 non-null  int64  \n",
      " 55   ind_var25                      76020 non-null  int64  \n",
      " 56   ind_var27_0                    76020 non-null  int64  \n",
      " 57   ind_var28_0                    76020 non-null  int64  \n",
      " 58   ind_var28                      76020 non-null  int64  \n",
      " 59   ind_var27                      76020 non-null  int64  \n",
      " 60   ind_var29_0                    76020 non-null  int64  \n",
      " 61   ind_var29                      76020 non-null  int64  \n",
      " 62   ind_var30_0                    76020 non-null  int64  \n",
      " 63   ind_var30                      76020 non-null  int64  \n",
      " 64   ind_var31_0                    76020 non-null  int64  \n",
      " 65   ind_var31                      76020 non-null  int64  \n",
      " 66   ind_var32_cte                  76020 non-null  int64  \n",
      " 67   ind_var32_0                    76020 non-null  int64  \n",
      " 68   ind_var32                      76020 non-null  int64  \n",
      " 69   ind_var33_0                    76020 non-null  int64  \n",
      " 70   ind_var33                      76020 non-null  int64  \n",
      " 71   ind_var34_0                    76020 non-null  int64  \n",
      " 72   ind_var34                      76020 non-null  int64  \n",
      " 73   ind_var37_cte                  76020 non-null  int64  \n",
      " 74   ind_var37_0                    76020 non-null  int64  \n",
      " 75   ind_var37                      76020 non-null  int64  \n",
      " 76   ind_var39_0                    76020 non-null  int64  \n",
      " 77   ind_var40_0                    76020 non-null  int64  \n",
      " 78   ind_var40                      76020 non-null  int64  \n",
      " 79   ind_var41_0                    76020 non-null  int64  \n",
      " 80   ind_var41                      76020 non-null  int64  \n",
      " 81   ind_var39                      76020 non-null  int64  \n",
      " 82   ind_var44_0                    76020 non-null  int64  \n",
      " 83   ind_var44                      76020 non-null  int64  \n",
      " 84   ind_var46_0                    76020 non-null  int64  \n",
      " 85   ind_var46                      76020 non-null  int64  \n",
      " 86   num_var1_0                     76020 non-null  int64  \n",
      " 87   num_var1                       76020 non-null  int64  \n",
      " 88   num_var4                       76020 non-null  int64  \n",
      " 89   num_var5_0                     76020 non-null  int64  \n",
      " 90   num_var5                       76020 non-null  int64  \n",
      " 91   num_var6_0                     76020 non-null  int64  \n",
      " 92   num_var6                       76020 non-null  int64  \n",
      " 93   num_var8_0                     76020 non-null  int64  \n",
      " 94   num_var8                       76020 non-null  int64  \n",
      " 95   num_var12_0                    76020 non-null  int64  \n",
      " 96   num_var12                      76020 non-null  int64  \n",
      " 97   num_var13_0                    76020 non-null  int64  \n",
      " 98   num_var13_corto_0              76020 non-null  int64  \n",
      " 99   num_var13_corto                76020 non-null  int64  \n",
      " 100  num_var13_largo_0              76020 non-null  int64  \n",
      " 101  num_var13_largo                76020 non-null  int64  \n",
      " 102  num_var13_medio_0              76020 non-null  int64  \n",
      " 103  num_var13_medio                76020 non-null  int64  \n",
      " 104  num_var13                      76020 non-null  int64  \n",
      " 105  num_var14_0                    76020 non-null  int64  \n",
      " 106  num_var14                      76020 non-null  int64  \n",
      " 107  num_var17_0                    76020 non-null  int64  \n",
      " 108  num_var17                      76020 non-null  int64  \n",
      " 109  num_var18_0                    76020 non-null  int64  \n",
      " 110  num_var18                      76020 non-null  int64  \n",
      " 111  num_var20_0                    76020 non-null  int64  \n",
      " 112  num_var20                      76020 non-null  int64  \n",
      " 113  num_var24_0                    76020 non-null  int64  \n",
      " 114  num_var24                      76020 non-null  int64  \n",
      " 115  num_var26_0                    76020 non-null  int64  \n",
      " 116  num_var26                      76020 non-null  int64  \n",
      " 117  num_var25_0                    76020 non-null  int64  \n",
      " 118  num_var25                      76020 non-null  int64  \n",
      " 119  num_op_var40_hace2             76020 non-null  int64  \n",
      " 120  num_op_var40_hace3             76020 non-null  int64  \n",
      " 121  num_op_var40_ult1              76020 non-null  int64  \n",
      " 122  num_op_var40_ult3              76020 non-null  int64  \n",
      " 123  num_op_var41_hace2             76020 non-null  int64  \n",
      " 124  num_op_var41_hace3             76020 non-null  int64  \n",
      " 125  num_op_var41_ult1              76020 non-null  int64  \n",
      " 126  num_op_var41_ult3              76020 non-null  int64  \n",
      " 127  num_op_var39_hace2             76020 non-null  int64  \n",
      " 128  num_op_var39_hace3             76020 non-null  int64  \n",
      " 129  num_op_var39_ult1              76020 non-null  int64  \n",
      " 130  num_op_var39_ult3              76020 non-null  int64  \n",
      " 131  num_var27_0                    76020 non-null  int64  \n",
      " 132  num_var28_0                    76020 non-null  int64  \n",
      " 133  num_var28                      76020 non-null  int64  \n",
      " 134  num_var27                      76020 non-null  int64  \n",
      " 135  num_var29_0                    76020 non-null  int64  \n",
      " 136  num_var29                      76020 non-null  int64  \n",
      " 137  num_var30_0                    76020 non-null  int64  \n",
      " 138  num_var30                      76020 non-null  int64  \n",
      " 139  num_var31_0                    76020 non-null  int64  \n",
      " 140  num_var31                      76020 non-null  int64  \n",
      " 141  num_var32_0                    76020 non-null  int64  \n",
      " 142  num_var32                      76020 non-null  int64  \n",
      " 143  num_var33_0                    76020 non-null  int64  \n",
      " 144  num_var33                      76020 non-null  int64  \n",
      " 145  num_var34_0                    76020 non-null  int64  \n",
      " 146  num_var34                      76020 non-null  int64  \n",
      " 147  num_var35                      76020 non-null  int64  \n",
      " 148  num_var37_med_ult2             76020 non-null  int64  \n",
      " 149  num_var37_0                    76020 non-null  int64  \n",
      " 150  num_var37                      76020 non-null  int64  \n",
      " 151  num_var39_0                    76020 non-null  int64  \n",
      " 152  num_var40_0                    76020 non-null  int64  \n",
      " 153  num_var40                      76020 non-null  int64  \n",
      " 154  num_var41_0                    76020 non-null  int64  \n",
      " 155  num_var41                      76020 non-null  int64  \n",
      " 156  num_var39                      76020 non-null  int64  \n",
      " 157  num_var42_0                    76020 non-null  int64  \n",
      " 158  num_var42                      76020 non-null  int64  \n",
      " 159  num_var44_0                    76020 non-null  int64  \n",
      " 160  num_var44                      76020 non-null  int64  \n",
      " 161  num_var46_0                    76020 non-null  int64  \n",
      " 162  num_var46                      76020 non-null  int64  \n",
      " 163  saldo_var1                     76020 non-null  float64\n",
      " 164  saldo_var5                     76020 non-null  float64\n",
      " 165  saldo_var6                     76020 non-null  float64\n",
      " 166  saldo_var8                     76020 non-null  float64\n",
      " 167  saldo_var12                    76020 non-null  float64\n",
      " 168  saldo_var13_corto              76020 non-null  float64\n",
      " 169  saldo_var13_largo              76020 non-null  float64\n",
      " 170  saldo_var13_medio              76020 non-null  int64  \n",
      " 171  saldo_var13                    76020 non-null  float64\n",
      " 172  saldo_var14                    76020 non-null  float64\n",
      " 173  saldo_var17                    76020 non-null  float64\n",
      " 174  saldo_var18                    76020 non-null  int64  \n",
      " 175  saldo_var20                    76020 non-null  float64\n",
      " 176  saldo_var24                    76020 non-null  float64\n",
      " 177  saldo_var26                    76020 non-null  float64\n",
      " 178  saldo_var25                    76020 non-null  float64\n",
      " 179  saldo_var28                    76020 non-null  int64  \n",
      " 180  saldo_var27                    76020 non-null  int64  \n",
      " 181  saldo_var29                    76020 non-null  float64\n",
      " 182  saldo_var30                    76020 non-null  float64\n",
      " 183  saldo_var31                    76020 non-null  float64\n",
      " 184  saldo_var32                    76020 non-null  float64\n",
      " 185  saldo_var33                    76020 non-null  float64\n",
      " 186  saldo_var34                    76020 non-null  int64  \n",
      " 187  saldo_var37                    76020 non-null  float64\n",
      " 188  saldo_var40                    76020 non-null  float64\n",
      " 189  saldo_var41                    76020 non-null  int64  \n",
      " 190  saldo_var42                    76020 non-null  float64\n",
      " 191  saldo_var44                    76020 non-null  float64\n",
      " 192  saldo_var46                    76020 non-null  int64  \n",
      " 193  var36                          76020 non-null  int64  \n",
      " 194  delta_imp_amort_var18_1y3      76020 non-null  int64  \n",
      " 195  delta_imp_amort_var34_1y3      76020 non-null  int64  \n",
      " 196  delta_imp_aport_var13_1y3      76020 non-null  float64\n",
      " 197  delta_imp_aport_var17_1y3      76020 non-null  float64\n",
      " 198  delta_imp_aport_var33_1y3      76020 non-null  float64\n",
      " 199  delta_imp_compra_var44_1y3     76020 non-null  float64\n",
      " 200  delta_imp_reemb_var13_1y3      76020 non-null  int64  \n",
      " 201  delta_imp_reemb_var17_1y3      76020 non-null  int64  \n",
      " 202  delta_imp_reemb_var33_1y3      76020 non-null  int64  \n",
      " 203  delta_imp_trasp_var17_in_1y3   76020 non-null  int64  \n",
      " 204  delta_imp_trasp_var17_out_1y3  76020 non-null  int64  \n",
      " 205  delta_imp_trasp_var33_in_1y3   76020 non-null  int64  \n",
      " 206  delta_imp_trasp_var33_out_1y3  76020 non-null  int64  \n",
      " 207  delta_imp_venta_var44_1y3      76020 non-null  float64\n",
      " 208  delta_num_aport_var13_1y3      76020 non-null  float64\n",
      " 209  delta_num_aport_var17_1y3      76020 non-null  float64\n",
      " 210  delta_num_aport_var33_1y3      76020 non-null  float64\n",
      " 211  delta_num_compra_var44_1y3     76020 non-null  float64\n",
      " 212  delta_num_reemb_var13_1y3      76020 non-null  int64  \n",
      " 213  delta_num_reemb_var17_1y3      76020 non-null  int64  \n",
      " 214  delta_num_reemb_var33_1y3      76020 non-null  int64  \n",
      " 215  delta_num_trasp_var17_in_1y3   76020 non-null  int64  \n",
      " 216  delta_num_trasp_var17_out_1y3  76020 non-null  int64  \n",
      " 217  delta_num_trasp_var33_in_1y3   76020 non-null  int64  \n",
      " 218  delta_num_trasp_var33_out_1y3  76020 non-null  int64  \n",
      " 219  delta_num_venta_var44_1y3      76020 non-null  float64\n",
      " 220  imp_amort_var18_hace3          76020 non-null  int64  \n",
      " 221  imp_amort_var18_ult1           76020 non-null  float64\n",
      " 222  imp_amort_var34_hace3          76020 non-null  int64  \n",
      " 223  imp_amort_var34_ult1           76020 non-null  float64\n",
      " 224  imp_aport_var13_hace3          76020 non-null  float64\n",
      " 225  imp_aport_var13_ult1           76020 non-null  float64\n",
      " 226  imp_aport_var17_hace3          76020 non-null  float64\n",
      " 227  imp_aport_var17_ult1           76020 non-null  float64\n",
      " 228  imp_aport_var33_hace3          76020 non-null  int64  \n",
      " 229  imp_aport_var33_ult1           76020 non-null  int64  \n",
      " 230  imp_var7_emit_ult1             76020 non-null  float64\n",
      " 231  imp_var7_recib_ult1            76020 non-null  float64\n",
      " 232  imp_compra_var44_hace3         76020 non-null  float64\n",
      " 233  imp_compra_var44_ult1          76020 non-null  float64\n",
      " 234  imp_reemb_var13_hace3          76020 non-null  int64  \n",
      " 235  imp_reemb_var13_ult1           76020 non-null  float64\n",
      " 236  imp_reemb_var17_hace3          76020 non-null  float64\n",
      " 237  imp_reemb_var17_ult1           76020 non-null  float64\n",
      " 238  imp_reemb_var33_hace3          76020 non-null  int64  \n",
      " 239  imp_reemb_var33_ult1           76020 non-null  int64  \n",
      " 240  imp_var43_emit_ult1            76020 non-null  float64\n",
      " 241  imp_trans_var37_ult1           76020 non-null  float64\n",
      " 242  imp_trasp_var17_in_hace3       76020 non-null  float64\n",
      " 243  imp_trasp_var17_in_ult1        76020 non-null  float64\n",
      " 244  imp_trasp_var17_out_hace3      76020 non-null  int64  \n",
      " 245  imp_trasp_var17_out_ult1       76020 non-null  float64\n",
      " 246  imp_trasp_var33_in_hace3       76020 non-null  float64\n",
      " 247  imp_trasp_var33_in_ult1        76020 non-null  float64\n",
      " 248  imp_trasp_var33_out_hace3      76020 non-null  int64  \n",
      " 249  imp_trasp_var33_out_ult1       76020 non-null  int64  \n",
      " 250  imp_venta_var44_hace3          76020 non-null  float64\n",
      " 251  imp_venta_var44_ult1           76020 non-null  float64\n",
      " 252  ind_var7_emit_ult1             76020 non-null  int64  \n",
      " 253  ind_var7_recib_ult1            76020 non-null  int64  \n",
      " 254  ind_var10_ult1                 76020 non-null  int64  \n",
      " 255  ind_var10cte_ult1              76020 non-null  int64  \n",
      " 256  ind_var9_cte_ult1              76020 non-null  int64  \n",
      " 257  ind_var9_ult1                  76020 non-null  int64  \n",
      " 258  ind_var43_emit_ult1            76020 non-null  int64  \n",
      " 259  ind_var43_recib_ult1           76020 non-null  int64  \n",
      " 260  var21                          76020 non-null  int64  \n",
      " 261  num_var2_0_ult1                76020 non-null  int64  \n",
      " 262  num_var2_ult1                  76020 non-null  int64  \n",
      " 263  num_aport_var13_hace3          76020 non-null  int64  \n",
      " 264  num_aport_var13_ult1           76020 non-null  int64  \n",
      " 265  num_aport_var17_hace3          76020 non-null  int64  \n",
      " 266  num_aport_var17_ult1           76020 non-null  int64  \n",
      " 267  num_aport_var33_hace3          76020 non-null  int64  \n",
      " 268  num_aport_var33_ult1           76020 non-null  int64  \n",
      " 269  num_var7_emit_ult1             76020 non-null  int64  \n",
      " 270  num_var7_recib_ult1            76020 non-null  int64  \n",
      " 271  num_compra_var44_hace3         76020 non-null  int64  \n",
      " 272  num_compra_var44_ult1          76020 non-null  int64  \n",
      " 273  num_ent_var16_ult1             76020 non-null  int64  \n",
      " 274  num_var22_hace2                76020 non-null  int64  \n",
      " 275  num_var22_hace3                76020 non-null  int64  \n",
      " 276  num_var22_ult1                 76020 non-null  int64  \n",
      " 277  num_var22_ult3                 76020 non-null  int64  \n",
      " 278  num_med_var22_ult3             76020 non-null  int64  \n",
      " 279  num_med_var45_ult3             76020 non-null  int64  \n",
      " 280  num_meses_var5_ult3            76020 non-null  int64  \n",
      " 281  num_meses_var8_ult3            76020 non-null  int64  \n",
      " 282  num_meses_var12_ult3           76020 non-null  int64  \n",
      " 283  num_meses_var13_corto_ult3     76020 non-null  int64  \n",
      " 284  num_meses_var13_largo_ult3     76020 non-null  int64  \n",
      " 285  num_meses_var13_medio_ult3     76020 non-null  int64  \n",
      " 286  num_meses_var17_ult3           76020 non-null  int64  \n",
      " 287  num_meses_var29_ult3           76020 non-null  int64  \n",
      " 288  num_meses_var33_ult3           76020 non-null  int64  \n",
      " 289  num_meses_var39_vig_ult3       76020 non-null  int64  \n",
      " 290  num_meses_var44_ult3           76020 non-null  int64  \n",
      " 291  num_op_var39_comer_ult1        76020 non-null  int64  \n",
      " 292  num_op_var39_comer_ult3        76020 non-null  int64  \n",
      " 293  num_op_var40_comer_ult1        76020 non-null  int64  \n",
      " 294  num_op_var40_comer_ult3        76020 non-null  int64  \n",
      " 295  num_op_var40_efect_ult1        76020 non-null  int64  \n",
      " 296  num_op_var40_efect_ult3        76020 non-null  int64  \n",
      " 297  num_op_var41_comer_ult1        76020 non-null  int64  \n",
      " 298  num_op_var41_comer_ult3        76020 non-null  int64  \n",
      " 299  num_op_var41_efect_ult1        76020 non-null  int64  \n",
      " 300  num_op_var41_efect_ult3        76020 non-null  int64  \n",
      " 301  num_op_var39_efect_ult1        76020 non-null  int64  \n",
      " 302  num_op_var39_efect_ult3        76020 non-null  int64  \n",
      " 303  num_reemb_var13_hace3          76020 non-null  int64  \n",
      " 304  num_reemb_var13_ult1           76020 non-null  int64  \n",
      " 305  num_reemb_var17_hace3          76020 non-null  int64  \n",
      " 306  num_reemb_var17_ult1           76020 non-null  int64  \n",
      " 307  num_reemb_var33_hace3          76020 non-null  int64  \n",
      " 308  num_reemb_var33_ult1           76020 non-null  int64  \n",
      " 309  num_sal_var16_ult1             76020 non-null  int64  \n",
      " 310  num_var43_emit_ult1            76020 non-null  int64  \n",
      " 311  num_var43_recib_ult1           76020 non-null  int64  \n",
      " 312  num_trasp_var11_ult1           76020 non-null  int64  \n",
      " 313  num_trasp_var17_in_hace3       76020 non-null  int64  \n",
      " 314  num_trasp_var17_in_ult1        76020 non-null  int64  \n",
      " 315  num_trasp_var17_out_hace3      76020 non-null  int64  \n",
      " 316  num_trasp_var17_out_ult1       76020 non-null  int64  \n",
      " 317  num_trasp_var33_in_hace3       76020 non-null  int64  \n",
      " 318  num_trasp_var33_in_ult1        76020 non-null  int64  \n",
      " 319  num_trasp_var33_out_hace3      76020 non-null  int64  \n",
      " 320  num_trasp_var33_out_ult1       76020 non-null  int64  \n",
      " 321  num_venta_var44_hace3          76020 non-null  int64  \n",
      " 322  num_venta_var44_ult1           76020 non-null  int64  \n",
      " 323  num_var45_hace2                76020 non-null  int64  \n",
      " 324  num_var45_hace3                76020 non-null  int64  \n",
      " 325  num_var45_ult1                 76020 non-null  int64  \n",
      " 326  num_var45_ult3                 76020 non-null  int64  \n",
      " 327  saldo_var2_ult1                76020 non-null  int64  \n",
      " 328  saldo_medio_var5_hace2         76020 non-null  float64\n",
      " 329  saldo_medio_var5_hace3         76020 non-null  float64\n",
      " 330  saldo_medio_var5_ult1          76020 non-null  float64\n",
      " 331  saldo_medio_var5_ult3          76020 non-null  float64\n",
      " 332  saldo_medio_var8_hace2         76020 non-null  float64\n",
      " 333  saldo_medio_var8_hace3         76020 non-null  float64\n",
      " 334  saldo_medio_var8_ult1          76020 non-null  float64\n",
      " 335  saldo_medio_var8_ult3          76020 non-null  float64\n",
      " 336  saldo_medio_var12_hace2        76020 non-null  float64\n",
      " 337  saldo_medio_var12_hace3        76020 non-null  float64\n",
      " 338  saldo_medio_var12_ult1         76020 non-null  float64\n",
      " 339  saldo_medio_var12_ult3         76020 non-null  float64\n",
      " 340  saldo_medio_var13_corto_hace2  76020 non-null  float64\n",
      " 341  saldo_medio_var13_corto_hace3  76020 non-null  float64\n",
      " 342  saldo_medio_var13_corto_ult1   76020 non-null  float64\n",
      " 343  saldo_medio_var13_corto_ult3   76020 non-null  float64\n",
      " 344  saldo_medio_var13_largo_hace2  76020 non-null  float64\n",
      " 345  saldo_medio_var13_largo_hace3  76020 non-null  float64\n",
      " 346  saldo_medio_var13_largo_ult1   76020 non-null  float64\n",
      " 347  saldo_medio_var13_largo_ult3   76020 non-null  float64\n",
      " 348  saldo_medio_var13_medio_hace2  76020 non-null  float64\n",
      " 349  saldo_medio_var13_medio_hace3  76020 non-null  int64  \n",
      " 350  saldo_medio_var13_medio_ult1   76020 non-null  int64  \n",
      " 351  saldo_medio_var13_medio_ult3   76020 non-null  float64\n",
      " 352  saldo_medio_var17_hace2        76020 non-null  float64\n",
      " 353  saldo_medio_var17_hace3        76020 non-null  float64\n",
      " 354  saldo_medio_var17_ult1         76020 non-null  float64\n",
      " 355  saldo_medio_var17_ult3         76020 non-null  float64\n",
      " 356  saldo_medio_var29_hace2        76020 non-null  float64\n",
      " 357  saldo_medio_var29_hace3        76020 non-null  float64\n",
      " 358  saldo_medio_var29_ult1         76020 non-null  float64\n",
      " 359  saldo_medio_var29_ult3         76020 non-null  float64\n",
      " 360  saldo_medio_var33_hace2        76020 non-null  float64\n",
      " 361  saldo_medio_var33_hace3        76020 non-null  float64\n",
      " 362  saldo_medio_var33_ult1         76020 non-null  float64\n",
      " 363  saldo_medio_var33_ult3         76020 non-null  float64\n",
      " 364  saldo_medio_var44_hace2        76020 non-null  float64\n",
      " 365  saldo_medio_var44_hace3        76020 non-null  float64\n",
      " 366  saldo_medio_var44_ult1         76020 non-null  float64\n",
      " 367  saldo_medio_var44_ult3         76020 non-null  float64\n",
      " 368  var38                          76020 non-null  float64\n",
      " 369  TARGET                         76020 non-null  int64  \n",
      "dtypes: float64(111), int64(259)\n",
      "memory usage: 214.6 MB\n"
     ]
    }
   ],
   "source": [
    "train.info(verbose=True, show_counts=True)"
   ]
  },
  {
   "cell_type": "markdown",
   "metadata": {
    "id": "Y2mOzv629Tpe"
   },
   "source": [
    "**Bình luận**\n",
    "\n",
    "- Như chúng ta đã thấy, lần này các đặc trưng của chúng ta chỉ có một định dạng duy nhất là định dạng số. Nên chúng ta sẽ đi sâu hơn về các kỹ thuật xử lý đặc trưng dạng số.\n",
    "\n",
    "- Biến giá trị số có kiểu dữ liệu 'float64' và 'int64'.\n",
    "\n",
    "- Không có giá trị khuyết tồn tại trong tập dữ liệu."
   ]
  },
  {
   "cell_type": "markdown",
   "metadata": {
    "id": "8jgWtcF-9Tpe"
   },
   "source": [
    "## 2.2 Phân tích biến mục tiêu\n",
    "\n",
    "Do đặc trưng chúng ta muốn dự đoán là **TARGET** nên chúng ta sẽ tiến hành phân tích kỹ hơn về đặc trưng này"
   ]
  },
  {
   "cell_type": "markdown",
   "metadata": {
    "id": "_hfertXI9Tpf"
   },
   "source": [
    "- Kểm tra số lượng nhãn của đặc trưng"
   ]
  },
  {
   "cell_type": "code",
   "execution_count": 10,
   "metadata": {
    "id": "DknSKxw69Tpg",
    "outputId": "111a689d-5139-418e-8e3e-d4a4e862b04f"
   },
   "outputs": [
    {
     "data": {
      "text/plain": [
       "2"
      ]
     },
     "execution_count": 10,
     "metadata": {},
     "output_type": "execute_result"
    }
   ],
   "source": [
    "## Requirement 4:\n",
    "## PUT YOUR CODE HERE:\n",
    "\n",
    "train[\"TARGET\"].nunique()"
   ]
  },
  {
   "cell_type": "code",
   "execution_count": 11,
   "metadata": {
    "id": "H5KUayjj9Tpg",
    "outputId": "d9c23948-55e0-417e-edaa-5f700d2f316d"
   },
   "outputs": [
    {
     "data": {
      "text/plain": [
       "array([0, 1], dtype=int64)"
      ]
     },
     "execution_count": 11,
     "metadata": {},
     "output_type": "execute_result"
    }
   ],
   "source": [
    "## Requirement 5:\n",
    "## PUT YOUR CODE HERE:\n",
    "\n",
    "train[\"TARGET\"].unique()"
   ]
  },
  {
   "cell_type": "markdown",
   "metadata": {
    "id": "7EAWRTgV9Tph"
   },
   "source": [
    "- Xem phân phối tần suất của các giá trị"
   ]
  },
  {
   "cell_type": "code",
   "execution_count": 12,
   "metadata": {
    "id": "syLjODJO9Tph",
    "outputId": "970f4070-890b-443c-8551-073523707401"
   },
   "outputs": [
    {
     "data": {
      "image/png": "[encoded data removed]",
      "text/plain": [
       "<Figure size 600x800 with 1 Axes>"
      ]
     },
     "metadata": {},
     "output_type": "display_data"
    }
   ],
   "source": [
    "## Requirement 6:\n",
    "## PUT YOUR CODE HERE:\n",
    "f, ax = plt.subplots(figsize=(6, 8))\n",
    "ax = sns.countplot(x=\"TARGET\", data=train, palette=\"Set1\")\n",
    "plt.show()"
   ]
  },
  {
   "cell_type": "code",
   "execution_count": 13,
   "metadata": {
    "id": "JhvnTlPk9Tph",
    "outputId": "58c01f9a-55a7-4977-c839-ffaabf8c244e"
   },
   "outputs": [
    {
     "data": {
      "text/plain": [
       "0    73012\n",
       "1     3008\n",
       "Name: TARGET, dtype: int64"
      ]
     },
     "execution_count": 13,
     "metadata": {},
     "output_type": "execute_result"
    }
   ],
   "source": [
    "train['TARGET'].value_counts()"
   ]
  },
  {
   "cell_type": "code",
   "execution_count": 14,
   "metadata": {
    "id": "h2g4v5HD9Tph",
    "outputId": "a574ca07-01ce-4dc9-98ef-ee32efb359d8"
   },
   "outputs": [
    {
     "data": {
      "text/plain": [
       "0    0.960431\n",
       "1    0.039569\n",
       "Name: TARGET, dtype: float64"
      ]
     },
     "execution_count": 14,
     "metadata": {},
     "output_type": "execute_result"
    }
   ],
   "source": [
    "train['TARGET'].value_counts()/len(train)"
   ]
  },
  {
   "cell_type": "markdown",
   "metadata": {
    "id": "qOoHiN1X9Tpi"
   },
   "source": [
    "**Kết quả của phân tích đơn biến**\n",
    "\n",
    "- Số lượng nhãn trong biến TARGET là 2.\n",
    "\n",
    "- Hai giá trị nhãn là 0 và 1.\n",
    "\n",
    "- Trong tổng số giá trị của TARGET, No xuất hiện 96,04% lần và Yes xuất hiện 3,96% lần.\n",
    "\n",
    "- Biểu đồ đơn biến xác nhận những phát hiện của chúng ta rằng\n",
    "\n",
    "    - 0 có 73012 giá trị và\n",
    "\n",
    "    - 1 có 3008 giá trị.\n",
    "    \n",
    "- Dữ liệu bị mất cân bằng, đòi hỏi phải có các kỹ thuật xử lý đặc biệt để mô hình không bị 'bias'"
   ]
  },
  {
   "cell_type": "markdown",
   "metadata": {
    "id": "VuNicUS-9Tpi"
   },
   "source": [
    "## 2.3 Phân tích biến phụ thuộc"
   ]
  },
  {
   "cell_type": "markdown",
   "metadata": {
    "id": "8N0RjVXw9Tpi"
   },
   "source": [
    "- Xem các thuộc tính thống kê của tập dữ liệu"
   ]
  },
  {
   "cell_type": "code",
   "execution_count": 15,
   "metadata": {
    "id": "JMV14SOT9Tpi",
    "outputId": "ef388d7f-a50c-4c25-92be-c1305da1f918"
   },
   "outputs": [
    {
     "data": {
      "text/html": [
       "<div>\n",
       "<style scoped>\n",
       "    .dataframe tbody tr th:only-of-type {\n",
       "        vertical-align: middle;\n",
       "    }\n",
       "\n",
       "    .dataframe tbody tr th {\n",
       "        vertical-align: top;\n",
       "    }\n",
       "\n",
       "    .dataframe thead th {\n",
       "        text-align: right;\n",
       "    }\n",
       "</style>\n",
       "<table border=\"1\" class=\"dataframe\">\n",
       "  <thead>\n",
       "    <tr style=\"text-align: right;\">\n",
       "      <th></th>\n",
       "      <th>var3</th>\n",
       "      <th>var15</th>\n",
       "      <th>imp_ent_var16_ult1</th>\n",
       "      <th>imp_op_var39_comer_ult1</th>\n",
       "      <th>imp_op_var39_comer_ult3</th>\n",
       "      <th>imp_op_var40_comer_ult1</th>\n",
       "      <th>imp_op_var40_comer_ult3</th>\n",
       "      <th>imp_op_var40_efect_ult1</th>\n",
       "      <th>imp_op_var40_efect_ult3</th>\n",
       "      <th>imp_op_var40_ult1</th>\n",
       "      <th>...</th>\n",
       "      <th>saldo_medio_var33_hace2</th>\n",
       "      <th>saldo_medio_var33_hace3</th>\n",
       "      <th>saldo_medio_var33_ult1</th>\n",
       "      <th>saldo_medio_var33_ult3</th>\n",
       "      <th>saldo_medio_var44_hace2</th>\n",
       "      <th>saldo_medio_var44_hace3</th>\n",
       "      <th>saldo_medio_var44_ult1</th>\n",
       "      <th>saldo_medio_var44_ult3</th>\n",
       "      <th>var38</th>\n",
       "      <th>TARGET</th>\n",
       "    </tr>\n",
       "  </thead>\n",
       "  <tbody>\n",
       "    <tr>\n",
       "      <th>count</th>\n",
       "      <td>76020.000000</td>\n",
       "      <td>76020.000000</td>\n",
       "      <td>76020.000000</td>\n",
       "      <td>76020.000000</td>\n",
       "      <td>76020.000000</td>\n",
       "      <td>76020.000000</td>\n",
       "      <td>76020.000000</td>\n",
       "      <td>76020.000000</td>\n",
       "      <td>76020.000000</td>\n",
       "      <td>76020.000000</td>\n",
       "      <td>...</td>\n",
       "      <td>76020.000000</td>\n",
       "      <td>76020.000000</td>\n",
       "      <td>76020.000000</td>\n",
       "      <td>76020.000000</td>\n",
       "      <td>76020.000000</td>\n",
       "      <td>76020.000000</td>\n",
       "      <td>76020.000000</td>\n",
       "      <td>76020.000000</td>\n",
       "      <td>7.602000e+04</td>\n",
       "      <td>76020.000000</td>\n",
       "    </tr>\n",
       "    <tr>\n",
       "      <th>mean</th>\n",
       "      <td>-1523.199277</td>\n",
       "      <td>33.212865</td>\n",
       "      <td>86.208265</td>\n",
       "      <td>72.363067</td>\n",
       "      <td>119.529632</td>\n",
       "      <td>3.559130</td>\n",
       "      <td>6.472698</td>\n",
       "      <td>0.412946</td>\n",
       "      <td>0.567352</td>\n",
       "      <td>3.160715</td>\n",
       "      <td>...</td>\n",
       "      <td>7.935824</td>\n",
       "      <td>1.365146</td>\n",
       "      <td>12.215580</td>\n",
       "      <td>8.784074</td>\n",
       "      <td>31.505324</td>\n",
       "      <td>1.858575</td>\n",
       "      <td>76.026165</td>\n",
       "      <td>56.614351</td>\n",
       "      <td>1.172358e+05</td>\n",
       "      <td>0.039569</td>\n",
       "    </tr>\n",
       "    <tr>\n",
       "      <th>std</th>\n",
       "      <td>39033.462364</td>\n",
       "      <td>12.956486</td>\n",
       "      <td>1614.757313</td>\n",
       "      <td>339.315831</td>\n",
       "      <td>546.266294</td>\n",
       "      <td>93.155749</td>\n",
       "      <td>153.737066</td>\n",
       "      <td>30.604864</td>\n",
       "      <td>36.513513</td>\n",
       "      <td>95.268204</td>\n",
       "      <td>...</td>\n",
       "      <td>455.887218</td>\n",
       "      <td>113.959637</td>\n",
       "      <td>783.207399</td>\n",
       "      <td>538.439211</td>\n",
       "      <td>2013.125393</td>\n",
       "      <td>147.786584</td>\n",
       "      <td>4040.337842</td>\n",
       "      <td>2852.579397</td>\n",
       "      <td>1.826646e+05</td>\n",
       "      <td>0.194945</td>\n",
       "    </tr>\n",
       "    <tr>\n",
       "      <th>min</th>\n",
       "      <td>-999999.000000</td>\n",
       "      <td>5.000000</td>\n",
       "      <td>0.000000</td>\n",
       "      <td>0.000000</td>\n",
       "      <td>0.000000</td>\n",
       "      <td>0.000000</td>\n",
       "      <td>0.000000</td>\n",
       "      <td>0.000000</td>\n",
       "      <td>0.000000</td>\n",
       "      <td>0.000000</td>\n",
       "      <td>...</td>\n",
       "      <td>0.000000</td>\n",
       "      <td>0.000000</td>\n",
       "      <td>0.000000</td>\n",
       "      <td>0.000000</td>\n",
       "      <td>0.000000</td>\n",
       "      <td>0.000000</td>\n",
       "      <td>0.000000</td>\n",
       "      <td>0.000000</td>\n",
       "      <td>5.163750e+03</td>\n",
       "      <td>0.000000</td>\n",
       "    </tr>\n",
       "    <tr>\n",
       "      <th>25%</th>\n",
       "      <td>2.000000</td>\n",
       "      <td>23.000000</td>\n",
       "      <td>0.000000</td>\n",
       "      <td>0.000000</td>\n",
       "      <td>0.000000</td>\n",
       "      <td>0.000000</td>\n",
       "      <td>0.000000</td>\n",
       "      <td>0.000000</td>\n",
       "      <td>0.000000</td>\n",
       "      <td>0.000000</td>\n",
       "      <td>...</td>\n",
       "      <td>0.000000</td>\n",
       "      <td>0.000000</td>\n",
       "      <td>0.000000</td>\n",
       "      <td>0.000000</td>\n",
       "      <td>0.000000</td>\n",
       "      <td>0.000000</td>\n",
       "      <td>0.000000</td>\n",
       "      <td>0.000000</td>\n",
       "      <td>6.787061e+04</td>\n",
       "      <td>0.000000</td>\n",
       "    </tr>\n",
       "    <tr>\n",
       "      <th>50%</th>\n",
       "      <td>2.000000</td>\n",
       "      <td>28.000000</td>\n",
       "      <td>0.000000</td>\n",
       "      <td>0.000000</td>\n",
       "      <td>0.000000</td>\n",
       "      <td>0.000000</td>\n",
       "      <td>0.000000</td>\n",
       "      <td>0.000000</td>\n",
       "      <td>0.000000</td>\n",
       "      <td>0.000000</td>\n",
       "      <td>...</td>\n",
       "      <td>0.000000</td>\n",
       "      <td>0.000000</td>\n",
       "      <td>0.000000</td>\n",
       "      <td>0.000000</td>\n",
       "      <td>0.000000</td>\n",
       "      <td>0.000000</td>\n",
       "      <td>0.000000</td>\n",
       "      <td>0.000000</td>\n",
       "      <td>1.064092e+05</td>\n",
       "      <td>0.000000</td>\n",
       "    </tr>\n",
       "    <tr>\n",
       "      <th>75%</th>\n",
       "      <td>2.000000</td>\n",
       "      <td>40.000000</td>\n",
       "      <td>0.000000</td>\n",
       "      <td>0.000000</td>\n",
       "      <td>0.000000</td>\n",
       "      <td>0.000000</td>\n",
       "      <td>0.000000</td>\n",
       "      <td>0.000000</td>\n",
       "      <td>0.000000</td>\n",
       "      <td>0.000000</td>\n",
       "      <td>...</td>\n",
       "      <td>0.000000</td>\n",
       "      <td>0.000000</td>\n",
       "      <td>0.000000</td>\n",
       "      <td>0.000000</td>\n",
       "      <td>0.000000</td>\n",
       "      <td>0.000000</td>\n",
       "      <td>0.000000</td>\n",
       "      <td>0.000000</td>\n",
       "      <td>1.187563e+05</td>\n",
       "      <td>0.000000</td>\n",
       "    </tr>\n",
       "    <tr>\n",
       "      <th>max</th>\n",
       "      <td>238.000000</td>\n",
       "      <td>105.000000</td>\n",
       "      <td>210000.000000</td>\n",
       "      <td>12888.030000</td>\n",
       "      <td>21024.810000</td>\n",
       "      <td>8237.820000</td>\n",
       "      <td>11073.570000</td>\n",
       "      <td>6600.000000</td>\n",
       "      <td>6600.000000</td>\n",
       "      <td>8237.820000</td>\n",
       "      <td>...</td>\n",
       "      <td>50003.880000</td>\n",
       "      <td>20385.720000</td>\n",
       "      <td>138831.630000</td>\n",
       "      <td>91778.730000</td>\n",
       "      <td>438329.220000</td>\n",
       "      <td>24650.010000</td>\n",
       "      <td>681462.900000</td>\n",
       "      <td>397884.300000</td>\n",
       "      <td>2.203474e+07</td>\n",
       "      <td>1.000000</td>\n",
       "    </tr>\n",
       "  </tbody>\n",
       "</table>\n",
       "<p>8 rows × 370 columns</p>\n",
       "</div>"
      ],
      "text/plain": [
       "                var3         var15  imp_ent_var16_ult1  \\\n",
       "count   76020.000000  76020.000000        76020.000000   \n",
       "mean    -1523.199277     33.212865           86.208265   \n",
       "std     39033.462364     12.956486         1614.757313   \n",
       "min   -999999.000000      5.000000            0.000000   \n",
       "25%         2.000000     23.000000            0.000000   \n",
       "50%         2.000000     28.000000            0.000000   \n",
       "75%         2.000000     40.000000            0.000000   \n",
       "max       238.000000    105.000000       210000.000000   \n",
       "\n",
       "       imp_op_var39_comer_ult1  imp_op_var39_comer_ult3  \\\n",
       "count             76020.000000             76020.000000   \n",
       "mean                 72.363067               119.529632   \n",
       "std                 339.315831               546.266294   \n",
       "min                   0.000000                 0.000000   \n",
       "25%                   0.000000                 0.000000   \n",
       "50%                   0.000000                 0.000000   \n",
       "75%                   0.000000                 0.000000   \n",
       "max               12888.030000             21024.810000   \n",
       "\n",
       "       imp_op_var40_comer_ult1  imp_op_var40_comer_ult3  \\\n",
       "count             76020.000000             76020.000000   \n",
       "mean                  3.559130                 6.472698   \n",
       "std                  93.155749               153.737066   \n",
       "min                   0.000000                 0.000000   \n",
       "25%                   0.000000                 0.000000   \n",
       "50%                   0.000000                 0.000000   \n",
       "75%                   0.000000                 0.000000   \n",
       "max                8237.820000             11073.570000   \n",
       "\n",
       "       imp_op_var40_efect_ult1  imp_op_var40_efect_ult3  imp_op_var40_ult1  \\\n",
       "count             76020.000000             76020.000000       76020.000000   \n",
       "mean                  0.412946                 0.567352           3.160715   \n",
       "std                  30.604864                36.513513          95.268204   \n",
       "min                   0.000000                 0.000000           0.000000   \n",
       "25%                   0.000000                 0.000000           0.000000   \n",
       "50%                   0.000000                 0.000000           0.000000   \n",
       "75%                   0.000000                 0.000000           0.000000   \n",
       "max                6600.000000              6600.000000        8237.820000   \n",
       "\n",
       "       ...  saldo_medio_var33_hace2  saldo_medio_var33_hace3  \\\n",
       "count  ...             76020.000000             76020.000000   \n",
       "mean   ...                 7.935824                 1.365146   \n",
       "std    ...               455.887218               113.959637   \n",
       "min    ...                 0.000000                 0.000000   \n",
       "25%    ...                 0.000000                 0.000000   \n",
       "50%    ...                 0.000000                 0.000000   \n",
       "75%    ...                 0.000000                 0.000000   \n",
       "max    ...             50003.880000             20385.720000   \n",
       "\n",
       "       saldo_medio_var33_ult1  saldo_medio_var33_ult3  \\\n",
       "count            76020.000000            76020.000000   \n",
       "mean                12.215580                8.784074   \n",
       "std                783.207399              538.439211   \n",
       "min                  0.000000                0.000000   \n",
       "25%                  0.000000                0.000000   \n",
       "50%                  0.000000                0.000000   \n",
       "75%                  0.000000                0.000000   \n",
       "max             138831.630000            91778.730000   \n",
       "\n",
       "       saldo_medio_var44_hace2  saldo_medio_var44_hace3  \\\n",
       "count             76020.000000             76020.000000   \n",
       "mean                 31.505324                 1.858575   \n",
       "std                2013.125393               147.786584   \n",
       "min                   0.000000                 0.000000   \n",
       "25%                   0.000000                 0.000000   \n",
       "50%                   0.000000                 0.000000   \n",
       "75%                   0.000000                 0.000000   \n",
       "max              438329.220000             24650.010000   \n",
       "\n",
       "       saldo_medio_var44_ult1  saldo_medio_var44_ult3         var38  \\\n",
       "count            76020.000000            76020.000000  7.602000e+04   \n",
       "mean                76.026165               56.614351  1.172358e+05   \n",
       "std               4040.337842             2852.579397  1.826646e+05   \n",
       "min                  0.000000                0.000000  5.163750e+03   \n",
       "25%                  0.000000                0.000000  6.787061e+04   \n",
       "50%                  0.000000                0.000000  1.064092e+05   \n",
       "75%                  0.000000                0.000000  1.187563e+05   \n",
       "max             681462.900000           397884.300000  2.203474e+07   \n",
       "\n",
       "             TARGET  \n",
       "count  76020.000000  \n",
       "mean       0.039569  \n",
       "std        0.194945  \n",
       "min        0.000000  \n",
       "25%        0.000000  \n",
       "50%        0.000000  \n",
       "75%        0.000000  \n",
       "max        1.000000  \n",
       "\n",
       "[8 rows x 370 columns]"
      ]
     },
     "execution_count": 15,
     "metadata": {},
     "output_type": "execute_result"
    }
   ],
   "source": [
    "## Requirement 7:\n",
    "## PUT YOUR CODE HERE:\n",
    "train.describe()"
   ]
  },
  {
   "cell_type": "markdown",
   "metadata": {
    "id": "Ht6HgGvz9Tpi"
   },
   "source": [
    "- Tìm các dữ liệu ngoại lai"
   ]
  },
  {
   "cell_type": "code",
   "execution_count": 16,
   "metadata": {
    "id": "E1wDWcg19Tpk",
    "outputId": "9b30dbb0-8875-4099-c6b0-1f3c5d126d19"
   },
   "outputs": [
    {
     "name": "stdout",
     "output_type": "stream",
     "text": [
      "Dữ liệu ngoại lai của biến var3 là các giá trị < 2.0 hoặc > 2.0\n",
      "Dữ liệu ngoại lai của biến var15 là các giá trị < -28.0 hoặc > 91.0\n",
      "Dữ liệu ngoại lai của biến imp_ent_var16_ult1 là các giá trị < 0.0 hoặc > 0.0\n",
      "Dữ liệu ngoại lai của biến imp_op_var39_comer_ult1 là các giá trị < 0.0 hoặc > 0.0\n",
      "Dữ liệu ngoại lai của biến imp_op_var39_comer_ult3 là các giá trị < 0.0 hoặc > 0.0\n",
      "Dữ liệu ngoại lai của biến imp_op_var40_comer_ult1 là các giá trị < 0.0 hoặc > 0.0\n",
      "Dữ liệu ngoại lai của biến imp_op_var40_comer_ult3 là các giá trị < 0.0 hoặc > 0.0\n",
      "Dữ liệu ngoại lai của biến imp_op_var40_efect_ult1 là các giá trị < 0.0 hoặc > 0.0\n",
      "Dữ liệu ngoại lai của biến imp_op_var40_efect_ult3 là các giá trị < 0.0 hoặc > 0.0\n",
      "Dữ liệu ngoại lai của biến imp_op_var40_ult1 là các giá trị < 0.0 hoặc > 0.0\n",
      "Dữ liệu ngoại lai của biến imp_op_var41_comer_ult1 là các giá trị < 0.0 hoặc > 0.0\n",
      "Dữ liệu ngoại lai của biến imp_op_var41_comer_ult3 là các giá trị < 0.0 hoặc > 0.0\n",
      "Dữ liệu ngoại lai của biến imp_op_var41_efect_ult1 là các giá trị < 0.0 hoặc > 0.0\n",
      "Dữ liệu ngoại lai của biến imp_op_var41_efect_ult3 là các giá trị < 0.0 hoặc > 0.0\n",
      "Dữ liệu ngoại lai của biến imp_op_var41_ult1 là các giá trị < 0.0 hoặc > 0.0\n",
      "Dữ liệu ngoại lai của biến imp_op_var39_efect_ult1 là các giá trị < 0.0 hoặc > 0.0\n",
      "Dữ liệu ngoại lai của biến imp_op_var39_efect_ult3 là các giá trị < 0.0 hoặc > 0.0\n",
      "Dữ liệu ngoại lai của biến imp_op_var39_ult1 là các giá trị < 0.0 hoặc > 0.0\n",
      "Dữ liệu ngoại lai của biến imp_sal_var16_ult1 là các giá trị < 0.0 hoặc > 0.0\n",
      "Dữ liệu ngoại lai của biến ind_var1_0 là các giá trị < 0.0 hoặc > 0.0\n",
      "Dữ liệu ngoại lai của biến ind_var1 là các giá trị < 0.0 hoặc > 0.0\n",
      "Dữ liệu ngoại lai của biến ind_var2_0 là các giá trị < 0.0 hoặc > 0.0\n",
      "Dữ liệu ngoại lai của biến ind_var2 là các giá trị < 0.0 hoặc > 0.0\n",
      "Dữ liệu ngoại lai của biến ind_var5_0 là các giá trị < 1.0 hoặc > 1.0\n",
      "Dữ liệu ngoại lai của biến ind_var5 là các giá trị < -3.0 hoặc > 4.0\n",
      "Dữ liệu ngoại lai của biến ind_var6_0 là các giá trị < 0.0 hoặc > 0.0\n",
      "Dữ liệu ngoại lai của biến ind_var6 là các giá trị < 0.0 hoặc > 0.0\n",
      "Dữ liệu ngoại lai của biến ind_var8_0 là các giá trị < 0.0 hoặc > 0.0\n",
      "Dữ liệu ngoại lai của biến ind_var8 là các giá trị < 0.0 hoặc > 0.0\n",
      "Dữ liệu ngoại lai của biến ind_var12_0 là các giá trị < 0.0 hoặc > 0.0\n",
      "Dữ liệu ngoại lai của biến ind_var12 là các giá trị < 0.0 hoặc > 0.0\n",
      "Dữ liệu ngoại lai của biến ind_var13_0 là các giá trị < 0.0 hoặc > 0.0\n",
      "Dữ liệu ngoại lai của biến ind_var13_corto_0 là các giá trị < 0.0 hoặc > 0.0\n",
      "Dữ liệu ngoại lai của biến ind_var13_corto là các giá trị < 0.0 hoặc > 0.0\n",
      "Dữ liệu ngoại lai của biến ind_var13_largo_0 là các giá trị < 0.0 hoặc > 0.0\n",
      "Dữ liệu ngoại lai của biến ind_var13_largo là các giá trị < 0.0 hoặc > 0.0\n",
      "Dữ liệu ngoại lai của biến ind_var13_medio_0 là các giá trị < 0.0 hoặc > 0.0\n",
      "Dữ liệu ngoại lai của biến ind_var13_medio là các giá trị < 0.0 hoặc > 0.0\n",
      "Dữ liệu ngoại lai của biến ind_var13 là các giá trị < 0.0 hoặc > 0.0\n",
      "Dữ liệu ngoại lai của biến ind_var14_0 là các giá trị < 0.0 hoặc > 0.0\n",
      "Dữ liệu ngoại lai của biến ind_var14 là các giá trị < 0.0 hoặc > 0.0\n",
      "Dữ liệu ngoại lai của biến ind_var17_0 là các giá trị < 0.0 hoặc > 0.0\n",
      "Dữ liệu ngoại lai của biến ind_var17 là các giá trị < 0.0 hoặc > 0.0\n",
      "Dữ liệu ngoại lai của biến ind_var18_0 là các giá trị < 0.0 hoặc > 0.0\n",
      "Dữ liệu ngoại lai của biến ind_var18 là các giá trị < 0.0 hoặc > 0.0\n",
      "Dữ liệu ngoại lai của biến ind_var19 là các giá trị < 0.0 hoặc > 0.0\n",
      "Dữ liệu ngoại lai của biến ind_var20_0 là các giá trị < 0.0 hoặc > 0.0\n",
      "Dữ liệu ngoại lai của biến ind_var20 là các giá trị < 0.0 hoặc > 0.0\n",
      "Dữ liệu ngoại lai của biến ind_var24_0 là các giá trị < 0.0 hoặc > 0.0\n",
      "Dữ liệu ngoại lai của biến ind_var24 là các giá trị < 0.0 hoặc > 0.0\n",
      "Dữ liệu ngoại lai của biến ind_var25_cte là các giá trị < 0.0 hoặc > 0.0\n",
      "Dữ liệu ngoại lai của biến ind_var26_0 là các giá trị < 0.0 hoặc > 0.0\n",
      "Dữ liệu ngoại lai của biến ind_var26_cte là các giá trị < 0.0 hoặc > 0.0\n",
      "Dữ liệu ngoại lai của biến ind_var26 là các giá trị < 0.0 hoặc > 0.0\n",
      "Dữ liệu ngoại lai của biến ind_var25_0 là các giá trị < 0.0 hoặc > 0.0\n",
      "Dữ liệu ngoại lai của biến ind_var25 là các giá trị < 0.0 hoặc > 0.0\n",
      "Dữ liệu ngoại lai của biến ind_var27_0 là các giá trị < 0.0 hoặc > 0.0\n",
      "Dữ liệu ngoại lai của biến ind_var28_0 là các giá trị < 0.0 hoặc > 0.0\n",
      "Dữ liệu ngoại lai của biến ind_var28 là các giá trị < 0.0 hoặc > 0.0\n",
      "Dữ liệu ngoại lai của biến ind_var27 là các giá trị < 0.0 hoặc > 0.0\n",
      "Dữ liệu ngoại lai của biến ind_var29_0 là các giá trị < 0.0 hoặc > 0.0\n",
      "Dữ liệu ngoại lai của biến ind_var29 là các giá trị < 0.0 hoặc > 0.0\n",
      "Dữ liệu ngoại lai của biến ind_var30_0 là các giá trị < 1.0 hoặc > 1.0\n",
      "Dữ liệu ngoại lai của biến ind_var30 là các giá trị < -3.0 hoặc > 4.0\n",
      "Dữ liệu ngoại lai của biến ind_var31_0 là các giá trị < 0.0 hoặc > 0.0\n",
      "Dữ liệu ngoại lai của biến ind_var31 là các giá trị < 0.0 hoặc > 0.0\n",
      "Dữ liệu ngoại lai của biến ind_var32_cte là các giá trị < 0.0 hoặc > 0.0\n",
      "Dữ liệu ngoại lai của biến ind_var32_0 là các giá trị < 0.0 hoặc > 0.0\n",
      "Dữ liệu ngoại lai của biến ind_var32 là các giá trị < 0.0 hoặc > 0.0\n",
      "Dữ liệu ngoại lai của biến ind_var33_0 là các giá trị < 0.0 hoặc > 0.0\n",
      "Dữ liệu ngoại lai của biến ind_var33 là các giá trị < 0.0 hoặc > 0.0\n",
      "Dữ liệu ngoại lai của biến ind_var34_0 là các giá trị < 0.0 hoặc > 0.0\n",
      "Dữ liệu ngoại lai của biến ind_var34 là các giá trị < 0.0 hoặc > 0.0\n",
      "Dữ liệu ngoại lai của biến ind_var37_cte là các giá trị < 0.0 hoặc > 0.0\n",
      "Dữ liệu ngoại lai của biến ind_var37_0 là các giá trị < 0.0 hoặc > 0.0\n",
      "Dữ liệu ngoại lai của biến ind_var37 là các giá trị < 0.0 hoặc > 0.0\n",
      "Dữ liệu ngoại lai của biến ind_var39_0 là các giá trị < 1.0 hoặc > 1.0\n",
      "Dữ liệu ngoại lai của biến ind_var40_0 là các giá trị < 0.0 hoặc > 0.0\n",
      "Dữ liệu ngoại lai của biến ind_var40 là các giá trị < 0.0 hoặc > 0.0\n",
      "Dữ liệu ngoại lai của biến ind_var41_0 là các giá trị < 1.0 hoặc > 1.0\n",
      "Dữ liệu ngoại lai của biến ind_var41 là các giá trị < 0.0 hoặc > 0.0\n",
      "Dữ liệu ngoại lai của biến ind_var39 là các giá trị < 0.0 hoặc > 0.0\n",
      "Dữ liệu ngoại lai của biến ind_var44_0 là các giá trị < 0.0 hoặc > 0.0\n",
      "Dữ liệu ngoại lai của biến ind_var44 là các giá trị < 0.0 hoặc > 0.0\n",
      "Dữ liệu ngoại lai của biến ind_var46_0 là các giá trị < 0.0 hoặc > 0.0\n",
      "Dữ liệu ngoại lai của biến ind_var46 là các giá trị < 0.0 hoặc > 0.0\n",
      "Dữ liệu ngoại lai của biến num_var1_0 là các giá trị < 0.0 hoặc > 0.0\n",
      "Dữ liệu ngoại lai của biến num_var1 là các giá trị < 0.0 hoặc > 0.0\n",
      "Dữ liệu ngoại lai của biến num_var4 là các giá trị < -3.0 hoặc > 4.0\n",
      "Dữ liệu ngoại lai của biến num_var5_0 là các giá trị < 3.0 hoặc > 3.0\n",
      "Dữ liệu ngoại lai của biến num_var5 là các giá trị < -9.0 hoặc > 12.0\n",
      "Dữ liệu ngoại lai của biến num_var6_0 là các giá trị < 0.0 hoặc > 0.0\n",
      "Dữ liệu ngoại lai của biến num_var6 là các giá trị < 0.0 hoặc > 0.0\n",
      "Dữ liệu ngoại lai của biến num_var8_0 là các giá trị < 0.0 hoặc > 0.0\n",
      "Dữ liệu ngoại lai của biến num_var8 là các giá trị < 0.0 hoặc > 0.0\n",
      "Dữ liệu ngoại lai của biến num_var12_0 là các giá trị < 0.0 hoặc > 0.0\n",
      "Dữ liệu ngoại lai của biến num_var12 là các giá trị < 0.0 hoặc > 0.0\n",
      "Dữ liệu ngoại lai của biến num_var13_0 là các giá trị < 0.0 hoặc > 0.0\n",
      "Dữ liệu ngoại lai của biến num_var13_corto_0 là các giá trị < 0.0 hoặc > 0.0\n",
      "Dữ liệu ngoại lai của biến num_var13_corto là các giá trị < 0.0 hoặc > 0.0\n",
      "Dữ liệu ngoại lai của biến num_var13_largo_0 là các giá trị < 0.0 hoặc > 0.0\n",
      "Dữ liệu ngoại lai của biến num_var13_largo là các giá trị < 0.0 hoặc > 0.0\n",
      "Dữ liệu ngoại lai của biến num_var13_medio_0 là các giá trị < 0.0 hoặc > 0.0\n",
      "Dữ liệu ngoại lai của biến num_var13_medio là các giá trị < 0.0 hoặc > 0.0\n",
      "Dữ liệu ngoại lai của biến num_var13 là các giá trị < 0.0 hoặc > 0.0\n",
      "Dữ liệu ngoại lai của biến num_var14_0 là các giá trị < 0.0 hoặc > 0.0\n",
      "Dữ liệu ngoại lai của biến num_var14 là các giá trị < 0.0 hoặc > 0.0\n",
      "Dữ liệu ngoại lai của biến num_var17_0 là các giá trị < 0.0 hoặc > 0.0\n",
      "Dữ liệu ngoại lai của biến num_var17 là các giá trị < 0.0 hoặc > 0.0\n",
      "Dữ liệu ngoại lai của biến num_var18_0 là các giá trị < 0.0 hoặc > 0.0\n",
      "Dữ liệu ngoại lai của biến num_var18 là các giá trị < 0.0 hoặc > 0.0\n",
      "Dữ liệu ngoại lai của biến num_var20_0 là các giá trị < 0.0 hoặc > 0.0\n",
      "Dữ liệu ngoại lai của biến num_var20 là các giá trị < 0.0 hoặc > 0.0\n",
      "Dữ liệu ngoại lai của biến num_var24_0 là các giá trị < 0.0 hoặc > 0.0\n",
      "Dữ liệu ngoại lai của biến num_var24 là các giá trị < 0.0 hoặc > 0.0\n",
      "Dữ liệu ngoại lai của biến num_var26_0 là các giá trị < 0.0 hoặc > 0.0\n",
      "Dữ liệu ngoại lai của biến num_var26 là các giá trị < 0.0 hoặc > 0.0\n",
      "Dữ liệu ngoại lai của biến num_var25_0 là các giá trị < 0.0 hoặc > 0.0\n",
      "Dữ liệu ngoại lai của biến num_var25 là các giá trị < 0.0 hoặc > 0.0\n",
      "Dữ liệu ngoại lai của biến num_op_var40_hace2 là các giá trị < 0.0 hoặc > 0.0\n",
      "Dữ liệu ngoại lai của biến num_op_var40_hace3 là các giá trị < 0.0 hoặc > 0.0\n",
      "Dữ liệu ngoại lai của biến num_op_var40_ult1 là các giá trị < 0.0 hoặc > 0.0\n",
      "Dữ liệu ngoại lai của biến num_op_var40_ult3 là các giá trị < 0.0 hoặc > 0.0\n",
      "Dữ liệu ngoại lai của biến num_op_var41_hace2 là các giá trị < 0.0 hoặc > 0.0\n",
      "Dữ liệu ngoại lai của biến num_op_var41_hace3 là các giá trị < 0.0 hoặc > 0.0\n",
      "Dữ liệu ngoại lai của biến num_op_var41_ult1 là các giá trị < 0.0 hoặc > 0.0\n",
      "Dữ liệu ngoại lai của biến num_op_var41_ult3 là các giá trị < 0.0 hoặc > 0.0\n",
      "Dữ liệu ngoại lai của biến num_op_var39_hace2 là các giá trị < 0.0 hoặc > 0.0\n",
      "Dữ liệu ngoại lai của biến num_op_var39_hace3 là các giá trị < 0.0 hoặc > 0.0\n",
      "Dữ liệu ngoại lai của biến num_op_var39_ult1 là các giá trị < 0.0 hoặc > 0.0\n",
      "Dữ liệu ngoại lai của biến num_op_var39_ult3 là các giá trị < 0.0 hoặc > 0.0\n",
      "Dữ liệu ngoại lai của biến num_var27_0 là các giá trị < 0.0 hoặc > 0.0\n",
      "Dữ liệu ngoại lai của biến num_var28_0 là các giá trị < 0.0 hoặc > 0.0\n",
      "Dữ liệu ngoại lai của biến num_var28 là các giá trị < 0.0 hoặc > 0.0\n",
      "Dữ liệu ngoại lai của biến num_var27 là các giá trị < 0.0 hoặc > 0.0\n",
      "Dữ liệu ngoại lai của biến num_var29_0 là các giá trị < 0.0 hoặc > 0.0\n",
      "Dữ liệu ngoại lai của biến num_var29 là các giá trị < 0.0 hoặc > 0.0\n",
      "Dữ liệu ngoại lai của biến num_var30_0 là các giá trị < 3.0 hoặc > 3.0\n",
      "Dữ liệu ngoại lai của biến num_var30 là các giá trị < -9.0 hoặc > 12.0\n",
      "Dữ liệu ngoại lai của biến num_var31_0 là các giá trị < 0.0 hoặc > 0.0\n",
      "Dữ liệu ngoại lai của biến num_var31 là các giá trị < 0.0 hoặc > 0.0\n",
      "Dữ liệu ngoại lai của biến num_var32_0 là các giá trị < 0.0 hoặc > 0.0\n",
      "Dữ liệu ngoại lai của biến num_var32 là các giá trị < 0.0 hoặc > 0.0\n",
      "Dữ liệu ngoại lai của biến num_var33_0 là các giá trị < 0.0 hoặc > 0.0\n",
      "Dữ liệu ngoại lai của biến num_var33 là các giá trị < 0.0 hoặc > 0.0\n",
      "Dữ liệu ngoại lai của biến num_var34_0 là các giá trị < 0.0 hoặc > 0.0\n",
      "Dữ liệu ngoại lai của biến num_var34 là các giá trị < 0.0 hoặc > 0.0\n",
      "Dữ liệu ngoại lai của biến num_var35 là các giá trị < -9.0 hoặc > 12.0\n",
      "Dữ liệu ngoại lai của biến num_var37_med_ult2 là các giá trị < 0.0 hoặc > 0.0\n",
      "Dữ liệu ngoại lai của biến num_var37_0 là các giá trị < 0.0 hoặc > 0.0\n",
      "Dữ liệu ngoại lai của biến num_var37 là các giá trị < 0.0 hoặc > 0.0\n",
      "Dữ liệu ngoại lai của biến num_var39_0 là các giá trị < 3.0 hoặc > 3.0\n",
      "Dữ liệu ngoại lai của biến num_var40_0 là các giá trị < 0.0 hoặc > 0.0\n",
      "Dữ liệu ngoại lai của biến num_var40 là các giá trị < 0.0 hoặc > 0.0\n",
      "Dữ liệu ngoại lai của biến num_var41_0 là các giá trị < 3.0 hoặc > 3.0\n",
      "Dữ liệu ngoại lai của biến num_var41 là các giá trị < 0.0 hoặc > 0.0\n",
      "Dữ liệu ngoại lai của biến num_var39 là các giá trị < 0.0 hoặc > 0.0\n",
      "Dữ liệu ngoại lai của biến num_var42_0 là các giá trị < 3.0 hoặc > 3.0\n",
      "Dữ liệu ngoại lai của biến num_var42 là các giá trị < -9.0 hoặc > 12.0\n",
      "Dữ liệu ngoại lai của biến num_var44_0 là các giá trị < 0.0 hoặc > 0.0\n",
      "Dữ liệu ngoại lai của biến num_var44 là các giá trị < 0.0 hoặc > 0.0\n",
      "Dữ liệu ngoại lai của biến num_var46_0 là các giá trị < 0.0 hoặc > 0.0\n",
      "Dữ liệu ngoại lai của biến num_var46 là các giá trị < 0.0 hoặc > 0.0\n",
      "Dữ liệu ngoại lai của biến saldo_var1 là các giá trị < 0.0 hoặc > 0.0\n",
      "Dữ liệu ngoại lai của biến saldo_var5 là các giá trị < -270.0 hoặc > 360.0\n",
      "Dữ liệu ngoại lai của biến saldo_var6 là các giá trị < 0.0 hoặc > 0.0\n",
      "Dữ liệu ngoại lai của biến saldo_var8 là các giá trị < 0.0 hoặc > 0.0\n",
      "Dữ liệu ngoại lai của biến saldo_var12 là các giá trị < 0.0 hoặc > 0.0\n",
      "Dữ liệu ngoại lai của biến saldo_var13_corto là các giá trị < 0.0 hoặc > 0.0\n",
      "Dữ liệu ngoại lai của biến saldo_var13_largo là các giá trị < 0.0 hoặc > 0.0\n",
      "Dữ liệu ngoại lai của biến saldo_var13_medio là các giá trị < 0.0 hoặc > 0.0\n",
      "Dữ liệu ngoại lai của biến saldo_var13 là các giá trị < 0.0 hoặc > 0.0\n",
      "Dữ liệu ngoại lai của biến saldo_var14 là các giá trị < 0.0 hoặc > 0.0\n",
      "Dữ liệu ngoại lai của biến saldo_var17 là các giá trị < 0.0 hoặc > 0.0\n",
      "Dữ liệu ngoại lai của biến saldo_var18 là các giá trị < 0.0 hoặc > 0.0\n",
      "Dữ liệu ngoại lai của biến saldo_var20 là các giá trị < 0.0 hoặc > 0.0\n",
      "Dữ liệu ngoại lai của biến saldo_var24 là các giá trị < 0.0 hoặc > 0.0\n",
      "Dữ liệu ngoại lai của biến saldo_var26 là các giá trị < 0.0 hoặc > 0.0\n",
      "Dữ liệu ngoại lai của biến saldo_var25 là các giá trị < 0.0 hoặc > 0.0\n",
      "Dữ liệu ngoại lai của biến saldo_var28 là các giá trị < 0.0 hoặc > 0.0\n",
      "Dữ liệu ngoại lai của biến saldo_var27 là các giá trị < 0.0 hoặc > 0.0\n",
      "Dữ liệu ngoại lai của biến saldo_var29 là các giá trị < 0.0 hoặc > 0.0\n",
      "Dữ liệu ngoại lai của biến saldo_var30 là các giá trị < -707.985 hoặc > 943.98\n",
      "Dữ liệu ngoại lai của biến saldo_var31 là các giá trị < 0.0 hoặc > 0.0\n",
      "Dữ liệu ngoại lai của biến saldo_var32 là các giá trị < 0.0 hoặc > 0.0\n",
      "Dữ liệu ngoại lai của biến saldo_var33 là các giá trị < 0.0 hoặc > 0.0\n",
      "Dữ liệu ngoại lai của biến saldo_var34 là các giá trị < 0.0 hoặc > 0.0\n",
      "Dữ liệu ngoại lai của biến saldo_var37 là các giá trị < 0.0 hoặc > 0.0\n",
      "Dữ liệu ngoại lai của biến saldo_var40 là các giá trị < 0.0 hoặc > 0.0\n",
      "Dữ liệu ngoại lai của biến saldo_var41 là các giá trị < 0.0 hoặc > 0.0\n",
      "Dữ liệu ngoại lai của biến saldo_var42 là các giá trị < -360.0 hoặc > 480.0\n",
      "Dữ liệu ngoại lai của biến saldo_var44 là các giá trị < 0.0 hoặc > 0.0\n",
      "Dữ liệu ngoại lai của biến saldo_var46 là các giá trị < 0.0 hoặc > 0.0\n",
      "Dữ liệu ngoại lai của biến var36 là các giá trị < -289.0 hoặc > 390.0\n",
      "Dữ liệu ngoại lai của biến delta_imp_amort_var18_1y3 là các giá trị < 0.0 hoặc > 0.0\n",
      "Dữ liệu ngoại lai của biến delta_imp_amort_var34_1y3 là các giá trị < 0.0 hoặc > 0.0\n",
      "Dữ liệu ngoại lai của biến delta_imp_aport_var13_1y3 là các giá trị < 0.0 hoặc > 0.0\n",
      "Dữ liệu ngoại lai của biến delta_imp_aport_var17_1y3 là các giá trị < 0.0 hoặc > 0.0\n",
      "Dữ liệu ngoại lai của biến delta_imp_aport_var33_1y3 là các giá trị < 0.0 hoặc > 0.0\n",
      "Dữ liệu ngoại lai của biến delta_imp_compra_var44_1y3 là các giá trị < 0.0 hoặc > 0.0\n",
      "Dữ liệu ngoại lai của biến delta_imp_reemb_var13_1y3 là các giá trị < 0.0 hoặc > 0.0\n",
      "Dữ liệu ngoại lai của biến delta_imp_reemb_var17_1y3 là các giá trị < 0.0 hoặc > 0.0\n",
      "Dữ liệu ngoại lai của biến delta_imp_reemb_var33_1y3 là các giá trị < 0.0 hoặc > 0.0\n",
      "Dữ liệu ngoại lai của biến delta_imp_trasp_var17_in_1y3 là các giá trị < 0.0 hoặc > 0.0\n",
      "Dữ liệu ngoại lai của biến delta_imp_trasp_var17_out_1y3 là các giá trị < 0.0 hoặc > 0.0\n",
      "Dữ liệu ngoại lai của biến delta_imp_trasp_var33_in_1y3 là các giá trị < 0.0 hoặc > 0.0\n",
      "Dữ liệu ngoại lai của biến delta_imp_trasp_var33_out_1y3 là các giá trị < 0.0 hoặc > 0.0\n"
     ]
    },
    {
     "name": "stdout",
     "output_type": "stream",
     "text": [
      "Dữ liệu ngoại lai của biến delta_imp_venta_var44_1y3 là các giá trị < 0.0 hoặc > 0.0\n",
      "Dữ liệu ngoại lai của biến delta_num_aport_var13_1y3 là các giá trị < 0.0 hoặc > 0.0\n",
      "Dữ liệu ngoại lai của biến delta_num_aport_var17_1y3 là các giá trị < 0.0 hoặc > 0.0\n",
      "Dữ liệu ngoại lai của biến delta_num_aport_var33_1y3 là các giá trị < 0.0 hoặc > 0.0\n",
      "Dữ liệu ngoại lai của biến delta_num_compra_var44_1y3 là các giá trị < 0.0 hoặc > 0.0\n",
      "Dữ liệu ngoại lai của biến delta_num_reemb_var13_1y3 là các giá trị < 0.0 hoặc > 0.0\n",
      "Dữ liệu ngoại lai của biến delta_num_reemb_var17_1y3 là các giá trị < 0.0 hoặc > 0.0\n",
      "Dữ liệu ngoại lai của biến delta_num_reemb_var33_1y3 là các giá trị < 0.0 hoặc > 0.0\n",
      "Dữ liệu ngoại lai của biến delta_num_trasp_var17_in_1y3 là các giá trị < 0.0 hoặc > 0.0\n",
      "Dữ liệu ngoại lai của biến delta_num_trasp_var17_out_1y3 là các giá trị < 0.0 hoặc > 0.0\n",
      "Dữ liệu ngoại lai của biến delta_num_trasp_var33_in_1y3 là các giá trị < 0.0 hoặc > 0.0\n",
      "Dữ liệu ngoại lai của biến delta_num_trasp_var33_out_1y3 là các giá trị < 0.0 hoặc > 0.0\n",
      "Dữ liệu ngoại lai của biến delta_num_venta_var44_1y3 là các giá trị < 0.0 hoặc > 0.0\n",
      "Dữ liệu ngoại lai của biến imp_amort_var18_hace3 là các giá trị < 0.0 hoặc > 0.0\n",
      "Dữ liệu ngoại lai của biến imp_amort_var18_ult1 là các giá trị < 0.0 hoặc > 0.0\n",
      "Dữ liệu ngoại lai của biến imp_amort_var34_hace3 là các giá trị < 0.0 hoặc > 0.0\n",
      "Dữ liệu ngoại lai của biến imp_amort_var34_ult1 là các giá trị < 0.0 hoặc > 0.0\n",
      "Dữ liệu ngoại lai của biến imp_aport_var13_hace3 là các giá trị < 0.0 hoặc > 0.0\n",
      "Dữ liệu ngoại lai của biến imp_aport_var13_ult1 là các giá trị < 0.0 hoặc > 0.0\n",
      "Dữ liệu ngoại lai của biến imp_aport_var17_hace3 là các giá trị < 0.0 hoặc > 0.0\n",
      "Dữ liệu ngoại lai của biến imp_aport_var17_ult1 là các giá trị < 0.0 hoặc > 0.0\n",
      "Dữ liệu ngoại lai của biến imp_aport_var33_hace3 là các giá trị < 0.0 hoặc > 0.0\n",
      "Dữ liệu ngoại lai của biến imp_aport_var33_ult1 là các giá trị < 0.0 hoặc > 0.0\n",
      "Dữ liệu ngoại lai của biến imp_var7_emit_ult1 là các giá trị < 0.0 hoặc > 0.0\n",
      "Dữ liệu ngoại lai của biến imp_var7_recib_ult1 là các giá trị < 0.0 hoặc > 0.0\n",
      "Dữ liệu ngoại lai của biến imp_compra_var44_hace3 là các giá trị < 0.0 hoặc > 0.0\n",
      "Dữ liệu ngoại lai của biến imp_compra_var44_ult1 là các giá trị < 0.0 hoặc > 0.0\n",
      "Dữ liệu ngoại lai của biến imp_reemb_var13_hace3 là các giá trị < 0.0 hoặc > 0.0\n",
      "Dữ liệu ngoại lai của biến imp_reemb_var13_ult1 là các giá trị < 0.0 hoặc > 0.0\n",
      "Dữ liệu ngoại lai của biến imp_reemb_var17_hace3 là các giá trị < 0.0 hoặc > 0.0\n",
      "Dữ liệu ngoại lai của biến imp_reemb_var17_ult1 là các giá trị < 0.0 hoặc > 0.0\n",
      "Dữ liệu ngoại lai của biến imp_reemb_var33_hace3 là các giá trị < 0.0 hoặc > 0.0\n",
      "Dữ liệu ngoại lai của biến imp_reemb_var33_ult1 là các giá trị < 0.0 hoặc > 0.0\n",
      "Dữ liệu ngoại lai của biến imp_var43_emit_ult1 là các giá trị < 0.0 hoặc > 0.0\n",
      "Dữ liệu ngoại lai của biến imp_trans_var37_ult1 là các giá trị < 0.0 hoặc > 0.0\n",
      "Dữ liệu ngoại lai của biến imp_trasp_var17_in_hace3 là các giá trị < 0.0 hoặc > 0.0\n",
      "Dữ liệu ngoại lai của biến imp_trasp_var17_in_ult1 là các giá trị < 0.0 hoặc > 0.0\n",
      "Dữ liệu ngoại lai của biến imp_trasp_var17_out_hace3 là các giá trị < 0.0 hoặc > 0.0\n",
      "Dữ liệu ngoại lai của biến imp_trasp_var17_out_ult1 là các giá trị < 0.0 hoặc > 0.0\n",
      "Dữ liệu ngoại lai của biến imp_trasp_var33_in_hace3 là các giá trị < 0.0 hoặc > 0.0\n",
      "Dữ liệu ngoại lai của biến imp_trasp_var33_in_ult1 là các giá trị < 0.0 hoặc > 0.0\n",
      "Dữ liệu ngoại lai của biến imp_trasp_var33_out_hace3 là các giá trị < 0.0 hoặc > 0.0\n",
      "Dữ liệu ngoại lai của biến imp_trasp_var33_out_ult1 là các giá trị < 0.0 hoặc > 0.0\n",
      "Dữ liệu ngoại lai của biến imp_venta_var44_hace3 là các giá trị < 0.0 hoặc > 0.0\n",
      "Dữ liệu ngoại lai của biến imp_venta_var44_ult1 là các giá trị < 0.0 hoặc > 0.0\n",
      "Dữ liệu ngoại lai của biến ind_var7_emit_ult1 là các giá trị < 0.0 hoặc > 0.0\n",
      "Dữ liệu ngoại lai của biến ind_var7_recib_ult1 là các giá trị < 0.0 hoặc > 0.0\n",
      "Dữ liệu ngoại lai của biến ind_var10_ult1 là các giá trị < 0.0 hoặc > 0.0\n",
      "Dữ liệu ngoại lai của biến ind_var10cte_ult1 là các giá trị < 0.0 hoặc > 0.0\n",
      "Dữ liệu ngoại lai của biến ind_var9_cte_ult1 là các giá trị < 0.0 hoặc > 0.0\n",
      "Dữ liệu ngoại lai của biến ind_var9_ult1 là các giá trị < 0.0 hoặc > 0.0\n",
      "Dữ liệu ngoại lai của biến ind_var43_emit_ult1 là các giá trị < 0.0 hoặc > 0.0\n",
      "Dữ liệu ngoại lai của biến ind_var43_recib_ult1 là các giá trị < 0.0 hoặc > 0.0\n",
      "Dữ liệu ngoại lai của biến var21 là các giá trị < 0.0 hoặc > 0.0\n",
      "Dữ liệu ngoại lai của biến num_var2_0_ult1 là các giá trị < 0.0 hoặc > 0.0\n",
      "Dữ liệu ngoại lai của biến num_var2_ult1 là các giá trị < 0.0 hoặc > 0.0\n",
      "Dữ liệu ngoại lai của biến num_aport_var13_hace3 là các giá trị < 0.0 hoặc > 0.0\n",
      "Dữ liệu ngoại lai của biến num_aport_var13_ult1 là các giá trị < 0.0 hoặc > 0.0\n",
      "Dữ liệu ngoại lai của biến num_aport_var17_hace3 là các giá trị < 0.0 hoặc > 0.0\n",
      "Dữ liệu ngoại lai của biến num_aport_var17_ult1 là các giá trị < 0.0 hoặc > 0.0\n",
      "Dữ liệu ngoại lai của biến num_aport_var33_hace3 là các giá trị < 0.0 hoặc > 0.0\n",
      "Dữ liệu ngoại lai của biến num_aport_var33_ult1 là các giá trị < 0.0 hoặc > 0.0\n",
      "Dữ liệu ngoại lai của biến num_var7_emit_ult1 là các giá trị < 0.0 hoặc > 0.0\n",
      "Dữ liệu ngoại lai của biến num_var7_recib_ult1 là các giá trị < 0.0 hoặc > 0.0\n",
      "Dữ liệu ngoại lai của biến num_compra_var44_hace3 là các giá trị < 0.0 hoặc > 0.0\n",
      "Dữ liệu ngoại lai của biến num_compra_var44_ult1 là các giá trị < 0.0 hoặc > 0.0\n",
      "Dữ liệu ngoại lai của biến num_ent_var16_ult1 là các giá trị < 0.0 hoặc > 0.0\n",
      "Dữ liệu ngoại lai của biến num_var22_hace2 là các giá trị < 0.0 hoặc > 0.0\n",
      "Dữ liệu ngoại lai của biến num_var22_hace3 là các giá trị < 0.0 hoặc > 0.0\n",
      "Dữ liệu ngoại lai của biến num_var22_ult1 là các giá trị < 0.0 hoặc > 0.0\n",
      "Dữ liệu ngoại lai của biến num_var22_ult3 là các giá trị < -9.0 hoặc > 12.0\n",
      "Dữ liệu ngoại lai của biến num_med_var22_ult3 là các giá trị < 0.0 hoặc > 0.0\n",
      "Dữ liệu ngoại lai của biến num_med_var45_ult3 là các giá trị < -9.0 hoặc > 12.0\n",
      "Dữ liệu ngoại lai của biến num_meses_var5_ult3 là các giá trị < -9.0 hoặc > 12.0\n",
      "Dữ liệu ngoại lai của biến num_meses_var8_ult3 là các giá trị < 0.0 hoặc > 0.0\n",
      "Dữ liệu ngoại lai của biến num_meses_var12_ult3 là các giá trị < 0.0 hoặc > 0.0\n",
      "Dữ liệu ngoại lai của biến num_meses_var13_corto_ult3 là các giá trị < 0.0 hoặc > 0.0\n",
      "Dữ liệu ngoại lai của biến num_meses_var13_largo_ult3 là các giá trị < 0.0 hoặc > 0.0\n",
      "Dữ liệu ngoại lai của biến num_meses_var13_medio_ult3 là các giá trị < 0.0 hoặc > 0.0\n",
      "Dữ liệu ngoại lai của biến num_meses_var17_ult3 là các giá trị < 0.0 hoặc > 0.0\n",
      "Dữ liệu ngoại lai của biến num_meses_var29_ult3 là các giá trị < 0.0 hoặc > 0.0\n",
      "Dữ liệu ngoại lai của biến num_meses_var33_ult3 là các giá trị < 0.0 hoặc > 0.0\n",
      "Dữ liệu ngoại lai của biến num_meses_var39_vig_ult3 là các giá trị < -2.0 hoặc > 5.0\n",
      "Dữ liệu ngoại lai của biến num_meses_var44_ult3 là các giá trị < 0.0 hoặc > 0.0\n",
      "Dữ liệu ngoại lai của biến num_op_var39_comer_ult1 là các giá trị < 0.0 hoặc > 0.0\n",
      "Dữ liệu ngoại lai của biến num_op_var39_comer_ult3 là các giá trị < 0.0 hoặc > 0.0\n",
      "Dữ liệu ngoại lai của biến num_op_var40_comer_ult1 là các giá trị < 0.0 hoặc > 0.0\n",
      "Dữ liệu ngoại lai của biến num_op_var40_comer_ult3 là các giá trị < 0.0 hoặc > 0.0\n",
      "Dữ liệu ngoại lai của biến num_op_var40_efect_ult1 là các giá trị < 0.0 hoặc > 0.0\n",
      "Dữ liệu ngoại lai của biến num_op_var40_efect_ult3 là các giá trị < 0.0 hoặc > 0.0\n",
      "Dữ liệu ngoại lai của biến num_op_var41_comer_ult1 là các giá trị < 0.0 hoặc > 0.0\n",
      "Dữ liệu ngoại lai của biến num_op_var41_comer_ult3 là các giá trị < 0.0 hoặc > 0.0\n",
      "Dữ liệu ngoại lai của biến num_op_var41_efect_ult1 là các giá trị < 0.0 hoặc > 0.0\n",
      "Dữ liệu ngoại lai của biến num_op_var41_efect_ult3 là các giá trị < 0.0 hoặc > 0.0\n",
      "Dữ liệu ngoại lai của biến num_op_var39_efect_ult1 là các giá trị < 0.0 hoặc > 0.0\n",
      "Dữ liệu ngoại lai của biến num_op_var39_efect_ult3 là các giá trị < 0.0 hoặc > 0.0\n",
      "Dữ liệu ngoại lai của biến num_reemb_var13_hace3 là các giá trị < 0.0 hoặc > 0.0\n",
      "Dữ liệu ngoại lai của biến num_reemb_var13_ult1 là các giá trị < 0.0 hoặc > 0.0\n",
      "Dữ liệu ngoại lai của biến num_reemb_var17_hace3 là các giá trị < 0.0 hoặc > 0.0\n",
      "Dữ liệu ngoại lai của biến num_reemb_var17_ult1 là các giá trị < 0.0 hoặc > 0.0\n",
      "Dữ liệu ngoại lai của biến num_reemb_var33_hace3 là các giá trị < 0.0 hoặc > 0.0\n",
      "Dữ liệu ngoại lai của biến num_reemb_var33_ult1 là các giá trị < 0.0 hoặc > 0.0\n",
      "Dữ liệu ngoại lai của biến num_sal_var16_ult1 là các giá trị < 0.0 hoặc > 0.0\n",
      "Dữ liệu ngoại lai của biến num_var43_emit_ult1 là các giá trị < 0.0 hoặc > 0.0\n",
      "Dữ liệu ngoại lai của biến num_var43_recib_ult1 là các giá trị < 0.0 hoặc > 0.0\n",
      "Dữ liệu ngoại lai của biến num_trasp_var11_ult1 là các giá trị < 0.0 hoặc > 0.0\n",
      "Dữ liệu ngoại lai của biến num_trasp_var17_in_hace3 là các giá trị < 0.0 hoặc > 0.0\n",
      "Dữ liệu ngoại lai của biến num_trasp_var17_in_ult1 là các giá trị < 0.0 hoặc > 0.0\n",
      "Dữ liệu ngoại lai của biến num_trasp_var17_out_hace3 là các giá trị < 0.0 hoặc > 0.0\n",
      "Dữ liệu ngoại lai của biến num_trasp_var17_out_ult1 là các giá trị < 0.0 hoặc > 0.0\n",
      "Dữ liệu ngoại lai của biến num_trasp_var33_in_hace3 là các giá trị < 0.0 hoặc > 0.0\n",
      "Dữ liệu ngoại lai của biến num_trasp_var33_in_ult1 là các giá trị < 0.0 hoặc > 0.0\n",
      "Dữ liệu ngoại lai của biến num_trasp_var33_out_hace3 là các giá trị < 0.0 hoặc > 0.0\n"
     ]
    },
    {
     "name": "stdout",
     "output_type": "stream",
     "text": [
      "Dữ liệu ngoại lai của biến num_trasp_var33_out_ult1 là các giá trị < 0.0 hoặc > 0.0\n",
      "Dữ liệu ngoại lai của biến num_venta_var44_hace3 là các giá trị < 0.0 hoặc > 0.0\n",
      "Dữ liệu ngoại lai của biến num_venta_var44_ult1 là các giá trị < 0.0 hoặc > 0.0\n",
      "Dữ liệu ngoại lai của biến num_var45_hace2 là các giá trị < -9.0 hoặc > 12.0\n",
      "Dữ liệu ngoại lai của biến num_var45_hace3 là các giá trị < -9.0 hoặc > 12.0\n",
      "Dữ liệu ngoại lai của biến num_var45_ult1 là các giá trị < -9.0 hoặc > 12.0\n",
      "Dữ liệu ngoại lai của biến num_var45_ult3 là các giá trị < -36.0 hoặc > 48.0\n",
      "Dữ liệu ngoại lai của biến saldo_var2_ult1 là các giá trị < 0.0 hoặc > 0.0\n",
      "Dữ liệu ngoại lai của biến saldo_medio_var5_hace2 là các giá trị < -270.0 hoặc > 360.0\n",
      "Dữ liệu ngoại lai của biến saldo_medio_var5_hace3 là các giá trị < -36.6525 hoặc > 48.870000000000005\n",
      "Dữ liệu ngoại lai của biến saldo_medio_var5_ult1 là các giá trị < -270.0 hoặc > 360.0\n",
      "Dữ liệu ngoại lai của biến saldo_medio_var5_ult3 là các giá trị < -251.37 hoặc > 335.16\n",
      "Dữ liệu ngoại lai của biến saldo_medio_var8_hace2 là các giá trị < 0.0 hoặc > 0.0\n",
      "Dữ liệu ngoại lai của biến saldo_medio_var8_hace3 là các giá trị < 0.0 hoặc > 0.0\n",
      "Dữ liệu ngoại lai của biến saldo_medio_var8_ult1 là các giá trị < 0.0 hoặc > 0.0\n",
      "Dữ liệu ngoại lai của biến saldo_medio_var8_ult3 là các giá trị < 0.0 hoặc > 0.0\n",
      "Dữ liệu ngoại lai của biến saldo_medio_var12_hace2 là các giá trị < 0.0 hoặc > 0.0\n",
      "Dữ liệu ngoại lai của biến saldo_medio_var12_hace3 là các giá trị < 0.0 hoặc > 0.0\n",
      "Dữ liệu ngoại lai của biến saldo_medio_var12_ult1 là các giá trị < 0.0 hoặc > 0.0\n",
      "Dữ liệu ngoại lai của biến saldo_medio_var12_ult3 là các giá trị < 0.0 hoặc > 0.0\n",
      "Dữ liệu ngoại lai của biến saldo_medio_var13_corto_hace2 là các giá trị < 0.0 hoặc > 0.0\n",
      "Dữ liệu ngoại lai của biến saldo_medio_var13_corto_hace3 là các giá trị < 0.0 hoặc > 0.0\n",
      "Dữ liệu ngoại lai của biến saldo_medio_var13_corto_ult1 là các giá trị < 0.0 hoặc > 0.0\n",
      "Dữ liệu ngoại lai của biến saldo_medio_var13_corto_ult3 là các giá trị < 0.0 hoặc > 0.0\n",
      "Dữ liệu ngoại lai của biến saldo_medio_var13_largo_hace2 là các giá trị < 0.0 hoặc > 0.0\n",
      "Dữ liệu ngoại lai của biến saldo_medio_var13_largo_hace3 là các giá trị < 0.0 hoặc > 0.0\n",
      "Dữ liệu ngoại lai của biến saldo_medio_var13_largo_ult1 là các giá trị < 0.0 hoặc > 0.0\n",
      "Dữ liệu ngoại lai của biến saldo_medio_var13_largo_ult3 là các giá trị < 0.0 hoặc > 0.0\n",
      "Dữ liệu ngoại lai của biến saldo_medio_var13_medio_hace2 là các giá trị < 0.0 hoặc > 0.0\n",
      "Dữ liệu ngoại lai của biến saldo_medio_var13_medio_hace3 là các giá trị < 0.0 hoặc > 0.0\n",
      "Dữ liệu ngoại lai của biến saldo_medio_var13_medio_ult1 là các giá trị < 0.0 hoặc > 0.0\n",
      "Dữ liệu ngoại lai của biến saldo_medio_var13_medio_ult3 là các giá trị < 0.0 hoặc > 0.0\n",
      "Dữ liệu ngoại lai của biến saldo_medio_var17_hace2 là các giá trị < 0.0 hoặc > 0.0\n",
      "Dữ liệu ngoại lai của biến saldo_medio_var17_hace3 là các giá trị < 0.0 hoặc > 0.0\n",
      "Dữ liệu ngoại lai của biến saldo_medio_var17_ult1 là các giá trị < 0.0 hoặc > 0.0\n",
      "Dữ liệu ngoại lai của biến saldo_medio_var17_ult3 là các giá trị < 0.0 hoặc > 0.0\n",
      "Dữ liệu ngoại lai của biến saldo_medio_var29_hace2 là các giá trị < 0.0 hoặc > 0.0\n",
      "Dữ liệu ngoại lai của biến saldo_medio_var29_hace3 là các giá trị < 0.0 hoặc > 0.0\n",
      "Dữ liệu ngoại lai của biến saldo_medio_var29_ult1 là các giá trị < 0.0 hoặc > 0.0\n",
      "Dữ liệu ngoại lai của biến saldo_medio_var29_ult3 là các giá trị < 0.0 hoặc > 0.0\n",
      "Dữ liệu ngoại lai của biến saldo_medio_var33_hace2 là các giá trị < 0.0 hoặc > 0.0\n",
      "Dữ liệu ngoại lai của biến saldo_medio_var33_hace3 là các giá trị < 0.0 hoặc > 0.0\n",
      "Dữ liệu ngoại lai của biến saldo_medio_var33_ult1 là các giá trị < 0.0 hoặc > 0.0\n",
      "Dữ liệu ngoại lai của biến saldo_medio_var33_ult3 là các giá trị < 0.0 hoặc > 0.0\n",
      "Dữ liệu ngoại lai của biến saldo_medio_var44_hace2 là các giá trị < 0.0 hoặc > 0.0\n",
      "Dữ liệu ngoại lai của biến saldo_medio_var44_hace3 là các giá trị < 0.0 hoặc > 0.0\n",
      "Dữ liệu ngoại lai của biến saldo_medio_var44_ult1 là các giá trị < 0.0 hoặc > 0.0\n",
      "Dữ liệu ngoại lai của biến saldo_medio_var44_ult3 là các giá trị < 0.0 hoặc > 0.0\n",
      "Dữ liệu ngoại lai của biến var38 là các giá trị < -84786.30749999998 hoặc > 271413.1725\n",
      "Dữ liệu ngoại lai của biến TARGET là các giá trị < 0.0 hoặc > 0.0\n"
     ]
    }
   ],
   "source": [
    "## Requirement 8:\n",
    "## PUT YOUR CODE HERE:\n",
    "\n",
    "for var in train.columns:\n",
    "    IQR = train[var].quantile(0.75) - train[var].quantile(0.25)\n",
    "    Lower_fence = train[var].quantile(0.25) - (IQR * 3)\n",
    "    Upper_fence = train[var].quantile(0.75) + (IQR * 3)\n",
    "    print('Dữ liệu ngoại lai của biến', var, 'là các giá trị < {lowerboundary} hoặc > {upperboundary}'.format(lowerboundary=Lower_fence, upperboundary=Upper_fence))"
   ]
  },
  {
   "cell_type": "markdown",
   "metadata": {
    "id": "DoZIAEz19Tpl"
   },
   "source": [
    "**Tóm tắt:**\n",
    "\n",
    "- Một vài đặc trưng chỉ có một giá trị duy nhất là giá trị 0, điều này đòi hỏi chúng ta phải áp dụng kỹ thuật loại bỏ các đặc trưng bị trùng và quasi-constant để tránh trường hợp mô hình bị sai lệch trong quá trình huấn luyện.\n",
    "\n",
    "- Một vài đặc trưng có giá trị nhỏ nhất và lớn nhất khá lớn, đòi hỏi phải áp dụng các kỹ thuật co dãn nhằm tránh hiện tượng 'bias'\n",
    "\n",
    "- Không có dữ liệu bị khuyết"
   ]
  },
  {
   "cell_type": "markdown",
   "metadata": {
    "id": "TkHdLVrQ9Tpl"
   },
   "source": [
    "# 3.Lựa chọn đặc trưng\n",
    "\n",
    "Ở bước này chúng ta sẽ thực hiện các phương pháp lựa chọn đặc trưng sau:\n",
    "\n",
    "1. Loại các đặc trưng trùng.\n",
    "2. Loại các đặc trưng quasi-constant.\n",
    "3. Lựa chọn các đặc trưng bằng chỉ số ROC-AUC"
   ]
  },
  {
   "cell_type": "markdown",
   "metadata": {
    "id": "gphTL1td9Tpm"
   },
   "source": [
    "## 3.1 Loại các đặc trưng bị trùng\n",
    "\n",
    "- Đầu tiên là chúng ta sẽ loại bỏ các đặc trưng bị trùng"
   ]
  },
  {
   "cell_type": "code",
   "execution_count": 17,
   "metadata": {
    "id": "3QMhAn4X9Tpm"
   },
   "outputs": [],
   "source": [
    "from feature_engine.selection import DropDuplicateFeatures"
   ]
  },
  {
   "cell_type": "code",
   "execution_count": 18,
   "metadata": {},
   "outputs": [],
   "source": [
    "X_train = train.iloc[:,:-1]\n",
    "X_test = test.iloc[:,:]\n",
    "y_train = train.iloc[:,-1]"
   ]
  },
  {
   "cell_type": "code",
   "execution_count": 19,
   "metadata": {},
   "outputs": [
    {
     "data": {
      "text/plain": [
       "((76020, 369), (75818, 369))"
      ]
     },
     "execution_count": 19,
     "metadata": {},
     "output_type": "execute_result"
    }
   ],
   "source": [
    "X_train.shape, X_test.shape"
   ]
  },
  {
   "cell_type": "code",
   "execution_count": 20,
   "metadata": {
    "id": "AwW6mGsW9Tpm"
   },
   "outputs": [],
   "source": [
    "## Requirement 9:\n",
    "## PUT YOUR CODE HERE:\n",
    "\n",
    "sel = DropDuplicateFeatures()\n",
    "\n",
    "sel.fit(X_train)\n",
    "\n",
    "X_train_dropduplicate = sel.transform(X_train)\n",
    "X_test_dropduplicate = sel.transform(X_test)"
   ]
  },
  {
   "cell_type": "code",
   "execution_count": 21,
   "metadata": {
    "id": "-Vm1fsYc9Tpn",
    "outputId": "0be714d9-64b2-4639-f65f-54de20eb0f78",
    "scrolled": true
   },
   "outputs": [
    {
     "data": {
      "text/plain": [
       "{'delta_num_reemb_var13_1y3',\n",
       " 'delta_num_reemb_var17_1y3',\n",
       " 'delta_num_reemb_var33_1y3',\n",
       " 'delta_num_trasp_var17_in_1y3',\n",
       " 'delta_num_trasp_var17_out_1y3',\n",
       " 'delta_num_trasp_var33_in_1y3',\n",
       " 'delta_num_trasp_var33_out_1y3',\n",
       " 'imp_amort_var18_hace3',\n",
       " 'imp_amort_var34_hace3',\n",
       " 'imp_reemb_var13_hace3',\n",
       " 'imp_reemb_var33_hace3',\n",
       " 'imp_trasp_var17_out_hace3',\n",
       " 'imp_trasp_var33_out_hace3',\n",
       " 'ind_var13_medio',\n",
       " 'ind_var18',\n",
       " 'ind_var2',\n",
       " 'ind_var25',\n",
       " 'ind_var26',\n",
       " 'ind_var27',\n",
       " 'ind_var27_0',\n",
       " 'ind_var28',\n",
       " 'ind_var28_0',\n",
       " 'ind_var29',\n",
       " 'ind_var29_0',\n",
       " 'ind_var32',\n",
       " 'ind_var34',\n",
       " 'ind_var37',\n",
       " 'ind_var39',\n",
       " 'ind_var41',\n",
       " 'ind_var46',\n",
       " 'ind_var46_0',\n",
       " 'num_reemb_var13_hace3',\n",
       " 'num_reemb_var33_hace3',\n",
       " 'num_trasp_var17_out_hace3',\n",
       " 'num_trasp_var33_out_hace3',\n",
       " 'num_var13_medio',\n",
       " 'num_var18',\n",
       " 'num_var25',\n",
       " 'num_var26',\n",
       " 'num_var27',\n",
       " 'num_var27_0',\n",
       " 'num_var28',\n",
       " 'num_var28_0',\n",
       " 'num_var29',\n",
       " 'num_var29_0',\n",
       " 'num_var2_0_ult1',\n",
       " 'num_var2_ult1',\n",
       " 'num_var32',\n",
       " 'num_var34',\n",
       " 'num_var37',\n",
       " 'num_var39',\n",
       " 'num_var41',\n",
       " 'num_var46',\n",
       " 'num_var46_0',\n",
       " 'saldo_medio_var13_medio_hace3',\n",
       " 'saldo_medio_var13_medio_ult1',\n",
       " 'saldo_var27',\n",
       " 'saldo_var28',\n",
       " 'saldo_var29',\n",
       " 'saldo_var2_ult1',\n",
       " 'saldo_var41',\n",
       " 'saldo_var46'}"
      ]
     },
     "execution_count": 21,
     "metadata": {},
     "output_type": "execute_result"
    }
   ],
   "source": [
    "# danh sách các đặc trưng trùng\n",
    "\n",
    "## Requirement 10:\n",
    "## PUT YOUR CODE HERE:\n",
    "\n",
    "sel.features_to_drop_"
   ]
  },
  {
   "cell_type": "code",
   "execution_count": 22,
   "metadata": {
    "id": "TCFw6TcZ9Tpn",
    "outputId": "85dfcc78-7f36-47b7-c9de-07bd39383b8e"
   },
   "outputs": [
    {
     "data": {
      "text/html": [
       "<div>\n",
       "<style scoped>\n",
       "    .dataframe tbody tr th:only-of-type {\n",
       "        vertical-align: middle;\n",
       "    }\n",
       "\n",
       "    .dataframe tbody tr th {\n",
       "        vertical-align: top;\n",
       "    }\n",
       "\n",
       "    .dataframe thead th {\n",
       "        text-align: right;\n",
       "    }\n",
       "</style>\n",
       "<table border=\"1\" class=\"dataframe\">\n",
       "  <thead>\n",
       "    <tr style=\"text-align: right;\">\n",
       "      <th></th>\n",
       "      <th>var3</th>\n",
       "      <th>var15</th>\n",
       "      <th>imp_ent_var16_ult1</th>\n",
       "      <th>imp_op_var39_comer_ult1</th>\n",
       "      <th>imp_op_var39_comer_ult3</th>\n",
       "      <th>imp_op_var40_comer_ult1</th>\n",
       "      <th>imp_op_var40_comer_ult3</th>\n",
       "      <th>imp_op_var40_efect_ult1</th>\n",
       "      <th>imp_op_var40_efect_ult3</th>\n",
       "      <th>imp_op_var40_ult1</th>\n",
       "      <th>...</th>\n",
       "      <th>saldo_medio_var29_ult3</th>\n",
       "      <th>saldo_medio_var33_hace2</th>\n",
       "      <th>saldo_medio_var33_hace3</th>\n",
       "      <th>saldo_medio_var33_ult1</th>\n",
       "      <th>saldo_medio_var33_ult3</th>\n",
       "      <th>saldo_medio_var44_hace2</th>\n",
       "      <th>saldo_medio_var44_hace3</th>\n",
       "      <th>saldo_medio_var44_ult1</th>\n",
       "      <th>saldo_medio_var44_ult3</th>\n",
       "      <th>var38</th>\n",
       "    </tr>\n",
       "  </thead>\n",
       "  <tbody>\n",
       "    <tr>\n",
       "      <th>0</th>\n",
       "      <td>2</td>\n",
       "      <td>23</td>\n",
       "      <td>0.0</td>\n",
       "      <td>0.0</td>\n",
       "      <td>0.0</td>\n",
       "      <td>0.0</td>\n",
       "      <td>0.0</td>\n",
       "      <td>0.0</td>\n",
       "      <td>0.0</td>\n",
       "      <td>0.0</td>\n",
       "      <td>...</td>\n",
       "      <td>0.0</td>\n",
       "      <td>0.0</td>\n",
       "      <td>0.0</td>\n",
       "      <td>0.0</td>\n",
       "      <td>0.0</td>\n",
       "      <td>0.0</td>\n",
       "      <td>0.0</td>\n",
       "      <td>0.0</td>\n",
       "      <td>0.0</td>\n",
       "      <td>39205.170000</td>\n",
       "    </tr>\n",
       "    <tr>\n",
       "      <th>1</th>\n",
       "      <td>2</td>\n",
       "      <td>34</td>\n",
       "      <td>0.0</td>\n",
       "      <td>0.0</td>\n",
       "      <td>0.0</td>\n",
       "      <td>0.0</td>\n",
       "      <td>0.0</td>\n",
       "      <td>0.0</td>\n",
       "      <td>0.0</td>\n",
       "      <td>0.0</td>\n",
       "      <td>...</td>\n",
       "      <td>0.0</td>\n",
       "      <td>0.0</td>\n",
       "      <td>0.0</td>\n",
       "      <td>0.0</td>\n",
       "      <td>0.0</td>\n",
       "      <td>0.0</td>\n",
       "      <td>0.0</td>\n",
       "      <td>0.0</td>\n",
       "      <td>0.0</td>\n",
       "      <td>49278.030000</td>\n",
       "    </tr>\n",
       "    <tr>\n",
       "      <th>2</th>\n",
       "      <td>2</td>\n",
       "      <td>23</td>\n",
       "      <td>0.0</td>\n",
       "      <td>0.0</td>\n",
       "      <td>0.0</td>\n",
       "      <td>0.0</td>\n",
       "      <td>0.0</td>\n",
       "      <td>0.0</td>\n",
       "      <td>0.0</td>\n",
       "      <td>0.0</td>\n",
       "      <td>...</td>\n",
       "      <td>0.0</td>\n",
       "      <td>0.0</td>\n",
       "      <td>0.0</td>\n",
       "      <td>0.0</td>\n",
       "      <td>0.0</td>\n",
       "      <td>0.0</td>\n",
       "      <td>0.0</td>\n",
       "      <td>0.0</td>\n",
       "      <td>0.0</td>\n",
       "      <td>67333.770000</td>\n",
       "    </tr>\n",
       "    <tr>\n",
       "      <th>3</th>\n",
       "      <td>2</td>\n",
       "      <td>37</td>\n",
       "      <td>0.0</td>\n",
       "      <td>195.0</td>\n",
       "      <td>195.0</td>\n",
       "      <td>0.0</td>\n",
       "      <td>0.0</td>\n",
       "      <td>0.0</td>\n",
       "      <td>0.0</td>\n",
       "      <td>0.0</td>\n",
       "      <td>...</td>\n",
       "      <td>0.0</td>\n",
       "      <td>0.0</td>\n",
       "      <td>0.0</td>\n",
       "      <td>0.0</td>\n",
       "      <td>0.0</td>\n",
       "      <td>0.0</td>\n",
       "      <td>0.0</td>\n",
       "      <td>0.0</td>\n",
       "      <td>0.0</td>\n",
       "      <td>64007.970000</td>\n",
       "    </tr>\n",
       "    <tr>\n",
       "      <th>4</th>\n",
       "      <td>2</td>\n",
       "      <td>39</td>\n",
       "      <td>0.0</td>\n",
       "      <td>0.0</td>\n",
       "      <td>0.0</td>\n",
       "      <td>0.0</td>\n",
       "      <td>0.0</td>\n",
       "      <td>0.0</td>\n",
       "      <td>0.0</td>\n",
       "      <td>0.0</td>\n",
       "      <td>...</td>\n",
       "      <td>0.0</td>\n",
       "      <td>0.0</td>\n",
       "      <td>0.0</td>\n",
       "      <td>0.0</td>\n",
       "      <td>0.0</td>\n",
       "      <td>0.0</td>\n",
       "      <td>0.0</td>\n",
       "      <td>0.0</td>\n",
       "      <td>0.0</td>\n",
       "      <td>117310.979016</td>\n",
       "    </tr>\n",
       "  </tbody>\n",
       "</table>\n",
       "<p>5 rows × 307 columns</p>\n",
       "</div>"
      ],
      "text/plain": [
       "   var3  var15  imp_ent_var16_ult1  imp_op_var39_comer_ult1  \\\n",
       "0     2     23                 0.0                      0.0   \n",
       "1     2     34                 0.0                      0.0   \n",
       "2     2     23                 0.0                      0.0   \n",
       "3     2     37                 0.0                    195.0   \n",
       "4     2     39                 0.0                      0.0   \n",
       "\n",
       "   imp_op_var39_comer_ult3  imp_op_var40_comer_ult1  imp_op_var40_comer_ult3  \\\n",
       "0                      0.0                      0.0                      0.0   \n",
       "1                      0.0                      0.0                      0.0   \n",
       "2                      0.0                      0.0                      0.0   \n",
       "3                    195.0                      0.0                      0.0   \n",
       "4                      0.0                      0.0                      0.0   \n",
       "\n",
       "   imp_op_var40_efect_ult1  imp_op_var40_efect_ult3  imp_op_var40_ult1  ...  \\\n",
       "0                      0.0                      0.0                0.0  ...   \n",
       "1                      0.0                      0.0                0.0  ...   \n",
       "2                      0.0                      0.0                0.0  ...   \n",
       "3                      0.0                      0.0                0.0  ...   \n",
       "4                      0.0                      0.0                0.0  ...   \n",
       "\n",
       "   saldo_medio_var29_ult3  saldo_medio_var33_hace2  saldo_medio_var33_hace3  \\\n",
       "0                     0.0                      0.0                      0.0   \n",
       "1                     0.0                      0.0                      0.0   \n",
       "2                     0.0                      0.0                      0.0   \n",
       "3                     0.0                      0.0                      0.0   \n",
       "4                     0.0                      0.0                      0.0   \n",
       "\n",
       "   saldo_medio_var33_ult1  saldo_medio_var33_ult3  saldo_medio_var44_hace2  \\\n",
       "0                     0.0                     0.0                      0.0   \n",
       "1                     0.0                     0.0                      0.0   \n",
       "2                     0.0                     0.0                      0.0   \n",
       "3                     0.0                     0.0                      0.0   \n",
       "4                     0.0                     0.0                      0.0   \n",
       "\n",
       "   saldo_medio_var44_hace3  saldo_medio_var44_ult1  saldo_medio_var44_ult3  \\\n",
       "0                      0.0                     0.0                     0.0   \n",
       "1                      0.0                     0.0                     0.0   \n",
       "2                      0.0                     0.0                     0.0   \n",
       "3                      0.0                     0.0                     0.0   \n",
       "4                      0.0                     0.0                     0.0   \n",
       "\n",
       "           var38  \n",
       "0   39205.170000  \n",
       "1   49278.030000  \n",
       "2   67333.770000  \n",
       "3   64007.970000  \n",
       "4  117310.979016  \n",
       "\n",
       "[5 rows x 307 columns]"
      ]
     },
     "execution_count": 22,
     "metadata": {},
     "output_type": "execute_result"
    }
   ],
   "source": [
    "X_train_dropduplicate.head()"
   ]
  },
  {
   "cell_type": "markdown",
   "metadata": {
    "id": "dTXDlfeA9Tpn"
   },
   "source": [
    "## 3.2 Loại bỏ các đặc trưng Quasi-constant\n",
    "\n",
    "- Kế tiếp chúng ta sẽ loại các đặc trưng quasi-constant"
   ]
  },
  {
   "cell_type": "code",
   "execution_count": 23,
   "metadata": {
    "id": "ECysVr5T9Tpn"
   },
   "outputs": [],
   "source": [
    "from feature_engine.selection import DropConstantFeatures"
   ]
  },
  {
   "cell_type": "code",
   "execution_count": 24,
   "metadata": {
    "id": "_H83ej0x9Tpn"
   },
   "outputs": [],
   "source": [
    "## Requirement 11:\n",
    "## PUT YOUR CODE HERE:\n",
    "\n",
    "sel = DropConstantFeatures(tol=0.9)\n",
    "\n",
    "sel.fit(X_train_dropduplicate)\n",
    "\n",
    "X_train_dropconstant = sel.transform(X_train_dropduplicate)\n",
    "X_test_dropconstant = sel.transform(X_test_dropduplicate)"
   ]
  },
  {
   "cell_type": "code",
   "execution_count": 25,
   "metadata": {
    "id": "ptn74bsz9Tpn",
    "outputId": "41412aa3-4c37-4781-8763-897c093ffb45"
   },
   "outputs": [
    {
     "data": {
      "text/plain": [
       "['var3',\n",
       " 'imp_ent_var16_ult1',\n",
       " 'imp_op_var40_comer_ult1',\n",
       " 'imp_op_var40_comer_ult3',\n",
       " 'imp_op_var40_efect_ult1',\n",
       " 'imp_op_var40_efect_ult3',\n",
       " 'imp_op_var40_ult1',\n",
       " 'imp_op_var41_efect_ult1',\n",
       " 'imp_op_var39_efect_ult1',\n",
       " 'imp_sal_var16_ult1',\n",
       " 'ind_var1_0',\n",
       " 'ind_var1',\n",
       " 'ind_var2_0',\n",
       " 'ind_var5_0',\n",
       " 'ind_var6_0',\n",
       " 'ind_var6',\n",
       " 'ind_var8_0',\n",
       " 'ind_var8',\n",
       " 'ind_var12_0',\n",
       " 'ind_var12',\n",
       " 'ind_var13_0',\n",
       " 'ind_var13_corto_0',\n",
       " 'ind_var13_corto',\n",
       " 'ind_var13_largo_0',\n",
       " 'ind_var13_largo',\n",
       " 'ind_var13_medio_0',\n",
       " 'ind_var13',\n",
       " 'ind_var14_0',\n",
       " 'ind_var14',\n",
       " 'ind_var17_0',\n",
       " 'ind_var17',\n",
       " 'ind_var18_0',\n",
       " 'ind_var19',\n",
       " 'ind_var20_0',\n",
       " 'ind_var20',\n",
       " 'ind_var24_0',\n",
       " 'ind_var24',\n",
       " 'ind_var25_cte',\n",
       " 'ind_var26_0',\n",
       " 'ind_var26_cte',\n",
       " 'ind_var25_0',\n",
       " 'ind_var30_0',\n",
       " 'ind_var31_0',\n",
       " 'ind_var31',\n",
       " 'ind_var32_cte',\n",
       " 'ind_var32_0',\n",
       " 'ind_var33_0',\n",
       " 'ind_var33',\n",
       " 'ind_var34_0',\n",
       " 'ind_var37_cte',\n",
       " 'ind_var37_0',\n",
       " 'ind_var40_0',\n",
       " 'ind_var40',\n",
       " 'ind_var44_0',\n",
       " 'ind_var44',\n",
       " 'num_var1_0',\n",
       " 'num_var1',\n",
       " 'num_var5_0',\n",
       " 'num_var6_0',\n",
       " 'num_var6',\n",
       " 'num_var8_0',\n",
       " 'num_var8',\n",
       " 'num_var12_0',\n",
       " 'num_var12',\n",
       " 'num_var13_0',\n",
       " 'num_var13_corto_0',\n",
       " 'num_var13_corto',\n",
       " 'num_var13_largo_0',\n",
       " 'num_var13_largo',\n",
       " 'num_var13_medio_0',\n",
       " 'num_var13',\n",
       " 'num_var14_0',\n",
       " 'num_var14',\n",
       " 'num_var17_0',\n",
       " 'num_var17',\n",
       " 'num_var18_0',\n",
       " 'num_var20_0',\n",
       " 'num_var20',\n",
       " 'num_var24_0',\n",
       " 'num_var24',\n",
       " 'num_var26_0',\n",
       " 'num_var25_0',\n",
       " 'num_op_var40_hace2',\n",
       " 'num_op_var40_hace3',\n",
       " 'num_op_var40_ult1',\n",
       " 'num_op_var40_ult3',\n",
       " 'num_op_var41_hace3',\n",
       " 'num_op_var39_hace3',\n",
       " 'num_var31_0',\n",
       " 'num_var31',\n",
       " 'num_var32_0',\n",
       " 'num_var33_0',\n",
       " 'num_var33',\n",
       " 'num_var34_0',\n",
       " 'num_var37_med_ult2',\n",
       " 'num_var37_0',\n",
       " 'num_var40_0',\n",
       " 'num_var40',\n",
       " 'num_var42_0',\n",
       " 'num_var44_0',\n",
       " 'num_var44',\n",
       " 'saldo_var1',\n",
       " 'saldo_var6',\n",
       " 'saldo_var8',\n",
       " 'saldo_var12',\n",
       " 'saldo_var13_corto',\n",
       " 'saldo_var13_largo',\n",
       " 'saldo_var13_medio',\n",
       " 'saldo_var13',\n",
       " 'saldo_var14',\n",
       " 'saldo_var17',\n",
       " 'saldo_var18',\n",
       " 'saldo_var20',\n",
       " 'saldo_var24',\n",
       " 'saldo_var26',\n",
       " 'saldo_var25',\n",
       " 'saldo_var31',\n",
       " 'saldo_var32',\n",
       " 'saldo_var33',\n",
       " 'saldo_var34',\n",
       " 'saldo_var37',\n",
       " 'saldo_var40',\n",
       " 'saldo_var44',\n",
       " 'delta_imp_amort_var18_1y3',\n",
       " 'delta_imp_amort_var34_1y3',\n",
       " 'delta_imp_aport_var13_1y3',\n",
       " 'delta_imp_aport_var17_1y3',\n",
       " 'delta_imp_aport_var33_1y3',\n",
       " 'delta_imp_compra_var44_1y3',\n",
       " 'delta_imp_reemb_var13_1y3',\n",
       " 'delta_imp_reemb_var17_1y3',\n",
       " 'delta_imp_reemb_var33_1y3',\n",
       " 'delta_imp_trasp_var17_in_1y3',\n",
       " 'delta_imp_trasp_var17_out_1y3',\n",
       " 'delta_imp_trasp_var33_in_1y3',\n",
       " 'delta_imp_trasp_var33_out_1y3',\n",
       " 'delta_imp_venta_var44_1y3',\n",
       " 'delta_num_aport_var13_1y3',\n",
       " 'delta_num_aport_var17_1y3',\n",
       " 'delta_num_aport_var33_1y3',\n",
       " 'delta_num_compra_var44_1y3',\n",
       " 'delta_num_venta_var44_1y3',\n",
       " 'imp_amort_var18_ult1',\n",
       " 'imp_amort_var34_ult1',\n",
       " 'imp_aport_var13_hace3',\n",
       " 'imp_aport_var13_ult1',\n",
       " 'imp_aport_var17_hace3',\n",
       " 'imp_aport_var17_ult1',\n",
       " 'imp_aport_var33_hace3',\n",
       " 'imp_aport_var33_ult1',\n",
       " 'imp_var7_emit_ult1',\n",
       " 'imp_var7_recib_ult1',\n",
       " 'imp_compra_var44_hace3',\n",
       " 'imp_compra_var44_ult1',\n",
       " 'imp_reemb_var13_ult1',\n",
       " 'imp_reemb_var17_hace3',\n",
       " 'imp_reemb_var17_ult1',\n",
       " 'imp_reemb_var33_ult1',\n",
       " 'imp_var43_emit_ult1',\n",
       " 'imp_trasp_var17_in_hace3',\n",
       " 'imp_trasp_var17_in_ult1',\n",
       " 'imp_trasp_var17_out_ult1',\n",
       " 'imp_trasp_var33_in_hace3',\n",
       " 'imp_trasp_var33_in_ult1',\n",
       " 'imp_trasp_var33_out_ult1',\n",
       " 'imp_venta_var44_hace3',\n",
       " 'imp_venta_var44_ult1',\n",
       " 'ind_var7_emit_ult1',\n",
       " 'ind_var7_recib_ult1',\n",
       " 'ind_var10_ult1',\n",
       " 'ind_var10cte_ult1',\n",
       " 'ind_var9_cte_ult1',\n",
       " 'ind_var9_ult1',\n",
       " 'ind_var43_emit_ult1',\n",
       " 'var21',\n",
       " 'num_aport_var13_hace3',\n",
       " 'num_aport_var13_ult1',\n",
       " 'num_aport_var17_hace3',\n",
       " 'num_aport_var17_ult1',\n",
       " 'num_aport_var33_hace3',\n",
       " 'num_aport_var33_ult1',\n",
       " 'num_var7_emit_ult1',\n",
       " 'num_var7_recib_ult1',\n",
       " 'num_compra_var44_hace3',\n",
       " 'num_compra_var44_ult1',\n",
       " 'num_ent_var16_ult1',\n",
       " 'num_meses_var8_ult3',\n",
       " 'num_meses_var12_ult3',\n",
       " 'num_meses_var13_corto_ult3',\n",
       " 'num_meses_var13_largo_ult3',\n",
       " 'num_meses_var13_medio_ult3',\n",
       " 'num_meses_var17_ult3',\n",
       " 'num_meses_var29_ult3',\n",
       " 'num_meses_var33_ult3',\n",
       " 'num_meses_var44_ult3',\n",
       " 'num_op_var40_comer_ult1',\n",
       " 'num_op_var40_comer_ult3',\n",
       " 'num_op_var40_efect_ult1',\n",
       " 'num_op_var40_efect_ult3',\n",
       " 'num_op_var41_efect_ult1',\n",
       " 'num_op_var39_efect_ult1',\n",
       " 'num_reemb_var13_ult1',\n",
       " 'num_reemb_var17_hace3',\n",
       " 'num_reemb_var17_ult1',\n",
       " 'num_reemb_var33_ult1',\n",
       " 'num_sal_var16_ult1',\n",
       " 'num_var43_emit_ult1',\n",
       " 'num_trasp_var11_ult1',\n",
       " 'num_trasp_var17_in_hace3',\n",
       " 'num_trasp_var17_in_ult1',\n",
       " 'num_trasp_var17_out_ult1',\n",
       " 'num_trasp_var33_in_hace3',\n",
       " 'num_trasp_var33_in_ult1',\n",
       " 'num_trasp_var33_out_ult1',\n",
       " 'num_venta_var44_hace3',\n",
       " 'num_venta_var44_ult1',\n",
       " 'saldo_medio_var8_hace2',\n",
       " 'saldo_medio_var8_hace3',\n",
       " 'saldo_medio_var8_ult1',\n",
       " 'saldo_medio_var8_ult3',\n",
       " 'saldo_medio_var12_hace2',\n",
       " 'saldo_medio_var12_hace3',\n",
       " 'saldo_medio_var12_ult1',\n",
       " 'saldo_medio_var12_ult3',\n",
       " 'saldo_medio_var13_corto_hace2',\n",
       " 'saldo_medio_var13_corto_hace3',\n",
       " 'saldo_medio_var13_corto_ult1',\n",
       " 'saldo_medio_var13_corto_ult3',\n",
       " 'saldo_medio_var13_largo_hace2',\n",
       " 'saldo_medio_var13_largo_hace3',\n",
       " 'saldo_medio_var13_largo_ult1',\n",
       " 'saldo_medio_var13_largo_ult3',\n",
       " 'saldo_medio_var13_medio_hace2',\n",
       " 'saldo_medio_var13_medio_ult3',\n",
       " 'saldo_medio_var17_hace2',\n",
       " 'saldo_medio_var17_hace3',\n",
       " 'saldo_medio_var17_ult1',\n",
       " 'saldo_medio_var17_ult3',\n",
       " 'saldo_medio_var29_hace2',\n",
       " 'saldo_medio_var29_hace3',\n",
       " 'saldo_medio_var29_ult1',\n",
       " 'saldo_medio_var29_ult3',\n",
       " 'saldo_medio_var33_hace2',\n",
       " 'saldo_medio_var33_hace3',\n",
       " 'saldo_medio_var33_ult1',\n",
       " 'saldo_medio_var33_ult3',\n",
       " 'saldo_medio_var44_hace2',\n",
       " 'saldo_medio_var44_hace3',\n",
       " 'saldo_medio_var44_ult1',\n",
       " 'saldo_medio_var44_ult3']"
      ]
     },
     "execution_count": 25,
     "metadata": {},
     "output_type": "execute_result"
    }
   ],
   "source": [
    "# danh sách các đặc trưng quasi-constant\n",
    "\n",
    "## Requirement 12:\n",
    "## PUT YOUR CODE HERE:\n",
    "\n",
    "sel.features_to_drop_"
   ]
  },
  {
   "cell_type": "code",
   "execution_count": 26,
   "metadata": {
    "id": "SWhKqsL49Tpo",
    "outputId": "e994ad5d-4072-468a-8b24-bad1f22088ed"
   },
   "outputs": [
    {
     "data": {
      "text/html": [
       "<div>\n",
       "<style scoped>\n",
       "    .dataframe tbody tr th:only-of-type {\n",
       "        vertical-align: middle;\n",
       "    }\n",
       "\n",
       "    .dataframe tbody tr th {\n",
       "        vertical-align: top;\n",
       "    }\n",
       "\n",
       "    .dataframe thead th {\n",
       "        text-align: right;\n",
       "    }\n",
       "</style>\n",
       "<table border=\"1\" class=\"dataframe\">\n",
       "  <thead>\n",
       "    <tr style=\"text-align: right;\">\n",
       "      <th></th>\n",
       "      <th>var15</th>\n",
       "      <th>imp_op_var39_comer_ult1</th>\n",
       "      <th>imp_op_var39_comer_ult3</th>\n",
       "      <th>imp_op_var41_comer_ult1</th>\n",
       "      <th>imp_op_var41_comer_ult3</th>\n",
       "      <th>imp_op_var41_efect_ult3</th>\n",
       "      <th>imp_op_var41_ult1</th>\n",
       "      <th>imp_op_var39_efect_ult3</th>\n",
       "      <th>imp_op_var39_ult1</th>\n",
       "      <th>ind_var5</th>\n",
       "      <th>...</th>\n",
       "      <th>num_var43_recib_ult1</th>\n",
       "      <th>num_var45_hace2</th>\n",
       "      <th>num_var45_hace3</th>\n",
       "      <th>num_var45_ult1</th>\n",
       "      <th>num_var45_ult3</th>\n",
       "      <th>saldo_medio_var5_hace2</th>\n",
       "      <th>saldo_medio_var5_hace3</th>\n",
       "      <th>saldo_medio_var5_ult1</th>\n",
       "      <th>saldo_medio_var5_ult3</th>\n",
       "      <th>var38</th>\n",
       "    </tr>\n",
       "  </thead>\n",
       "  <tbody>\n",
       "    <tr>\n",
       "      <th>0</th>\n",
       "      <td>23</td>\n",
       "      <td>0.0</td>\n",
       "      <td>0.0</td>\n",
       "      <td>0.0</td>\n",
       "      <td>0.0</td>\n",
       "      <td>0.0</td>\n",
       "      <td>0.0</td>\n",
       "      <td>0.0</td>\n",
       "      <td>0.0</td>\n",
       "      <td>0</td>\n",
       "      <td>...</td>\n",
       "      <td>0</td>\n",
       "      <td>0</td>\n",
       "      <td>0</td>\n",
       "      <td>0</td>\n",
       "      <td>0</td>\n",
       "      <td>0.00</td>\n",
       "      <td>0.00</td>\n",
       "      <td>0.00</td>\n",
       "      <td>0.00</td>\n",
       "      <td>39205.170000</td>\n",
       "    </tr>\n",
       "    <tr>\n",
       "      <th>1</th>\n",
       "      <td>34</td>\n",
       "      <td>0.0</td>\n",
       "      <td>0.0</td>\n",
       "      <td>0.0</td>\n",
       "      <td>0.0</td>\n",
       "      <td>0.0</td>\n",
       "      <td>0.0</td>\n",
       "      <td>0.0</td>\n",
       "      <td>0.0</td>\n",
       "      <td>0</td>\n",
       "      <td>...</td>\n",
       "      <td>0</td>\n",
       "      <td>0</td>\n",
       "      <td>0</td>\n",
       "      <td>0</td>\n",
       "      <td>0</td>\n",
       "      <td>0.00</td>\n",
       "      <td>88.89</td>\n",
       "      <td>0.00</td>\n",
       "      <td>0.00</td>\n",
       "      <td>49278.030000</td>\n",
       "    </tr>\n",
       "    <tr>\n",
       "      <th>2</th>\n",
       "      <td>23</td>\n",
       "      <td>0.0</td>\n",
       "      <td>0.0</td>\n",
       "      <td>0.0</td>\n",
       "      <td>0.0</td>\n",
       "      <td>0.0</td>\n",
       "      <td>0.0</td>\n",
       "      <td>0.0</td>\n",
       "      <td>0.0</td>\n",
       "      <td>1</td>\n",
       "      <td>...</td>\n",
       "      <td>0</td>\n",
       "      <td>0</td>\n",
       "      <td>0</td>\n",
       "      <td>0</td>\n",
       "      <td>0</td>\n",
       "      <td>3.00</td>\n",
       "      <td>0.18</td>\n",
       "      <td>3.00</td>\n",
       "      <td>2.07</td>\n",
       "      <td>67333.770000</td>\n",
       "    </tr>\n",
       "    <tr>\n",
       "      <th>3</th>\n",
       "      <td>37</td>\n",
       "      <td>195.0</td>\n",
       "      <td>195.0</td>\n",
       "      <td>195.0</td>\n",
       "      <td>195.0</td>\n",
       "      <td>0.0</td>\n",
       "      <td>195.0</td>\n",
       "      <td>0.0</td>\n",
       "      <td>195.0</td>\n",
       "      <td>1</td>\n",
       "      <td>...</td>\n",
       "      <td>0</td>\n",
       "      <td>27</td>\n",
       "      <td>3</td>\n",
       "      <td>18</td>\n",
       "      <td>48</td>\n",
       "      <td>186.09</td>\n",
       "      <td>0.00</td>\n",
       "      <td>91.56</td>\n",
       "      <td>138.84</td>\n",
       "      <td>64007.970000</td>\n",
       "    </tr>\n",
       "    <tr>\n",
       "      <th>4</th>\n",
       "      <td>39</td>\n",
       "      <td>0.0</td>\n",
       "      <td>0.0</td>\n",
       "      <td>0.0</td>\n",
       "      <td>0.0</td>\n",
       "      <td>0.0</td>\n",
       "      <td>0.0</td>\n",
       "      <td>0.0</td>\n",
       "      <td>0.0</td>\n",
       "      <td>0</td>\n",
       "      <td>...</td>\n",
       "      <td>6</td>\n",
       "      <td>0</td>\n",
       "      <td>0</td>\n",
       "      <td>0</td>\n",
       "      <td>0</td>\n",
       "      <td>3.00</td>\n",
       "      <td>0.30</td>\n",
       "      <td>40501.08</td>\n",
       "      <td>13501.47</td>\n",
       "      <td>117310.979016</td>\n",
       "    </tr>\n",
       "  </tbody>\n",
       "</table>\n",
       "<p>5 rows × 57 columns</p>\n",
       "</div>"
      ],
      "text/plain": [
       "   var15  imp_op_var39_comer_ult1  imp_op_var39_comer_ult3  \\\n",
       "0     23                      0.0                      0.0   \n",
       "1     34                      0.0                      0.0   \n",
       "2     23                      0.0                      0.0   \n",
       "3     37                    195.0                    195.0   \n",
       "4     39                      0.0                      0.0   \n",
       "\n",
       "   imp_op_var41_comer_ult1  imp_op_var41_comer_ult3  imp_op_var41_efect_ult3  \\\n",
       "0                      0.0                      0.0                      0.0   \n",
       "1                      0.0                      0.0                      0.0   \n",
       "2                      0.0                      0.0                      0.0   \n",
       "3                    195.0                    195.0                      0.0   \n",
       "4                      0.0                      0.0                      0.0   \n",
       "\n",
       "   imp_op_var41_ult1  imp_op_var39_efect_ult3  imp_op_var39_ult1  ind_var5  \\\n",
       "0                0.0                      0.0                0.0         0   \n",
       "1                0.0                      0.0                0.0         0   \n",
       "2                0.0                      0.0                0.0         1   \n",
       "3              195.0                      0.0              195.0         1   \n",
       "4                0.0                      0.0                0.0         0   \n",
       "\n",
       "   ...  num_var43_recib_ult1  num_var45_hace2  num_var45_hace3  \\\n",
       "0  ...                     0                0                0   \n",
       "1  ...                     0                0                0   \n",
       "2  ...                     0                0                0   \n",
       "3  ...                     0               27                3   \n",
       "4  ...                     6                0                0   \n",
       "\n",
       "   num_var45_ult1  num_var45_ult3  saldo_medio_var5_hace2  \\\n",
       "0               0               0                    0.00   \n",
       "1               0               0                    0.00   \n",
       "2               0               0                    3.00   \n",
       "3              18              48                  186.09   \n",
       "4               0               0                    3.00   \n",
       "\n",
       "   saldo_medio_var5_hace3  saldo_medio_var5_ult1  saldo_medio_var5_ult3  \\\n",
       "0                    0.00                   0.00                   0.00   \n",
       "1                   88.89                   0.00                   0.00   \n",
       "2                    0.18                   3.00                   2.07   \n",
       "3                    0.00                  91.56                 138.84   \n",
       "4                    0.30               40501.08               13501.47   \n",
       "\n",
       "           var38  \n",
       "0   39205.170000  \n",
       "1   49278.030000  \n",
       "2   67333.770000  \n",
       "3   64007.970000  \n",
       "4  117310.979016  \n",
       "\n",
       "[5 rows x 57 columns]"
      ]
     },
     "execution_count": 26,
     "metadata": {},
     "output_type": "execute_result"
    }
   ],
   "source": [
    "X_train_dropconstant.head()"
   ]
  },
  {
   "cell_type": "markdown",
   "metadata": {
    "id": "jBmofDiO9Tpo"
   },
   "source": [
    "## 3.3 Lựa chọn đặc trưng bằng phương pháp Extra Trees Classifier\n",
    "\n",
    "- Chúng ta sẽ sử dụng phương pháp Extra Trees Classifier để lựa chọn các đặc trưng và loại bỏ các đặc trưng còn lại. Về cơ bản thì phương pháp này khá giống với mô hình Random Forest nhưng khác nhau ở chi tiết xây dựng các mô hình cơ sở trong một tập hợp các mô hình."
   ]
  },
  {
   "cell_type": "code",
   "execution_count": 27,
   "metadata": {
    "id": "cwUuuPjUgwp7"
   },
   "outputs": [],
   "source": [
    "from sklearn.ensemble import ExtraTreesClassifier\n",
    "from sklearn.feature_selection import SelectFromModel"
   ]
  },
  {
   "cell_type": "code",
   "execution_count": 28,
   "metadata": {
    "id": "yJIubjMUgm8H",
    "outputId": "2f843efd-5be3-4664-8cfa-ee1131a05634"
   },
   "outputs": [
    {
     "data": {
      "image/png": "[encoded data removed]",
      "text/plain": [
       "<Figure size 1200x800 with 1 Axes>"
      ]
     },
     "metadata": {},
     "output_type": "display_data"
    }
   ],
   "source": [
    "## Requirement 13:\n",
    "## PUT YOUR CODE HERE:\n",
    "\n",
    "## Feature selection\n",
    "clf = ExtraTreesClassifier(random_state=1729)\n",
    "selector = clf.fit(X_train_dropconstant, y_train)\n",
    "\n",
    "# plot most important features\n",
    "feat_imp = pd.Series(clf.feature_importances_, index = X_train_dropconstant.columns.values).sort_values(ascending=False)\n",
    "feat_imp[:40].plot(kind='bar', title='Feature Importances according to ExtraTreesClassifier', figsize=(12, 8))\n",
    "plt.ylabel('Feature Importance Score')\n",
    "plt.subplots_adjust(bottom=0.3)\n",
    "# plt.savefig('1.png')\n",
    "plt.show()\n",
    "\n",
    "# clf.feature_importances_ \n",
    "fs = SelectFromModel(clf, prefit=True)\n",
    "\n",
    "X_train_selected = fs.transform(X_train_dropconstant)\n",
    "X_test_selected = fs.transform(X_test_dropconstant)"
   ]
  },
  {
   "cell_type": "markdown",
   "metadata": {
    "id": "WXw2LOMN9Tpp"
   },
   "source": [
    "# 4.Co dãn các đặc trưng\n",
    "\n",
    "- Như đã đề cập, miền giá trị của một vài đặc trưng là khá lớn, điều này thường không tốt cho mô hình của chúng ta. DO vậy, chúng ta sẽ co dãn các đặc trưng thành các giá trị nằm trong phân phối chuẩn"
   ]
  },
  {
   "cell_type": "code",
   "execution_count": 29,
   "metadata": {
    "id": "b6ckUlrz9Tpp"
   },
   "outputs": [],
   "source": [
    "from sklearn.preprocessing import StandardScaler"
   ]
  },
  {
   "cell_type": "code",
   "execution_count": 30,
   "metadata": {
    "id": "fOaIsU5X9Tpp"
   },
   "outputs": [],
   "source": [
    "## Requirement 14:\n",
    "## PUT YOUR CODE HERE:\n",
    "\n",
    "scaler = StandardScaler()\n",
    "\n",
    "scaler.fit(X_train_selected)\n",
    "\n",
    "X_train_scale = scaler.transform(X_train_selected)\n",
    "X_test_scale = scaler.transform(X_test_selected)"
   ]
  },
  {
   "cell_type": "code",
   "execution_count": 31,
   "metadata": {
    "id": "M0ko5mOd9Tpp",
    "outputId": "67b39c1a-fec8-4c2d-f221-9cda428d818c"
   },
   "outputs": [
    {
     "data": {
      "text/plain": [
       "array([[-7.88248631e-01, -3.72048308e-01, -3.73858948e-01, ...,\n",
       "        -9.01413746e-02, -1.28067142e-01, -4.27182680e-01],\n",
       "       [ 6.07525955e-02, -3.72048308e-01, -3.73858948e-01, ...,\n",
       "        -8.11521737e-02, -1.28067142e-01, -3.72038298e-01],\n",
       "       [-7.88248631e-01, -3.72048308e-01, -3.73858948e-01, ...,\n",
       "        -9.01231717e-02, -1.27814392e-01, -2.73191237e-01],\n",
       "       ...,\n",
       "       [-7.88248631e-01, -3.72048308e-01, -3.73858948e-01, ...,\n",
       "        -9.01413746e-02, -1.27700837e-01, -2.36542515e-01],\n",
       "       [-6.33884772e-01, -3.72048308e-01, -3.73858948e-01, ...,\n",
       "        -8.99654132e-02, -1.27752120e-01, -1.80428318e-01],\n",
       "       [ 9.86935752e-01, -3.72048308e-01, -3.73858948e-01, ...,\n",
       "        -9.01413746e-02, -1.28067142e-01,  4.11519699e-04]])"
      ]
     },
     "execution_count": 31,
     "metadata": {},
     "output_type": "execute_result"
    }
   ],
   "source": [
    "X_train_scale"
   ]
  },
  {
   "cell_type": "markdown",
   "metadata": {
    "id": "m2qLPFXlCHmb"
   },
   "source": [
    "Sau khi xong bước này thì hầu như tập dữ liệu của chúng ta đã sẵn sàng cho việc training, nhưng vẫn còn khá nhiều cách nâng cao hơn để lựa chọn các đặc trưng phù hợp (như được mô tả trong hình dưới). Một trong số có thể kể đến như:\n",
    "\n",
    "- Phương pháp đệ quy\n",
    "\n",
    "- Sử dụng mô hình Decision Tree hay Random Forest\n",
    "\n",
    "- Ma trận tương quan\n",
    "\n",
    "- Các mô hình kiểm định giả thuyết như ANOVA"
   ]
  },
  {
   "cell_type": "markdown",
   "metadata": {
    "id": "mNjkdUpK9Tpq"
   },
   "source": [
    "![FeatureSelection](images/feature_selection.png)"
   ]
  },
  {
   "cell_type": "markdown",
   "metadata": {
    "id": "-xfYhlPl9Tpq"
   },
   "source": [
    "# 5.Huấn luyện mô hình\n",
    "\n",
    "Do đầu ra của bài toán của chúng ta bị mất cân bằng (imbalanced data), mà các mô hình máy học lại thường 'ưa thích' các dữ liệu cân bằng, nên chúng ta phải tìm cách tạo ra một tập dữ liệu cân bằng từ tập dữ liệu gốc để mô hình cho ra dự đoán 'hợp lý' và 'có ý nghĩa' hơn"
   ]
  },
  {
   "cell_type": "markdown",
   "metadata": {
    "id": "orzSjzD19Tpq"
   },
   "source": [
    "## 5.1 Lấy mẫu dữ liệu\n",
    "\n",
    "Ở phần này chúng ta sẽ so sánh ba phương pháp lấy mẫu sau đây, rồi từ đó chọn ra phương pháp tốt nhất có thể cho việc cải tiến mô hình:\n",
    "\n",
    "- Under-sampling\n",
    "\n",
    "- Over-sampling\n",
    "\n",
    "- Kết hợp 2 phương pháp under và over-sampling\n",
    "\n",
    "Việc lấy mẫu được thực hiện bằng các hàm trong thư viện [imblearn](https://imbalanced-learn.org/stable/install.html)"
   ]
  },
  {
   "cell_type": "markdown",
   "metadata": {
    "id": "4Iqzwh9m9Tpq"
   },
   "source": [
    "### 5.1.1 Phương pháp under-sampling\n",
    "\n",
    "Định nghĩa bộ tham số của các phương lấy mẫu, các phương pháp được sử dụng ở phần này bao gồm:\n",
    "\n",
    "- [Random under-sampling](https://imbalanced-learn.org/stable/references/generated/imblearn.under_sampling.RandomUnderSampler.html#imblearn.under_sampling.RandomUnderSampler)\n",
    "\n",
    "- [Edited Nearest Neighbour](https://imbalanced-learn.org/stable/references/generated/imblearn.under_sampling.EditedNearestNeighbours.html#imblearn.under_sampling.EditedNearestNeighbours)\n",
    "\n",
    "- [Tomek’s links](https://imbalanced-learn.org/stable/references/generated/imblearn.under_sampling.TomekLinks.html#imblearn.under_sampling.TomekLinks)\n",
    "\n",
    "- [AllKNN](https://imbalanced-learn.org/stable/references/generated/imblearn.under_sampling.AllKNN.html#imblearn.under_sampling.AllKNN)"
   ]
  },
  {
   "cell_type": "code",
   "execution_count": 32,
   "metadata": {
    "id": "OLIouDTN9Tpq"
   },
   "outputs": [],
   "source": [
    "from imblearn.under_sampling import RandomUnderSampler, EditedNearestNeighbours, TomekLinks, AllKNN"
   ]
  },
  {
   "cell_type": "code",
   "execution_count": 33,
   "metadata": {
    "id": "3ARe9noe9Tpq"
   },
   "outputs": [],
   "source": [
    "## Requirement 15:\n",
    "## PUT YOUR CODE HERE:\n",
    "\n",
    "undersampler_dict = {\n",
    "\n",
    "    'random': RandomUnderSampler(\n",
    "        sampling_strategy='auto',\n",
    "        random_state=0,\n",
    "        replacement=False),\n",
    "\n",
    "    'tomek': TomekLinks(\n",
    "        sampling_strategy='auto',\n",
    "        n_jobs=4),\n",
    "\n",
    "    'enn': EditedNearestNeighbours(\n",
    "        sampling_strategy='auto',\n",
    "        n_neighbors=3,\n",
    "        kind_sel='all',\n",
    "        n_jobs=4),\n",
    "\n",
    "    'allknn': AllKNN(\n",
    "        sampling_strategy='auto',\n",
    "        n_neighbors=3,\n",
    "        kind_sel='all',\n",
    "        n_jobs=4),\n",
    "    \n",
    "}"
   ]
  },
  {
   "cell_type": "markdown",
   "metadata": {
    "id": "PRxVV9Yb9Tpq"
   },
   "source": [
    "### 5.1.2 Phương pháp over-sampling\n",
    "\n",
    "Định nghĩa bộ tham số của các phương lấy mẫu, các phương pháp được sử dụng ở phần này bao gồm:\n",
    "\n",
    "- [SMOTE](https://imbalanced-learn.org/stable/references/generated/imblearn.over_sampling.SMOTE.html#imblearn.over_sampling.SMOTE)\n",
    "\n",
    "- [Borderline SMOTE](https://imbalanced-learn.org/stable/references/generated/imblearn.over_sampling.BorderlineSMOTE.html#imblearn.over_sampling.BorderlineSMOTE)\n",
    "\n",
    "- [Adaptive Synthetic (ADASYN)](https://imbalanced-learn.org/stable/references/generated/imblearn.over_sampling.ADASYN.html#imblearn.over_sampling.ADASYN)"
   ]
  },
  {
   "cell_type": "code",
   "execution_count": 34,
   "metadata": {
    "id": "Lh7NDvos9Tpq"
   },
   "outputs": [],
   "source": [
    "from imblearn.over_sampling import SMOTE, BorderlineSMOTE, ADASYN\n",
    "from sklearn.svm import SVC"
   ]
  },
  {
   "cell_type": "code",
   "execution_count": 35,
   "metadata": {
    "id": "5Bxjsjmn9Tpr"
   },
   "outputs": [],
   "source": [
    "## Requirement 16:\n",
    "## PUT YOUR CODE HERE:\n",
    "\n",
    "oversampler_dict = {\n",
    "\n",
    "    'smote': SMOTE(\n",
    "        sampling_strategy='auto',\n",
    "        random_state=0,\n",
    "        k_neighbors=5,\n",
    "        n_jobs=4),\n",
    "\n",
    "    'border1': BorderlineSMOTE(\n",
    "        sampling_strategy='auto',\n",
    "        random_state=0,\n",
    "        k_neighbors=5,\n",
    "        m_neighbors=10,\n",
    "        kind='borderline-1',\n",
    "        n_jobs=4),\n",
    "\n",
    "    'adasyn': ADASYN(\n",
    "        sampling_strategy='auto',\n",
    "        random_state=0,\n",
    "        n_neighbors=5,\n",
    "        n_jobs=4),\n",
    "\n",
    "}"
   ]
  },
  {
   "cell_type": "markdown",
   "metadata": {
    "id": "Rgc_lNhR9Tpr"
   },
   "source": [
    "### 5.1.3 Kết hợp 2 phương pháp under và over-sampling\n",
    "\n",
    "Định nghĩa bộ tham số của các phương lấy mẫu, các phương pháp được sử dụng ở phần này bao gồm:\n",
    "\n",
    "- [SMOTEENN](https://imbalanced-learn.org/stable/references/generated/imblearn.combine.SMOTEENN.html#)\n",
    "\n",
    "- [SMOTETomek](https://imbalanced-learn.org/stable/references/generated/imblearn.combine.SMOTETomek.html)"
   ]
  },
  {
   "cell_type": "code",
   "execution_count": 36,
   "metadata": {
    "id": "Oc7Ztq_L9Tpr"
   },
   "outputs": [],
   "source": [
    "from imblearn.combine import SMOTEENN, SMOTETomek"
   ]
  },
  {
   "cell_type": "code",
   "execution_count": 37,
   "metadata": {
    "id": "RGcOMMjF9Tps"
   },
   "outputs": [],
   "source": [
    "## Requirement 17:\n",
    "## PUT YOUR CODE HERE:\n",
    "\n",
    "under_oversampler_dict = {\n",
    "    \n",
    "    'smenn': SMOTEENN(\n",
    "        sampling_strategy='auto',\n",
    "        random_state=0,\n",
    "        smote=SMOTE(sampling_strategy='auto', random_state=0, k_neighbors=5),\n",
    "        enn=EditedNearestNeighbours(\n",
    "            sampling_strategy='auto', n_neighbors=3, kind_sel='all'),\n",
    "        n_jobs=4),\n",
    "\n",
    "    'smtomek': SMOTETomek(\n",
    "        sampling_strategy='auto',\n",
    "        random_state=0,\n",
    "        smote=SMOTE(sampling_strategy='auto', random_state=0, k_neighbors=5),\n",
    "        tomek=TomekLinks(sampling_strategy='all'),\n",
    "        n_jobs=4),\n",
    "    \n",
    "}"
   ]
  },
  {
   "cell_type": "markdown",
   "metadata": {
    "id": "qc52Fiyu9Tpu"
   },
   "source": [
    "## 5.2 Huấn luyện các mô hình cơ sở\n",
    "\n",
    "Ở phần này chúng ta sẽ so sánh kết quả của một vài mô hình cơ sở để tìm ra phương pháp lấy mẫu nào là tốt nhất dựa trên các phương pháp đã liệt kê trước đó, việc so sánh được dựa trên chỉ số **ROC-AUC**"
   ]
  },
  {
   "cell_type": "markdown",
   "metadata": {
    "id": "iF6w92e8Jdbk"
   },
   "source": [
    "- Định nghĩa hàm số trả về kết quả so sánh của các phương pháp lấy mẫu, chúng ta cũng sẽ trả về kết quả của tập dữ liệu gốc để làm chuẩn so sánh"
   ]
  },
  {
   "cell_type": "code",
   "execution_count": 38,
   "metadata": {
    "id": "wBogb3v49Tpt"
   },
   "outputs": [],
   "source": [
    "from sklearn.metrics import roc_auc_score\n",
    "\n",
    "## Requirement 18:\n",
    "## PUT YOUR CODE HERE:\n",
    "\n",
    "def run_models(model, X_train, y_train, undersampler_dict, oversampler_dict, under_oversampler_dict):\n",
    "    \n",
    "    results_dict = {}\n",
    "    clf = model\n",
    "    \n",
    "    # full data\n",
    "    \n",
    "    clf.fit(X_train, y_train)\n",
    "    y_pred = clf.predict_proba(X_train)\n",
    "    roc = roc_auc_score(y_train, y_pred[:, 1])\n",
    "    \n",
    "    results_dict['full_data'] = roc\n",
    "    \n",
    "    # under-sampling\n",
    "    for sampler in undersampler_dict.keys():\n",
    "        \n",
    "        # resample\n",
    "        X_resampled, y_resampled = undersampler_dict[sampler].fit_resample(X_train, y_train)\n",
    "        \n",
    "        # evaluate performance\n",
    "        clf.fit(X_resampled, y_resampled)\n",
    "        y_pred = clf.predict_proba(X_resampled)\n",
    "        roc = roc_auc_score(y_resampled, y_pred[:, 1])\n",
    "        \n",
    "        #store results\n",
    "        results_dict[sampler] = roc\n",
    "    \n",
    "    # over-sampling\n",
    "    for sampler in oversampler_dict.keys():\n",
    "\n",
    "        # resample\n",
    "        X_resampled, y_resampled = oversampler_dict[sampler].fit_resample(X_train, y_train)\n",
    "        \n",
    "        # evaluate performance\n",
    "        clf.fit(X_resampled, y_resampled)\n",
    "        y_pred = clf.predict_proba(X_resampled)\n",
    "        roc = roc_auc_score(y_resampled, y_pred[:, 1])\n",
    "        \n",
    "        #store results\n",
    "        results_dict[sampler] = roc\n",
    "    \n",
    "    # under + over-sampling\n",
    "    for sampler in under_oversampler_dict.keys():\n",
    "\n",
    "        # resample\n",
    "        X_resampled, y_resampled = under_oversampler_dict[sampler].fit_resample(X_train, y_train)\n",
    "        \n",
    "        # evaluate performance\n",
    "        clf.fit(X_resampled, y_resampled)\n",
    "        y_pred = clf.predict_proba(X_resampled)\n",
    "        roc = roc_auc_score(y_resampled, y_pred[:, 1])\n",
    "        \n",
    "        #store results\n",
    "        results_dict[sampler] = roc\n",
    "        \n",
    "    return results_dict"
   ]
  },
  {
   "cell_type": "markdown",
   "metadata": {
    "id": "360jR8uRoVmJ"
   },
   "source": [
    "<details><summary> Hint </summary>\n",
    "\n",
    "Using ```roc_auc_score()```\n",
    "\n",
    "</details>"
   ]
  },
  {
   "cell_type": "markdown",
   "metadata": {
    "id": "hZvpMt8OJjCD"
   },
   "source": [
    "Load các mô hình cơ bản"
   ]
  },
  {
   "cell_type": "code",
   "execution_count": 39,
   "metadata": {
    "id": "e-e4VPdP9Tpu"
   },
   "outputs": [],
   "source": [
    "from sklearn.linear_model import LogisticRegression\n",
    "from sklearn.neighbors import KNeighborsClassifier\n",
    "from sklearn.tree import DecisionTreeClassifier\n",
    "from sklearn.neural_network import MLPClassifier\n",
    "from sklearn.ensemble import RandomForestClassifier"
   ]
  },
  {
   "cell_type": "markdown",
   "metadata": {
    "id": "SSezXqFlJlNu"
   },
   "source": [
    "### 5.2.1 Logistic Regression"
   ]
  },
  {
   "cell_type": "code",
   "execution_count": 40,
   "metadata": {
    "id": "bv_4AMpl9Tpu",
    "outputId": "fd33891a-2a41-40e4-cdf2-796b729b9081"
   },
   "outputs": [
    {
     "data": {
      "image/png": "[encoded data removed]",
      "text/plain": [
       "<Figure size 1000x800 with 1 Axes>"
      ]
     },
     "metadata": {},
     "output_type": "display_data"
    },
    {
     "name": "stdout",
     "output_type": "stream",
     "text": [
      "{'full_data': 0.7343989367894639, 'random': 0.734753644536555, 'tomek': 0.7385826983647616, 'enn': 0.757163989336626, 'allknn': 0.7613348008977443, 'smote': 0.743270032908887, 'border1': 0.8179468659798189, 'adasyn': 0.7336669005158041, 'smenn': 0.7702267273054354, 'smtomek': 0.7543454150766122}\n"
     ]
    }
   ],
   "source": [
    "## Requirement 19:\n",
    "## PUT YOUR CODE HERE:\n",
    "\n",
    "model = LogisticRegression()\n",
    "results = run_models(model, X_train_scale, y_train, undersampler_dict, oversampler_dict, under_oversampler_dict)\n",
    "\n",
    "plt.figure(figsize=(10, 8))\n",
    "pd.Series(results).plot.bar()\n",
    "plt.ylabel('roc-auc')\n",
    "plt.ylim(0, 1)\n",
    "plt.axhline(results['full_data'], color='r')\n",
    "plt.show()\n",
    "\n",
    "print(results)"
   ]
  },
  {
   "cell_type": "markdown",
   "metadata": {
    "id": "UG-cX5w4J6sl"
   },
   "source": [
    "### 5.2.2 K-Nearest Neighbors vote"
   ]
  },
  {
   "cell_type": "code",
   "execution_count": 41,
   "metadata": {
    "id": "-Ltpx6dp9Tpv",
    "outputId": "b5480ee1-165a-4812-cb21-73be25a429d2"
   },
   "outputs": [
    {
     "data": {
      "image/png": "[encoded data removed]",
      "text/plain": [
       "<Figure size 1000x800 with 1 Axes>"
      ]
     },
     "metadata": {},
     "output_type": "display_data"
    },
    {
     "name": "stdout",
     "output_type": "stream",
     "text": [
      "{'full_data': 0.9387398250659176, 'random': 0.9084937949156859, 'tomek': 0.9467489579392894, 'enn': 0.9618732444632542, 'allknn': 0.9498622126552779, 'smote': 0.9519115380765675, 'border1': 0.9497696210090386, 'adasyn': 0.9495954081198597, 'smenn': 0.9997467130636982, 'smtomek': 0.9560200030129373}\n"
     ]
    }
   ],
   "source": [
    "## Requirement 20:\n",
    "## PUT YOUR CODE HERE:\n",
    "\n",
    "model = KNeighborsClassifier(n_neighbors=2)\n",
    "results = run_models(model, X_train_scale, y_train, undersampler_dict, oversampler_dict, under_oversampler_dict)\n",
    "\n",
    "plt.figure(figsize=(10, 8))\n",
    "pd.Series(results).plot.bar()\n",
    "plt.ylabel('roc-auc')\n",
    "plt.ylim(0, 1)\n",
    "plt.axhline(results['full_data'], color='r')\n",
    "plt.show()\n",
    "\n",
    "print(results)"
   ]
  },
  {
   "cell_type": "markdown",
   "metadata": {
    "id": "M5BojgQNKBTs"
   },
   "source": [
    "### 5.2.3 Decision Tree"
   ]
  },
  {
   "cell_type": "code",
   "execution_count": 42,
   "metadata": {
    "id": "pffwDxZU9Tpv",
    "outputId": "89af79a6-bf02-4f77-fe99-81c7b6d35831"
   },
   "outputs": [
    {
     "data": {
      "image/png": "[encoded data removed]",
      "text/plain": [
       "<Figure size 1000x800 with 1 Axes>"
      ]
     },
     "metadata": {},
     "output_type": "display_data"
    },
    {
     "name": "stdout",
     "output_type": "stream",
     "text": [
      "{'full_data': 0.9988013983929777, 'random': 0.9992991870968198, 'tomek': 0.9987768044765191, 'enn': 0.9993333065584151, 'allknn': 0.9988938154667347, 'smote': 0.9991835857525474, 'border1': 0.9993537320987851, 'adasyn': 0.9991376254442044, 'smenn': 0.9999999827672423, 'smtomek': 0.9990894561134923}\n"
     ]
    }
   ],
   "source": [
    "## Requirement 21:\n",
    "## PUT YOUR CODE HERE:\n",
    "\n",
    "model = DecisionTreeClassifier()\n",
    "results = run_models(model, X_train_scale, y_train, undersampler_dict, oversampler_dict, under_oversampler_dict)\n",
    "\n",
    "plt.figure(figsize=(10, 8))\n",
    "pd.Series(results).plot.bar()\n",
    "plt.ylabel('roc-auc')\n",
    "plt.ylim(0, 1)\n",
    "plt.axhline(results['full_data'], color='r')\n",
    "plt.show()\n",
    "\n",
    "print(results)"
   ]
  },
  {
   "cell_type": "markdown",
   "metadata": {
    "id": "8SM-4s1tdHI4"
   },
   "source": [
    "### 5.2.4 Random Forest"
   ]
  },
  {
   "cell_type": "code",
   "execution_count": 43,
   "metadata": {
    "id": "b_gYAu_R9Tpw",
    "outputId": "27601f05-cd9b-46f9-d292-a238645e5fc5"
   },
   "outputs": [
    {
     "data": {
      "image/png": "[encoded data removed]",
      "text/plain": [
       "<Figure size 1000x800 with 1 Axes>"
      ]
     },
     "metadata": {},
     "output_type": "display_data"
    },
    {
     "name": "stdout",
     "output_type": "stream",
     "text": [
      "{'full_data': 0.9962016044287677, 'random': 0.9961681858130093, 'tomek': 0.9964213502522477, 'enn': 0.9973945239104064, 'allknn': 0.9968591549697725, 'smote': 0.9979463338935537, 'border1': 0.9981506436176936, 'adasyn': 0.9980144163875693, 'smenn': 0.999994777660285, 'smtomek': 0.9982784487686104}\n"
     ]
    }
   ],
   "source": [
    "## Requirement 22:\n",
    "## PUT YOUR CODE HERE:\n",
    "\n",
    "model = RandomForestClassifier()\n",
    "results = run_models(model, X_train_scale, y_train, undersampler_dict, oversampler_dict, under_oversampler_dict)\n",
    "\n",
    "plt.figure(figsize=(10, 8))\n",
    "pd.Series(results).plot.bar()\n",
    "plt.ylabel('roc-auc')\n",
    "plt.ylim(0, 1)\n",
    "plt.axhline(results['full_data'], color='r')\n",
    "plt.show()\n",
    "\n",
    "print(results)"
   ]
  },
  {
   "cell_type": "markdown",
   "metadata": {
    "id": "NB90GmHB9Tpx"
   },
   "source": [
    "### 5.2.5 Neural Network"
   ]
  },
  {
   "cell_type": "code",
   "execution_count": 45,
   "metadata": {
    "id": "pYVrfmHx9Tpx",
    "outputId": "307d8c9e-3462-4b9c-ef45-b751b2402cff"
   },
   "outputs": [
    {
     "data": {
      "image/png": "[encoded data removed]",
      "text/plain": [
       "<Figure size 1000x800 with 1 Axes>"
      ]
     },
     "metadata": {},
     "output_type": "display_data"
    },
    {
     "name": "stdout",
     "output_type": "stream",
     "text": [
      "{'full_data': 0.7834738538680905, 'random': 0.7895298928035874, 'tomek': 0.7910324926886236, 'enn': 0.8084893108823621, 'allknn': 0.8201657571732366, 'smote': 0.807537950689609, 'border1': 0.8801997803970681, 'adasyn': 0.7961012782889719, 'smenn': 0.8277147490164131, 'smtomek': 0.8226122877507053}\n"
     ]
    }
   ],
   "source": [
    "## Requirement 23:\n",
    "## PUT YOUR CODE HERE:\n",
    "\n",
    "model = MLPClassifier(hidden_layer_sizes=(10, 5, ), activation='logistic', max_iter=300)\n",
    "results = run_models(model, X_train_scale, y_train, undersampler_dict, oversampler_dict, under_oversampler_dict)\n",
    "\n",
    "plt.figure(figsize=(10, 8))\n",
    "pd.Series(results).plot.bar()\n",
    "plt.ylabel('roc-auc')\n",
    "plt.ylim(0, 1)\n",
    "plt.axhline(results['full_data'], color='r')\n",
    "plt.show()\n",
    "\n",
    "print(results)"
   ]
  },
  {
   "cell_type": "markdown",
   "metadata": {
    "id": "ZTQ0EElBMZp2"
   },
   "source": [
    "### Kết quả (1)\n",
    "\n",
    "| Model | Phương pháp lấy mẫu có ROC-AUC cao nhất |\n",
    "| --- | ----------- |\n",
    "| Logistic Regression | Borderline |\n",
    "| KNN | SMENN  |\n",
    "| Decision Tree | SMENN  |\n",
    "| Random Forest | SMENN  |\n",
    "| Neural Network | Borderline  |"
   ]
  },
  {
   "cell_type": "markdown",
   "metadata": {
    "id": "IzGtl3SPKT1_"
   },
   "source": [
    "**Kết quả:**\n",
    "\n",
    "- Dựa trên các kết quả thu được, có thể thấy rõ ràng phương pháp lấy mẫu có cho ra kết quả tốt hay không còn phụ thuộc vào việc mô hình chúng ta đang sử dụng là mô hình nào, không có một phương pháp lấy mẫu nào là tốt nhất cho tất cả các mô hình."
   ]
  },
  {
   "cell_type": "markdown",
   "metadata": {
    "id": "vxIJWytM9Tpv"
   },
   "source": [
    "## 5.3 Các phương pháp kết hợp mô hình\n",
    "\n",
    "Ở phần này chúng ta sẽ thực hiện các phương pháp kết hợp mô hình để cải thiện kết quả."
   ]
  },
  {
   "cell_type": "markdown",
   "metadata": {
    "id": "boYpsiXjLXkk"
   },
   "source": [
    "- Thực hiện việc lấy mẫu dữ liệu với phương pháp **Borderline SMOTE** (do cách lấy mẫu này cho ra kết quả khá tốt trên các mô hình đơn lẻ ở phần trước)"
   ]
  },
  {
   "cell_type": "code",
   "execution_count": 44,
   "metadata": {
    "id": "_6xV72Tm9Tpv"
   },
   "outputs": [],
   "source": [
    "## Requirement 24:\n",
    "## PUT YOUR CODE HERE:\n",
    "\n",
    "sampler = BorderlineSMOTE(\n",
    "            sampling_strategy='auto',\n",
    "            random_state=0,\n",
    "            k_neighbors=5,\n",
    "            m_neighbors=10,\n",
    "            kind='borderline-1',\n",
    "            n_jobs=4)\n",
    "\n",
    "X_resampled, y_resampled = sampler.fit_resample(X_train_scale, y_train)"
   ]
  },
  {
   "cell_type": "markdown",
   "metadata": {
    "id": "XMkObjNIL3Ln"
   },
   "source": [
    "- Định nghĩa các mô hình ensemble"
   ]
  },
  {
   "cell_type": "code",
   "execution_count": 47,
   "metadata": {},
   "outputs": [
    {
     "name": "stdout",
     "output_type": "stream",
     "text": [
      "Collecting xgboost\n",
      "  Downloading xgboost-2.0.3-py3-none-win_amd64.whl (99.8 MB)\n",
      "     ---------------------------------------- 99.8/99.8 MB 1.9 MB/s eta 0:00:00\n",
      "Requirement already satisfied: scipy in c:\\users\\bang\\anaconda3\\lib\\site-packages (from xgboost) (1.9.1)\n",
      "Requirement already satisfied: numpy in c:\\users\\bang\\anaconda3\\lib\\site-packages (from xgboost) (1.21.5)\n",
      "Installing collected packages: xgboost\n",
      "Successfully installed xgboost-2.0.3\n"
     ]
    }
   ],
   "source": [
    "!pip install xgboost"
   ]
  },
  {
   "cell_type": "code",
   "execution_count": 61,
   "metadata": {
    "id": "ZawqmlfA9Tpv"
   },
   "outputs": [],
   "source": [
    "from xgboost import XGBClassifier\n",
    "from sklearn.ensemble import BaggingClassifier, AdaBoostClassifier, GradientBoostingClassifier, StackingClassifier\n",
    "from sklearn.naive_bayes import GaussianNB"
   ]
  },
  {
   "cell_type": "markdown",
   "metadata": {
    "id": "QQWLOeXu9Tpw"
   },
   "source": [
    "### 5.3.2 Bagging\n",
    "\n",
    "Các mô hình được sử dụng ở phần này là:"
   ]
  },
  {
   "cell_type": "markdown",
   "metadata": {
    "id": "iL4HHrgs6Uh5"
   },
   "source": [
    "- Bagging với Decision Tree"
   ]
  },
  {
   "cell_type": "code",
   "execution_count": 49,
   "metadata": {
    "id": "DyUIAewJ9Tpw",
    "outputId": "3b86dcfb-8591-4852-cc66-bb8c57edd21f"
   },
   "outputs": [
    {
     "data": {
      "text/plain": [
       "0.9978456299055423"
      ]
     },
     "execution_count": 49,
     "metadata": {},
     "output_type": "execute_result"
    }
   ],
   "source": [
    "## Requirement 25:\n",
    "## PUT YOUR CODE HERE:\n",
    "\n",
    "model = BaggingClassifier(base_estimator=DecisionTreeClassifier())\n",
    "\n",
    "model.fit(X_resampled, y_resampled)\n",
    "y_pred = model.predict_proba(X_resampled)\n",
    "roc_auc_score(y_resampled, y_pred[:, 1])"
   ]
  },
  {
   "cell_type": "markdown",
   "metadata": {
    "id": "qznsQcDt6Uh5"
   },
   "source": [
    "- Lưu kết quả dự đoán trên tập test của mô hình này vào file CSV để submit kết quả lên Kaggle"
   ]
  },
  {
   "cell_type": "code",
   "execution_count": 50,
   "metadata": {
    "id": "oYtkoY8P6Uh5"
   },
   "outputs": [],
   "source": [
    "probs = model.predict_proba(X_test_scale)\n",
    "\n",
    "submission = pd.DataFrame({\"ID\":test_id, \"TARGET\": probs[:,1]})\n",
    "submission.to_csv(\"bagging_gaussian_submission.csv\", index=False)"
   ]
  },
  {
   "cell_type": "markdown",
   "metadata": {
    "id": "cbsB04pm6Uh6"
   },
   "source": [
    "- Bagging với Logistic Regression"
   ]
  },
  {
   "cell_type": "code",
   "execution_count": 52,
   "metadata": {
    "id": "6wobzilmdYZt",
    "outputId": "0c6ef2bc-ca44-4f1e-db18-9936896c823d"
   },
   "outputs": [
    {
     "data": {
      "text/plain": [
       "0.8179431469924293"
      ]
     },
     "execution_count": 52,
     "metadata": {},
     "output_type": "execute_result"
    }
   ],
   "source": [
    "## Requirement 26:\n",
    "## PUT YOUR CODE HERE:\n",
    "\n",
    "model = BaggingClassifier(base_estimator=LogisticRegression())\n",
    "\n",
    "model.fit(X_resampled, y_resampled)\n",
    "y_pred = model.predict_proba(X_resampled)\n",
    "roc_auc_score(y_resampled, y_pred[:, 1])"
   ]
  },
  {
   "cell_type": "markdown",
   "metadata": {
    "id": "puRt8sOM6Uh6"
   },
   "source": [
    "Lưu kết quả dự đoán trên tập test của mô hình này vào file CSV để submit kết quả lên Kaggle"
   ]
  },
  {
   "cell_type": "code",
   "execution_count": 53,
   "metadata": {
    "id": "s7Y3PD5W6Uh6"
   },
   "outputs": [],
   "source": [
    "## Requirement 27:\n",
    "## PUT YOUR CODE HERE:\n",
    "\n",
    "probs = model.predict_proba(X_test_scale)\n",
    "\n",
    "submission = pd.DataFrame({\"ID\":test_id, \"TARGET\": probs[:,1]})\n",
    "submission.to_csv(\"bagging_logistic_submission.csv\", index=False)"
   ]
  },
  {
   "cell_type": "markdown",
   "metadata": {
    "id": "TwRDyPET9Tpw"
   },
   "source": [
    "### 5.3.2 Boosting\n",
    "\n",
    "Các mô hình được sử dụng ở phần này là:\n",
    "\n",
    "- AdaBoost\n",
    "\n",
    "- GradientBoost\n",
    "\n",
    "- XGBoost"
   ]
  },
  {
   "cell_type": "markdown",
   "metadata": {
    "id": "7k70Ge00fPhd"
   },
   "source": [
    "- AdaBoost"
   ]
  },
  {
   "cell_type": "code",
   "execution_count": 54,
   "metadata": {
    "id": "SuZqXfib9Tpw",
    "outputId": "0e17a1de-aaa8-4440-ac54-3f9fe93cdae2"
   },
   "outputs": [
    {
     "data": {
      "text/plain": [
       "0.8968799621234087"
      ]
     },
     "execution_count": 54,
     "metadata": {},
     "output_type": "execute_result"
    }
   ],
   "source": [
    "## Requirement 28:\n",
    "## PUT YOUR CODE HERE:\n",
    "\n",
    "model = AdaBoostClassifier()\n",
    "\n",
    "model.fit(X_resampled, y_resampled)\n",
    "y_pred = model.predict_proba(X_resampled)\n",
    "roc_auc_score(y_resampled, y_pred[:, 1])"
   ]
  },
  {
   "cell_type": "markdown",
   "metadata": {
    "id": "XtHrq3OCfGEL"
   },
   "source": [
    "- Lưu kết quả dự đoán trên tập test của mô hình này vào file CSV để submit kết quả lên Kaggle"
   ]
  },
  {
   "cell_type": "code",
   "execution_count": 55,
   "metadata": {
    "id": "SE4Dq6f2fDlp"
   },
   "outputs": [],
   "source": [
    "## Requirement 29:\n",
    "## PUT YOUR CODE HERE:\n",
    "\n",
    "probs = model.predict_proba(X_test_scale)\n",
    "\n",
    "submission = pd.DataFrame({\"ID\":test_id, \"TARGET\": probs[:,1]})\n",
    "submission.to_csv(\"adaboost_submission.csv\", index=False)"
   ]
  },
  {
   "cell_type": "markdown",
   "metadata": {
    "id": "xgdd57d2fSrT"
   },
   "source": [
    "- GradientBoosting"
   ]
  },
  {
   "cell_type": "code",
   "execution_count": 56,
   "metadata": {
    "id": "WN_jdKbU9Tpw",
    "outputId": "ebf5c0d8-1e33-461a-9f11-9d8fb3d1a242"
   },
   "outputs": [
    {
     "data": {
      "text/plain": [
       "0.9200502740537846"
      ]
     },
     "execution_count": 56,
     "metadata": {},
     "output_type": "execute_result"
    }
   ],
   "source": [
    "## Requirement 30:\n",
    "## PUT YOUR CODE HERE:\n",
    "\n",
    "model = GradientBoostingClassifier()\n",
    "\n",
    "model.fit(X_resampled, y_resampled)\n",
    "y_pred = model.predict_proba(X_resampled)\n",
    "roc_auc_score(y_resampled, y_pred[:, 1])"
   ]
  },
  {
   "cell_type": "markdown",
   "metadata": {
    "id": "fj0m2FSze-d1"
   },
   "source": [
    "- Lưu kết quả dự đoán trên tập test của mô hình này vào file CSV để submit kết quả lên Kaggle"
   ]
  },
  {
   "cell_type": "code",
   "execution_count": 57,
   "metadata": {
    "id": "yZubFH4Ye_oY"
   },
   "outputs": [],
   "source": [
    "## Requirement 31:\n",
    "## PUT YOUR CODE HERE:\n",
    "\n",
    "probs = model.predict_proba(X_test_scale)\n",
    "\n",
    "submission = pd.DataFrame({\"ID\":test_id, \"TARGET\": probs[:,1]})\n",
    "submission.to_csv(\"gradientboost_submission.csv\", index=False)"
   ]
  },
  {
   "cell_type": "markdown",
   "metadata": {
    "id": "KHTHZ4BMfUDt"
   },
   "source": [
    "- XGBoost"
   ]
  },
  {
   "cell_type": "code",
   "execution_count": 58,
   "metadata": {
    "id": "D5P20Gfa9Tpw",
    "outputId": "9880ff8c-2bf0-43b4-f551-a30c8fc534ea"
   },
   "outputs": [
    {
     "data": {
      "text/plain": [
       "0.9369055476761254"
      ]
     },
     "execution_count": 58,
     "metadata": {},
     "output_type": "execute_result"
    }
   ],
   "source": [
    "## Requirement 32:\n",
    "## PUT YOUR CODE HERE:\n",
    "\n",
    "model= XGBClassifier(missing=np.nan, max_depth=5, n_estimators=350, \n",
    "                     learning_rate=0.03, nthread=4, subsample=0.95, \n",
    "                     colsample_bytree=0.85, seed=0)\n",
    "model.fit(X_resampled, y_resampled, eval_metric=\"auc\", verbose = False)\n",
    "#            eval_set=[(X_test, y_test)])\n",
    "y_pred = model.predict_proba(X_resampled)\n",
    "roc_auc_score(y_resampled, y_pred[:, 1])"
   ]
  },
  {
   "cell_type": "markdown",
   "metadata": {
    "id": "pa6UH9CVe0Nv"
   },
   "source": [
    "- Lưu kết quả dự đoán trên tập test của mô hình này vào file CSV để submit kết quả lên Kaggle"
   ]
  },
  {
   "cell_type": "code",
   "execution_count": 59,
   "metadata": {
    "id": "WKU6O4Fae04T"
   },
   "outputs": [],
   "source": [
    "## Requirement 33:\n",
    "## PUT YOUR CODE HERE:\n",
    "probs = model.predict_proba(X_test_scale)\n",
    "\n",
    "submission = pd.DataFrame({\"ID\":test_id, \"TARGET\": probs[:,1]})\n",
    "submission.to_csv(\"xgboost_submission.csv\", index=False)"
   ]
  },
  {
   "cell_type": "markdown",
   "metadata": {
    "id": "auyGyn3V9Tpx"
   },
   "source": [
    "### 5.3.3 Stacking\n",
    "Phương pháp stacking ở [đây](https://machinelearningmastery.com/stacking-ensemble-machine-learning-with-python/)"
   ]
  },
  {
   "cell_type": "code",
   "execution_count": 62,
   "metadata": {
    "id": "uvdDssdq9Tpx",
    "outputId": "6fafbe66-87cf-482f-ff2a-db7271ff4810"
   },
   "outputs": [
    {
     "data": {
      "text/plain": [
       "0.9986686596359601"
      ]
     },
     "execution_count": 62,
     "metadata": {},
     "output_type": "execute_result"
    }
   ],
   "source": [
    "## Requirement 34:\n",
    "## PUT YOUR CODE HERE:\n",
    "\n",
    "estimators = [\n",
    "    ('rf', RandomForestClassifier()),\n",
    "    ('gb', GaussianNB()),\n",
    "    ('kn', KNeighborsClassifier(n_neighbors=2))\n",
    "]\n",
    "\n",
    "model = StackingClassifier(estimators=estimators, final_estimator=LogisticRegression())\n",
    "\n",
    "model.fit(X_resampled, y_resampled)\n",
    "y_pred = model.predict_proba(X_resampled)\n",
    "roc_auc_score(y_resampled, y_pred[:, 1])"
   ]
  },
  {
   "cell_type": "markdown",
   "metadata": {
    "id": "-IlgW8eIOood"
   },
   "source": [
    "Lưu kết quả dự đoán trên tập test của mô hình này vào file CSV để submit kết quả lên Kaggle"
   ]
  },
  {
   "cell_type": "code",
   "execution_count": 63,
   "metadata": {
    "id": "udwcJgNJ9Tpy"
   },
   "outputs": [],
   "source": [
    "## Requirement 35:\n",
    "## PUT YOUR CODE HERE:\n",
    "\n",
    "probs = model.predict_proba(X_test_scale)\n",
    "\n",
    "submission = pd.DataFrame({\"ID\":test_id, \"TARGET\": probs[:,1]})\n",
    "submission.to_csv(\"stacking_submission.csv\", index=False)"
   ]
  },
  {
   "cell_type": "markdown",
   "metadata": {
    "id": "Ts1XSMzhgpoE"
   },
   "source": [
    "### 5.3.4 Average\n",
    "\n",
    "Chúng ta sẽ lấy trung bình trọng số của dự đoán của tập hợp các mô hình khác nhau."
   ]
  },
  {
   "cell_type": "markdown",
   "metadata": {
    "id": "FVXUGtX5hDeQ"
   },
   "source": [
    "- Mô hình 1: [RUSBoostClassifier()](https://imbalanced-learn.org/stable/references/generated/imblearn.ensemble.RUSBoostClassifier.html) "
   ]
  },
  {
   "cell_type": "code",
   "execution_count": 64,
   "metadata": {
    "id": "aqF78EhUxRPp"
   },
   "outputs": [],
   "source": [
    "from imblearn.ensemble import RUSBoostClassifier"
   ]
  },
  {
   "cell_type": "code",
   "execution_count": 66,
   "metadata": {
    "id": "QI_aOVNihB8Y",
    "outputId": "74e37c80-e780-4b55-b150-7249d12b261b"
   },
   "outputs": [
    {
     "data": {
      "text/plain": [
       "0.8077916285037959"
      ]
     },
     "execution_count": 66,
     "metadata": {},
     "output_type": "execute_result"
    }
   ],
   "source": [
    "## Requirement 36:\n",
    "## PUT YOUR CODE HERE:\n",
    "\n",
    "model_1 = RUSBoostClassifier(\n",
    "              estimator=None,\n",
    "              n_estimators=20,\n",
    "              learning_rate=1.0,\n",
    "              sampling_strategy='auto',\n",
    "              random_state=2909,\n",
    "          )\n",
    "\n",
    "model_1.fit(X_train_scale, y_train)\n",
    "y_pred = model_1.predict_proba(X_train_scale)\n",
    "roc_auc_score(y_train, y_pred[:, 1])"
   ]
  },
  {
   "cell_type": "code",
   "execution_count": 67,
   "metadata": {
    "id": "haKnaCukhB-l"
   },
   "outputs": [],
   "source": [
    "probs_1 = model_1.predict_proba(X_test_scale)"
   ]
  },
  {
   "cell_type": "markdown",
   "metadata": {
    "id": "uusSz-Crhvb-"
   },
   "source": [
    "- Mô hình 2: [EasyEnsembleClassifier()](https://imbalanced-learn.org/stable/references/generated/imblearn.ensemble.EasyEnsembleClassifier.html)"
   ]
  },
  {
   "cell_type": "code",
   "execution_count": 68,
   "metadata": {
    "id": "7CwFjX8txRPp"
   },
   "outputs": [],
   "source": [
    "from imblearn.ensemble import EasyEnsembleClassifier"
   ]
  },
  {
   "cell_type": "code",
   "execution_count": 69,
   "metadata": {
    "id": "SwfaqjvbhCA8",
    "outputId": "fb297773-4b28-4a2a-dbda-0c8d123199e0"
   },
   "outputs": [
    {
     "data": {
      "text/plain": [
       "0.8166564456833678"
      ]
     },
     "execution_count": 69,
     "metadata": {},
     "output_type": "execute_result"
    }
   ],
   "source": [
    "## Requirement 37:\n",
    "## PUT YOUR CODE HERE:\n",
    "\n",
    "model_2 = EasyEnsembleClassifier(\n",
    "            n_estimators=20,\n",
    "            sampling_strategy='auto',\n",
    "            n_jobs=4,\n",
    "            random_state=2909,\n",
    "          )\n",
    "\n",
    "model_2.fit(X_train_scale, y_train)\n",
    "y_pred = model_2.predict_proba(X_train_scale)\n",
    "roc_auc_score(y_train, y_pred[:, 1])"
   ]
  },
  {
   "cell_type": "code",
   "execution_count": 70,
   "metadata": {
    "id": "yXnVT-w4hCDZ"
   },
   "outputs": [],
   "source": [
    "probs_2 = model_2.predict_proba(X_test_scale)"
   ]
  },
  {
   "cell_type": "markdown",
   "metadata": {
    "id": "_BO7M80FiLxe"
   },
   "source": [
    "- Mô hình 3: [XGBClassifier()](https://xgboost.readthedocs.io/en/latest/python/python_api.html#xgboost.XGBClassifier)"
   ]
  },
  {
   "cell_type": "code",
   "execution_count": 71,
   "metadata": {
    "id": "KEMvKhHkh__f",
    "outputId": "c67bde0c-1cb7-4c50-a8fe-9d1235d0a4d9"
   },
   "outputs": [
    {
     "data": {
      "text/plain": [
       "0.8577663061398534"
      ]
     },
     "execution_count": 71,
     "metadata": {},
     "output_type": "execute_result"
    }
   ],
   "source": [
    "## Requirement 38:\n",
    "## PUT YOUR CODE HERE:\n",
    "\n",
    "model_3 = XGBClassifier(missing=np.nan, max_depth=5, n_estimators=350, \n",
    "                     learning_rate=0.03, nthread=4, subsample=0.95, \n",
    "                     colsample_bytree=0.85, seed=0)\n",
    "\n",
    "model_3.fit(X_train_scale, y_train, eval_metric=\"auc\", verbose = False)\n",
    "y_pred = model_3.predict_proba(X_train_scale)\n",
    "roc_auc_score(y_train, y_pred[:, 1])"
   ]
  },
  {
   "cell_type": "code",
   "execution_count": 72,
   "metadata": {
    "id": "G3VggL4KiexL"
   },
   "outputs": [],
   "source": [
    "probs_3 = model_3.predict_proba(X_test_scale)"
   ]
  },
  {
   "cell_type": "markdown",
   "metadata": {
    "id": "01PI6Sa1if49"
   },
   "source": [
    "- Lấy trung bình kết quả đầu ra"
   ]
  },
  {
   "cell_type": "code",
   "execution_count": 73,
   "metadata": {
    "id": "KVas3iPbih96"
   },
   "outputs": [],
   "source": [
    "## Requirement 39:\n",
    "## PUT YOUR CODE HERE:\n",
    "\n",
    "probs = (0.1*probs_1 + 0.1*probs_2 + 0.8*probs_3)\n",
    "submission = pd.DataFrame({\"ID\":test_id, \"TARGET\": probs[:,1]})\n",
    "submission.to_csv(\"average_submission.csv\", index=False)"
   ]
  },
  {
   "cell_type": "markdown",
   "metadata": {
    "id": "egLhfQLsLaxz"
   },
   "source": [
    "### Kết quả (2)\n",
    "\n",
    "| Model | ROC-AUC |\n",
    "| --- | ----------- |\n",
    "| Bagging với Decision Tree | x |\n",
    "| Bagging với Logistic Regression |   |\n",
    "| AdaBoost |   |\n",
    "| Gradient Boosting |   |\n",
    "| XGBoost |   |\n",
    "| Stacking |   |\n",
    "| Average Ensemble |   |"
   ]
  },
  {
   "cell_type": "markdown",
   "metadata": {
    "id": "j4MNomTF9Tpz"
   },
   "source": [
    "# 6.Save mô hình và submit lên Kaggle\n",
    "\n",
    "- Việc tìm kiếm bộ tham số tối ưu cho mạng Neural mất rất nhiều thời gian, cho nên chúng ta sẽ lưu mô hình đã được tối ưu lại và tái sử dụng nó để tạo ra kết quả submit lên Kaggle"
   ]
  },
  {
   "cell_type": "code",
   "execution_count": 74,
   "metadata": {
    "id": "ldTjHp9P9Tpz"
   },
   "outputs": [],
   "source": [
    "from joblib import dump, load"
   ]
  },
  {
   "cell_type": "markdown",
   "metadata": {
    "id": "HSrH92pWRkdG"
   },
   "source": [
    "- Gọi lại mô hình XGBoost ở phần trước"
   ]
  },
  {
   "cell_type": "code",
   "execution_count": 75,
   "metadata": {
    "id": "_rxEtkyv9Tpz",
    "outputId": "b13c2e5f-75e2-4c78-d4d6-cb92ff72ed2e"
   },
   "outputs": [
    {
     "data": {
      "text/plain": [
       "XGBClassifier(base_score=None, booster=None, callbacks=None,\n",
       "              colsample_bylevel=None, colsample_bynode=None,\n",
       "              colsample_bytree=0.85, device=None, early_stopping_rounds=None,\n",
       "              enable_categorical=False, eval_metric=None, feature_types=None,\n",
       "              gamma=None, grow_policy=None, importance_type=None,\n",
       "              interaction_constraints=None, learning_rate=0.03, max_bin=None,\n",
       "              max_cat_threshold=None, max_cat_to_onehot=None,\n",
       "              max_delta_step=None, max_depth=5, max_leaves=None,\n",
       "              min_child_weight=None, missing=nan, monotone_constraints=None,\n",
       "              multi_strategy=None, n_estimators=350, n_jobs=None, nthread=4,\n",
       "              num_parallel_tree=None, ...)"
      ]
     },
     "execution_count": 75,
     "metadata": {},
     "output_type": "execute_result"
    }
   ],
   "source": [
    "model_3"
   ]
  },
  {
   "cell_type": "markdown",
   "metadata": {
    "id": "0MRrJ7P6RY7K"
   },
   "source": [
    "- Lưu mô hình"
   ]
  },
  {
   "cell_type": "code",
   "execution_count": 76,
   "metadata": {
    "id": "2shDlrZo9Tp0",
    "outputId": "82dcabeb-a047-408c-b80d-f19393e4598a"
   },
   "outputs": [
    {
     "data": {
      "text/plain": [
       "['xgboost.joblib']"
      ]
     },
     "execution_count": 76,
     "metadata": {},
     "output_type": "execute_result"
    }
   ],
   "source": [
    "## Requirement 40:\n",
    "## PUT YOUR CODE HERE:\n",
    "\n",
    "dump(model_3, 'xgboost.joblib') "
   ]
  },
  {
   "cell_type": "markdown",
   "metadata": {
    "id": "hmRjDl2QRcAk"
   },
   "source": [
    "- Load mô hình"
   ]
  },
  {
   "cell_type": "code",
   "execution_count": 77,
   "metadata": {
    "id": "iIZbMJvq9Tp1"
   },
   "outputs": [],
   "source": [
    "## Requirement 41:\n",
    "## PUT YOUR CODE HERE:\n",
    "\n",
    "model_load = load('xgboost.joblib')"
   ]
  },
  {
   "cell_type": "code",
   "execution_count": 78,
   "metadata": {
    "id": "0I7cbKX99Tp3",
    "outputId": "0fbf2c59-7e69-423c-b13a-b30372067b1a"
   },
   "outputs": [
    {
     "data": {
      "text/plain": [
       "0.8577663061398534"
      ]
     },
     "execution_count": 78,
     "metadata": {},
     "output_type": "execute_result"
    }
   ],
   "source": [
    "## Requirement 42:\n",
    "## PUT YOUR CODE HERE:\n",
    "\n",
    "probs = model_load.predict_proba(X_train_scale)\n",
    "\n",
    "roc_auc_score(y_train, probs[:, 1])"
   ]
  },
  {
   "cell_type": "markdown",
   "metadata": {
    "id": "kR8jZOoM6UiA"
   },
   "source": [
    "- Kế tiếp chúng ta sẽ submit các kết quả thu được ở trên lên Kaggle, kết quả trên kaggle cho ra mức **~top 60%**. "
   ]
  },
  {
   "cell_type": "markdown",
   "metadata": {
    "id": "dmXFBpEPRqGS"
   },
   "source": [
    "Dựa vào kết quả submit chúng ta có thể thấy rằng:\n",
    "\n",
    "- Các mô hình cho ra kết quả rất tốt trên tập huấn luyện nhưng đôi khi lại cho ra kết quả không tốt trong thực tế, đó là hiện tượng **Quá Khớp (Overfitting)**\n",
    "\n",
    "- Việc xác định mô hình nào tốt hơn phụ thuộc vào rất nhiều yếu tố, trong đó có sự ảnh hưởng của việc xử lý dữ liệu trước khi đưa vào huấn luyện\n",
    "\n",
    "- Đối với bài toán này, các mô hình Boosting cho ra kết quả vượt trội hơn so với các phương pháp kết hợp mô hình khác. "
   ]
  },
  {
   "cell_type": "markdown",
   "metadata": {
    "id": "EUNGjwjb9Tp3"
   },
   "source": [
    "# 7.Phần Nâng cao - Cải tiến mô hình\n",
    "\n",
    "\n",
    "- Thay đổi phương pháp lựa chọn đặc trưng để chọn ra bộ đặc trưng tốt hơn\n",
    "\n",
    "- Sử dụng phương pháp khác để xử lý vấn đề mất cân bằng dữ liệu\n",
    "\n",
    "- Sử dụng các mô hình học máy khác hoặc các kỹ thuật kết hợp mô hình nâng cao \n",
    "\n",
    "- Tập trung vào việc cải tiến các mô hình Boosting\n",
    "\n",
    "- Tinh chỉnh các tham số của mô hình\n",
    "\n",
    "- Sử dụng các kỹ thuật K-Fold hoặc chia nhỏ tập train để tránh hiện tượng Overfitting"
   ]
  },
  {
   "cell_type": "markdown",
   "metadata": {
    "id": "C8NFoaQP9Tp4"
   },
   "source": [
    "## 7.1 Kết quả submit trên Kaggle"
   ]
  },
  {
   "cell_type": "markdown",
   "metadata": {
    "id": "oFlNZHPD9Tp4"
   },
   "source": [
    "![Submission](images/submissions.png)"
   ]
  },
  {
   "cell_type": "code",
   "execution_count": null,
   "metadata": {},
   "outputs": [],
   "source": []
  }
 ],
 "metadata": {
  "colab": {
   "collapsed_sections": [],
   "name": "asm2.ipynb",
   "provenance": [],
   "toc_visible": true
  },
  "kernelspec": {
   "display_name": "Python [conda env:base] *",
   "language": "python",
   "name": "conda-base-py"
  },
  "language_info": {
   "codemirror_mode": {
    "name": "ipython",
    "version": 3
   },
   "file_extension": ".py",
   "mimetype": "text/x-python",
   "name": "python",
   "nbconvert_exporter": "python",
   "pygments_lexer": "ipython3",
   "version": "3.12.7"
  }
 },
 "nbformat": 4,
 "nbformat_minor": 4
}
